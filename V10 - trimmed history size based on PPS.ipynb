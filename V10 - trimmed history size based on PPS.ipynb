{
 "cells": [
  {
   "cell_type": "code",
   "execution_count": 1,
   "metadata": {},
   "outputs": [],
   "source": [
    "from __future__ import absolute_import, division, print_function, unicode_literals\n",
    "import functools\n",
    "from IPython.display import Image, clear_output\n",
    "\n",
    "import matplotlib.pyplot as plt\n",
    "from sklearn.preprocessing import StandardScaler, MinMaxScaler\n",
    "import numpy as np\n",
    "import tensorflow as tf\n",
    "import pandas as pd\n",
    "from data_info import *\n",
    "from preprocessing_helpers import *\n",
    "from datetime import datetime\n",
    "%matplotlib inline\n",
    "pd.set_option(\"display.precision\", 2)\n",
    "tf.random.set_seed(42)"
   ]
  },
  {
   "cell_type": "code",
   "execution_count": 17,
   "metadata": {},
   "outputs": [],
   "source": [
    "new_iq_norm = [\n",
    "                'precipitation_amt_mm',\n",
    "                'reanalysis_air_temp_k',\n",
    "                'reanalysis_avg_temp_k',\n",
    "                'reanalysis_dew_point_temp_k',\n",
    "                'reanalysis_max_air_temp_k',\n",
    "                'reanalysis_min_air_temp_k',\n",
    "                'reanalysis_precip_amt_kg_per_m2',\n",
    "                'reanalysis_relative_humidity_percent',\n",
    "                'reanalysis_sat_precip_amt_mm',\n",
    "                'reanalysis_specific_humidity_g_per_kg',\n",
    "                'reanalysis_tdtr_k',\n",
    "                'station_avg_temp_c',\n",
    "                'station_diur_temp_rng_c',\n",
    "                'station_max_temp_c',\n",
    "                'station_min_temp_c',\n",
    "                'station_precip_mm',\n",
    "]\n",
    "new_iq_scale = [\n",
    "                 'weekofyear',\n",
    "]\n",
    "\n",
    "extra_iq_cols = [\n",
    "]\n",
    "new_sj_norm = [\n",
    "                'precipitation_amt_mm',\n",
    "                'reanalysis_air_temp_k',\n",
    "                'reanalysis_avg_temp_k',\n",
    "                'reanalysis_dew_point_temp_k',\n",
    "                'reanalysis_max_air_temp_k',\n",
    "                'reanalysis_min_air_temp_k',\n",
    "                'reanalysis_precip_amt_kg_per_m2',\n",
    "                'reanalysis_relative_humidity_percent',\n",
    "                'reanalysis_sat_precip_amt_mm',\n",
    "                'reanalysis_specific_humidity_g_per_kg',\n",
    "                'reanalysis_tdtr_k',\n",
    "                'station_avg_temp_c',\n",
    "                'station_diur_temp_rng_c',\n",
    "                'station_max_temp_c',\n",
    "                'station_min_temp_c',\n",
    "                'station_precip_mm',\n",
    "]\n",
    "new_sj_scale = [\n",
    "                 'weekofyear',\n",
    "]\n",
    "\n",
    "extra_sj_cols = [\n",
    "]\n",
    "new_iq_cols = [LABEL_COLUMN] + CATEGORICAL_COLUMNS + new_iq_norm + new_iq_scale + extra_iq_cols + [DATETIME_COLUMN]\n",
    "new_iq_cols_no_label = CATEGORICAL_COLUMNS + new_iq_norm + new_iq_scale + extra_iq_cols + [DATETIME_COLUMN]\n",
    "new_sj_cols = [LABEL_COLUMN] + CATEGORICAL_COLUMNS + new_sj_norm + new_sj_scale + extra_sj_cols + [DATETIME_COLUMN]\n",
    "new_sj_cols_no_label = CATEGORICAL_COLUMNS + new_sj_norm + new_sj_scale + extra_sj_cols + [DATETIME_COLUMN]\n",
    "\n",
    "\n",
    "sj_col_size = {\n",
    "    'precipitation_amt_mm': 40,\n",
    "    'reanalysis_air_temp_k': 16,\n",
    "    'reanalysis_avg_temp_k': 15,\n",
    "    'reanalysis_dew_point_temp_k': 39,\n",
    "    'reanalysis_max_air_temp_k': 12,\n",
    "    'reanalysis_min_air_temp_k': 21,\n",
    "    'reanalysis_precip_amt_kg_per_m2': 30,\n",
    "    'reanalysis_relative_humidity_percent': 34,\n",
    "    'reanalysis_sat_precip_amt_mm': 40,\n",
    "    'reanalysis_specific_humidity_g_per_kg': 14,\n",
    "    'reanalysis_tdtr_k': 21,\n",
    "    'station_avg_temp_c': 41,\n",
    "    'station_diur_temp_rng_c': 40,\n",
    "    'station_max_temp_c': 37,\n",
    "    'station_min_temp_c': 26,\n",
    "    'station_precip_mm': 32,\n",
    "    'weekofyear': 3\n",
    "}\n",
    "iq_col_size = {\n",
    "    'precipitation_amt_mm': 33,\n",
    "    'reanalysis_air_temp_k': 10,\n",
    "    'reanalysis_avg_temp_k': 4,\n",
    "    'reanalysis_dew_point_temp_k': 6,\n",
    "    'reanalysis_max_air_temp_k': 41,\n",
    "    'reanalysis_min_air_temp_k': 40,\n",
    "    'reanalysis_precip_amt_kg_per_m2': 3,\n",
    "    'reanalysis_relative_humidity_percent': 7,\n",
    "    'reanalysis_sat_precip_amt_mm': 33,\n",
    "    'reanalysis_specific_humidity_g_per_kg': 26,\n",
    "    'reanalysis_tdtr_k': 34,\n",
    "    'station_avg_temp_c': 40,\n",
    "    'station_diur_temp_rng_c': 26,\n",
    "    'station_max_temp_c': 39,\n",
    "    'station_min_temp_c': 25,\n",
    "    'station_precip_mm':10,\n",
    "    'weekofyear': 3\n",
    "}"
   ]
  },
  {
   "cell_type": "code",
   "execution_count": 18,
   "metadata": {},
   "outputs": [
    {
     "data": {
      "text/plain": [
       "['precipitation_amt_mm',\n",
       " 'reanalysis_air_temp_k',\n",
       " 'reanalysis_avg_temp_k',\n",
       " 'reanalysis_dew_point_temp_k',\n",
       " 'reanalysis_max_air_temp_k',\n",
       " 'reanalysis_min_air_temp_k',\n",
       " 'reanalysis_precip_amt_kg_per_m2',\n",
       " 'reanalysis_relative_humidity_percent',\n",
       " 'reanalysis_sat_precip_amt_mm',\n",
       " 'reanalysis_specific_humidity_g_per_kg',\n",
       " 'reanalysis_tdtr_k',\n",
       " 'station_avg_temp_c',\n",
       " 'station_diur_temp_rng_c',\n",
       " 'station_max_temp_c',\n",
       " 'station_min_temp_c',\n",
       " 'station_precip_mm',\n",
       " 'weekofyear']"
      ]
     },
     "execution_count": 18,
     "metadata": {},
     "output_type": "execute_result"
    }
   ],
   "source": [
    "sj_datasets, sj_norm_scale, sj_columns = generate_lstm_data(\n",
    "    train_file, \n",
    "    single_step=True, \n",
    "    history_size=52, \n",
    "    cols=new_sj_cols, \n",
    "    norm_cols=new_sj_norm, \n",
    "    scale_cols=new_sj_scale,\n",
    "    extra_columns=extra_sj_cols,\n",
    "    prepend_with_file=train_file,\n",
    "    train_frac=1.0,\n",
    "    group_by_column=True\n",
    ")\n",
    "sj_train_x, sj_train_y = sj_datasets[0]\n",
    "sj_train_x = np.array(sj_train_x)\n",
    "sj_train_y = np.array(sj_train_y)\n",
    "iq_datasets, iq_norm_scale, iq_columns = generate_lstm_data(\n",
    "    train_file, \n",
    "    single_step=True, \n",
    "    history_size=52, \n",
    "    cols=new_iq_cols, \n",
    "    norm_cols=new_iq_norm, \n",
    "    scale_cols=new_iq_scale,\n",
    "    extra_columns=extra_iq_cols,\n",
    "    prepend_with_file=train_file,\n",
    "    train_frac=1.0,\n",
    "    group_by_column=True\n",
    ")\n",
    "iq_train_x, iq_train_y = iq_datasets[1]\n",
    "iq_train_x = np.array(iq_train_x)\n",
    "iq_train_y = np.array(iq_train_y)\n",
    "sj_columns"
   ]
  },
  {
   "cell_type": "code",
   "execution_count": 19,
   "metadata": {},
   "outputs": [
    {
     "data": {
      "text/plain": [
       "array([-0.5192724 , -0.28312527, -0.01700562, -0.45251543, -0.63053403,\n",
       "       -0.58375874, -0.72226811,  2.63011291, -0.36259787, -0.47408656,\n",
       "       -0.29561382,  0.54225437, -0.4270842 , -0.05969375, -0.14734067,\n",
       "        1.25932422, -0.06559743,  0.12831569, -0.14597828,  0.66464216,\n",
       "        2.46231221,  0.36559815, -0.09329931,  0.36627934,  2.45822504,\n",
       "        2.08311441,  1.50001264, -0.33671251, -0.34715748, -0.34624922,\n",
       "       -0.03812262, -0.57513028, -0.80128658,  0.38966699, -0.80128658,\n",
       "       -0.80128658, -0.44138926, -0.80128658, -0.80128658, -0.80128658,\n",
       "       -0.80128658, -0.39143506, -0.80128658, -0.07944837, -0.80128658,\n",
       "       -0.80128658, -0.80128658, -0.80128658, -0.50791918, -0.66504785,\n",
       "        0.21074012, -0.05833137])"
      ]
     },
     "execution_count": 19,
     "metadata": {},
     "output_type": "execute_result"
    }
   ],
   "source": [
    "sj_train_x[53][0]"
   ]
  },
  {
   "cell_type": "code",
   "execution_count": 20,
   "metadata": {},
   "outputs": [
    {
     "data": {
      "text/plain": [
       "array([-0.80128658, -0.50791918, -0.66504785,  0.21074012, -0.05833137])"
      ]
     },
     "execution_count": 20,
     "metadata": {},
     "output_type": "execute_result"
    }
   ],
   "source": [
    "sj_train_x[53][0][-5:]"
   ]
  },
  {
   "cell_type": "code",
   "execution_count": 21,
   "metadata": {},
   "outputs": [
    {
     "data": {
      "text/plain": [
       "16.0"
      ]
     },
     "execution_count": 21,
     "metadata": {},
     "output_type": "execute_result"
    }
   ],
   "source": [
    "sj_train_y[53]"
   ]
  },
  {
   "cell_type": "code",
   "execution_count": 22,
   "metadata": {},
   "outputs": [
    {
     "name": "stdout",
     "output_type": "stream",
     "text": [
      "(936, 461)\n",
      "(520, 380)\n"
     ]
    }
   ],
   "source": [
    "trimed_sj_x = []\n",
    "trimed_iq_x = []\n",
    "\n",
    "def trim_data(data, columns, size_cols):\n",
    "    trimed_data = []\n",
    "    for row_i in range(data.shape[0]):\n",
    "        new_row = []\n",
    "        for col_i, col in enumerate(columns):\n",
    "            new_row = np.concatenate((new_row, data[row_i][col_i][-size_cols[col]:]), axis=None)\n",
    "\n",
    "        trimed_data.append(new_row)\n",
    "    return np.array(trimed_data)\n",
    "    \n",
    "trimed_sj_x = trim_data(sj_train_x, sj_columns, sj_col_size)\n",
    "trimed_iq_x = trim_data(iq_train_x, iq_columns, iq_col_size)\n",
    "\n",
    "print(trimed_sj_x.shape)\n",
    "print(trimed_iq_x.shape)"
   ]
  },
  {
   "cell_type": "code",
   "execution_count": null,
   "metadata": {},
   "outputs": [],
   "source": []
  },
  {
   "cell_type": "code",
   "execution_count": 23,
   "metadata": {},
   "outputs": [],
   "source": [
    "BATCH_SIZE = 16\n",
    "BUFFER_SIZE = 500\n",
    "train_sj_data_single = tf.data.Dataset.from_tensor_slices((trimed_sj_x, sj_train_y))\n",
    "train_sj_data_single = train_sj_data_single.cache().shuffle(BUFFER_SIZE).batch(BATCH_SIZE).repeat(10)\n",
    "\n",
    "# val_sj_data_single = tf.data.Dataset.from_tensor_slices((sj_val_x, sj_val_y))\n",
    "# val_sj_data_single = val_sj_data_single.batch(BATCH_SIZE).repeat()"
   ]
  },
  {
   "cell_type": "code",
   "execution_count": 24,
   "metadata": {},
   "outputs": [],
   "source": [
    "# Build network with \n",
    "def build_model(optimizer = None, nodes=256, input_shape=trimed_sj_x.shape[-1]):\n",
    "  model = tf.keras.Sequential([\n",
    "    tf.keras.layers.Input(shape=input_shape),\n",
    "    tf.keras.layers.Dense(nodes, activation='selu'),\n",
    "    tf.keras.layers.Dropout(0.5),\n",
    "    tf.keras.layers.Dense(nodes/2, activation='selu'),\n",
    "    tf.keras.layers.Dropout(0.5),\n",
    "    tf.keras.layers.Dense(1)\n",
    "  ])\n",
    "\n",
    "  if not optimizer:\n",
    "    optimizer = tf.keras.optimizers.Adam(learning_rate=0.01, beta_1=0.9, beta_2=0.9999, amsgrad=False)\n",
    "\n",
    "  model.compile(loss='mae',\n",
    "                optimizer=optimizer,\n",
    "                metrics=['mae', 'mse'])\n",
    "  return model"
   ]
  },
  {
   "cell_type": "code",
   "execution_count": 25,
   "metadata": {},
   "outputs": [
    {
     "name": "stdout",
     "output_type": "stream",
     "text": [
      "Train for 200 steps\n",
      "Epoch 1/40\n",
      "200/200 [==============================] - 1s 7ms/step - loss: 23.0796 - mae: 23.0962 - mse: 2437.4932\n",
      "Epoch 2/40\n",
      "200/200 [==============================] - 1s 6ms/step - loss: 19.9561 - mae: 20.0246 - mse: 1963.2388\n",
      "Epoch 3/40\n",
      "200/200 [==============================] - 1s 6ms/step - loss: 18.4496 - mae: 18.4331 - mse: 1567.2140\n",
      "Epoch 4/40\n",
      "198/200 [============================>.] - ETA: 0s - loss: 17.1958 - mae: 17.1697 - mse: 1281.4452\n",
      "Epoch 00004: ReduceLROnPlateau reducing learning rate to 0.007999999821186066.\n",
      "200/200 [==============================] - 1s 6ms/step - loss: 17.1549 - mae: 17.1289 - mse: 1273.9495\n",
      "Epoch 5/40\n",
      "200/200 [==============================] - 1s 6ms/step - loss: 15.1156 - mae: 15.1400 - mse: 931.2686\n",
      "Epoch 6/40\n",
      "200/200 [==============================] - 1s 6ms/step - loss: 15.2556 - mae: 15.2803 - mse: 954.6669\n",
      "Epoch 7/40\n",
      "192/200 [===========================>..] - ETA: 0s - loss: 14.4299 - mae: 14.4132 - mse: 746.9147\n",
      "Epoch 00007: ReduceLROnPlateau reducing learning rate to 0.006399999558925629.\n",
      "200/200 [==============================] - 1s 6ms/step - loss: 14.2946 - mae: 14.2777 - mse: 728.3293\n",
      "Epoch 8/40\n",
      "200/200 [==============================] - 1s 6ms/step - loss: 13.7657 - mae: 13.7561 - mse: 748.6982\n",
      "Epoch 9/40\n",
      "200/200 [==============================] - 1s 6ms/step - loss: 13.4318 - mae: 13.3939 - mse: 699.0139\n",
      "Epoch 10/40\n",
      "198/200 [============================>.] - ETA: 0s - loss: 12.7243 - mae: 12.6846 - mse: 600.8837\n",
      "Epoch 00010: ReduceLROnPlateau reducing learning rate to 0.0051199994981288915.\n",
      "200/200 [==============================] - 1s 6ms/step - loss: 12.6636 - mae: 12.6240 - mse: 596.0732\n",
      "Epoch 11/40\n",
      "200/200 [==============================] - 1s 6ms/step - loss: 12.4802 - mae: 12.4877 - mse: 586.4214\n",
      "Epoch 12/40\n",
      "200/200 [==============================] - 1s 7ms/step - loss: 11.7181 - mae: 11.7704 - mse: 545.1646\n",
      "Epoch 13/40\n",
      "193/200 [===========================>..] - ETA: 0s - loss: 12.1168 - mae: 12.0523 - mse: 596.5416\n",
      "Epoch 00013: ReduceLROnPlateau reducing learning rate to 0.004095999523997307.\n",
      "200/200 [==============================] - 1s 6ms/step - loss: 12.1788 - mae: 12.1194 - mse: 597.9995\n",
      "Epoch 14/40\n",
      "200/200 [==============================] - 1s 6ms/step - loss: 11.9356 - mae: 11.9338 - mse: 556.5134\n",
      "Epoch 15/40\n",
      "200/200 [==============================] - 1s 6ms/step - loss: 11.4911 - mae: 11.4460 - mse: 546.1495\n",
      "Epoch 16/40\n",
      "193/200 [===========================>..] - ETA: 0s - loss: 11.2181 - mae: 11.2264 - mse: 452.0096\n",
      "Epoch 00016: ReduceLROnPlateau reducing learning rate to 0.0032767996191978457.\n",
      "200/200 [==============================] - 1s 6ms/step - loss: 11.3193 - mae: 11.3282 - mse: 463.1378\n",
      "Epoch 17/40\n",
      "200/200 [==============================] - 1s 6ms/step - loss: 11.1284 - mae: 11.1410 - mse: 523.8655\n",
      "Epoch 18/40\n",
      "200/200 [==============================] - 1s 6ms/step - loss: 10.8570 - mae: 10.8588 - mse: 443.3708\n",
      "Epoch 19/40\n",
      "196/200 [============================>.] - ETA: 0s - loss: 10.7019 - mae: 10.7303 - mse: 435.7356\n",
      "Epoch 00019: ReduceLROnPlateau reducing learning rate to 0.0026214396581053737.\n",
      "200/200 [==============================] - 1s 6ms/step - loss: 10.6806 - mae: 10.7082 - mse: 432.1521\n",
      "Epoch 20/40\n",
      "200/200 [==============================] - 1s 5ms/step - loss: 10.5516 - mae: 10.5442 - mse: 452.8057\n",
      "Epoch 21/40\n",
      "200/200 [==============================] - 1s 6ms/step - loss: 10.4532 - mae: 10.4615 - mse: 456.1421\n",
      "Epoch 22/40\n",
      "196/200 [============================>.] - ETA: 0s - loss: 10.5723 - mae: 10.5567 - mse: 440.6039\n",
      "Epoch 00022: ReduceLROnPlateau reducing learning rate to 0.0020971518009901048.\n",
      "200/200 [==============================] - 1s 6ms/step - loss: 10.5296 - mae: 10.5141 - mse: 437.0139\n",
      "Epoch 23/40\n",
      "200/200 [==============================] - 1s 5ms/step - loss: 10.1406 - mae: 10.1672 - mse: 404.1184\n",
      "Epoch 24/40\n",
      "200/200 [==============================] - 1s 6ms/step - loss: 10.0430 - mae: 10.0893 - mse: 400.1507\n",
      "Epoch 25/40\n",
      "191/200 [===========================>..] - ETA: 0s - loss: 10.2718 - mae: 10.2570 - mse: 419.4651\n",
      "Epoch 00025: ReduceLROnPlateau reducing learning rate to 0.0016777213662862779.\n",
      "200/200 [==============================] - 1s 6ms/step - loss: 10.1850 - mae: 10.1702 - mse: 407.7476\n",
      "Epoch 26/40\n",
      "200/200 [==============================] - 1s 6ms/step - loss: 10.0564 - mae: 9.9765 - mse: 388.8766\n",
      "Epoch 27/40\n",
      "200/200 [==============================] - 1s 6ms/step - loss: 10.1551 - mae: 10.1867 - mse: 466.4833\n",
      "Epoch 28/40\n",
      "195/200 [============================>.] - ETA: 0s - loss: 9.5718 - mae: 9.5752 - mse: 385.2050\n",
      "Epoch 00028: ReduceLROnPlateau reducing learning rate to 0.0013421771116554739.\n",
      "200/200 [==============================] - 1s 6ms/step - loss: 9.6473 - mae: 9.6511 - mse: 401.7608\n",
      "Epoch 29/40\n",
      "200/200 [==============================] - 1s 6ms/step - loss: 9.4825 - mae: 9.4882 - mse: 359.8116\n",
      "Epoch 30/40\n",
      "200/200 [==============================] - 1s 6ms/step - loss: 9.8560 - mae: 9.8629 - mse: 414.0620\n",
      "Epoch 31/40\n",
      "192/200 [===========================>..] - ETA: 0s - loss: 9.5097 - mae: 9.4963 - mse: 351.9154\n",
      "Epoch 00031: ReduceLROnPlateau reducing learning rate to 0.001073741726577282.\n",
      "200/200 [==============================] - 1s 6ms/step - loss: 9.6028 - mae: 9.5857 - mse: 358.0365\n",
      "Epoch 32/40\n",
      "200/200 [==============================] - 1s 6ms/step - loss: 9.5261 - mae: 9.5394 - mse: 360.8460\n",
      "Epoch 33/40\n",
      "200/200 [==============================] - 1s 6ms/step - loss: 9.3433 - mae: 9.3537 - mse: 355.4442\n",
      "Epoch 34/40\n",
      "198/200 [============================>.] - ETA: 0s - loss: 9.0560 - mae: 9.0794 - mse: 291.0643\n",
      "Epoch 00034: ReduceLROnPlateau reducing learning rate to 0.0008589933626353742.\n",
      "200/200 [==============================] - 1s 6ms/step - loss: 9.0625 - mae: 9.0857 - mse: 291.4179\n",
      "Epoch 35/40\n",
      "200/200 [==============================] - 1s 6ms/step - loss: 9.2846 - mae: 9.3151 - mse: 366.6864\n",
      "Epoch 36/40\n",
      "200/200 [==============================] - 1s 6ms/step - loss: 9.0592 - mae: 9.0136 - mse: 317.7770\n",
      "Epoch 37/40\n",
      "196/200 [============================>.] - ETA: 0s - loss: 9.3998 - mae: 9.4066 - mse: 339.2166\n",
      "Epoch 00037: ReduceLROnPlateau reducing learning rate to 0.0006871947087347508.\n",
      "200/200 [==============================] - 1s 6ms/step - loss: 9.3916 - mae: 9.3982 - mse: 337.5530\n",
      "Epoch 38/40\n",
      "200/200 [==============================] - 1s 6ms/step - loss: 9.0225 - mae: 9.0304 - mse: 339.3083\n",
      "Epoch 39/40\n",
      "200/200 [==============================] - 1s 6ms/step - loss: 9.1380 - mae: 9.1177 - mse: 355.2652\n",
      "Epoch 40/40\n",
      "197/200 [============================>.] - ETA: 0s - loss: 9.2193 - mae: 9.2414 - mse: 349.1580\n",
      "Epoch 00040: ReduceLROnPlateau reducing learning rate to 0.0005497557576745749.\n",
      "200/200 [==============================] - 1s 6ms/step - loss: 9.2233 - mae: 9.2449 - mse: 353.2628\n"
     ]
    }
   ],
   "source": [
    "log_dir=\"logs/fit/lstm\" + datetime.now().strftime(\"%Y%m%d-%H%M%S\")\n",
    "tensorboard_callback = tf.keras.callbacks.TensorBoard(log_dir=log_dir, histogram_freq=1)\n",
    "\n",
    "# create model\n",
    "# optimizer = tf.keras.optimizers.SGD(learning_rate=0.005, momentum=0.01, nesterov=False, name='SGD')\n",
    "\n",
    "\n",
    "# Train the Model.\n",
    "EVALUATION_INTERVAL = 200\n",
    "EPOCHS = 40\n",
    "\n",
    "# opt = tf.keras.optimizers.Adam(learning_rate=0.1, beta_1=0.9, beta_2=0.9999, amsgrad=False)\n",
    "reduce_lr = tf.keras.callbacks.ReduceLROnPlateau(monitor=\"mae\", factor=0.8, patience=3, min_lr=1e-6, verbose=1,\n",
    "                                                     mode=\"max\")\n",
    "\n",
    "train_sj_data_single = tf.data.Dataset.from_tensor_slices((trimed_sj_x, sj_train_y))\n",
    "train_sj_data_single = train_sj_data_single.cache().shuffle(BUFFER_SIZE).batch(BATCH_SIZE).repeat()\n",
    "\n",
    "opt = tf.keras.optimizers.RMSprop(\n",
    "    learning_rate=0.01, rho=0.9, momentum=0.0, epsilon=1e-07, centered=False,\n",
    "    name='RMSprop'\n",
    ")\n",
    "sj_model = build_model(optimizer=opt, nodes=100)\n",
    "history = sj_model.fit(\n",
    "    train_sj_data_single,\n",
    "    epochs=EPOCHS, \n",
    "    steps_per_epoch=EVALUATION_INTERVAL,\n",
    "    verbose=1,\n",
    "    callbacks=[tensorboard_callback, reduce_lr])"
   ]
  },
  {
   "cell_type": "code",
   "execution_count": 26,
   "metadata": {},
   "outputs": [
    {
     "name": "stdout",
     "output_type": "stream",
     "text": [
      "Train for 200 steps\n",
      "Epoch 1/40\n",
      "200/200 [==============================] - 1s 7ms/step - loss: 7.0197 - mae: 7.0598 - mse: 138.9400\n",
      "Epoch 2/40\n",
      "200/200 [==============================] - 1s 6ms/step - loss: 6.4552 - mae: 6.5064 - mse: 126.5591\n",
      "Epoch 3/40\n",
      "200/200 [==============================] - 1s 6ms/step - loss: 6.1395 - mae: 6.1846 - mse: 121.5201\n",
      "Epoch 4/40\n",
      "200/200 [==============================] - 1s 6ms/step - loss: 6.0758 - mae: 6.1327 - mse: 122.3543\n",
      "Epoch 5/40\n",
      "200/200 [==============================] - 1s 5ms/step - loss: 5.7893 - mae: 5.8385 - mse: 114.8500\n",
      "Epoch 6/40\n",
      "198/200 [============================>.] - ETA: 0s - loss: 5.7582 - mae: 5.8070 - mse: 112.8525\n",
      "Epoch 00006: ReduceLROnPlateau reducing learning rate to 0.000800000037997961.\n",
      "200/200 [==============================] - 1s 6ms/step - loss: 5.7193 - mae: 5.7668 - mse: 111.7747\n",
      "Epoch 7/40\n",
      "200/200 [==============================] - 1s 6ms/step - loss: 5.6489 - mae: 5.7063 - mse: 112.8428\n",
      "Epoch 8/40\n",
      "200/200 [==============================] - 1s 6ms/step - loss: 5.5810 - mae: 5.6326 - mse: 116.7474\n",
      "Epoch 9/40\n",
      "200/200 [==============================] - 1s 6ms/step - loss: 5.4482 - mae: 5.5017 - mse: 108.9391\n",
      "Epoch 10/40\n",
      "200/200 [==============================] - 1s 6ms/step - loss: 5.3107 - mae: 5.3595 - mse: 105.0120\n",
      "Epoch 11/40\n",
      "191/200 [===========================>..] - ETA: 0s - loss: 5.2606 - mae: 5.3081 - mse: 100.4519\n",
      "Epoch 00011: ReduceLROnPlateau reducing learning rate to 0.0006400000303983689.\n",
      "200/200 [==============================] - 1s 6ms/step - loss: 5.2990 - mae: 5.3447 - mse: 104.1864\n",
      "Epoch 12/40\n",
      "200/200 [==============================] - 1s 6ms/step - loss: 5.1628 - mae: 5.2085 - mse: 102.1838\n",
      "Epoch 13/40\n",
      "200/200 [==============================] - 1s 6ms/step - loss: 5.1145 - mae: 5.1611 - mse: 102.1226\n",
      "Epoch 14/40\n",
      "200/200 [==============================] - 1s 6ms/step - loss: 5.0468 - mae: 5.0895 - mse: 97.4258\n",
      "Epoch 15/40\n",
      "200/200 [==============================] - 1s 6ms/step - loss: 4.8767 - mae: 4.9240 - mse: 93.7252\n",
      "Epoch 16/40\n",
      "198/200 [============================>.] - ETA: 0s - loss: 4.9192 - mae: 4.9677 - mse: 95.3247\n",
      "Epoch 00016: ReduceLROnPlateau reducing learning rate to 0.0005120000336319208.\n",
      "200/200 [==============================] - 1s 6ms/step - loss: 4.9034 - mae: 4.9509 - mse: 94.5578\n",
      "Epoch 17/40\n",
      "200/200 [==============================] - 1s 6ms/step - loss: 4.6324 - mae: 4.6877 - mse: 88.2889\n",
      "Epoch 18/40\n",
      "200/200 [==============================] - 1s 6ms/step - loss: 4.6802 - mae: 4.7212 - mse: 89.4027\n",
      "Epoch 19/40\n",
      "200/200 [==============================] - 1s 6ms/step - loss: 4.6256 - mae: 4.6689 - mse: 87.0266\n",
      "Epoch 20/40\n",
      "200/200 [==============================] - 1s 6ms/step - loss: 4.5345 - mae: 4.5718 - mse: 84.3092\n",
      "Epoch 21/40\n",
      "191/200 [===========================>..] - ETA: 0s - loss: 4.6006 - mae: 4.6433 - mse: 85.2581\n",
      "Epoch 00021: ReduceLROnPlateau reducing learning rate to 0.00040960004553198815.\n",
      "200/200 [==============================] - 1s 6ms/step - loss: 4.5898 - mae: 4.6302 - mse: 83.8792\n",
      "Epoch 22/40\n",
      "200/200 [==============================] - 1s 6ms/step - loss: 4.4807 - mae: 4.5274 - mse: 81.8220\n",
      "Epoch 23/40\n",
      "200/200 [==============================] - 1s 6ms/step - loss: 4.3508 - mae: 4.3880 - mse: 79.1739\n",
      "Epoch 24/40\n",
      "200/200 [==============================] - 1s 6ms/step - loss: 4.4086 - mae: 4.4508 - mse: 83.2040\n",
      "Epoch 25/40\n",
      "200/200 [==============================] - 1s 6ms/step - loss: 4.2758 - mae: 4.3077 - mse: 78.6112\n",
      "Epoch 26/40\n",
      "193/200 [===========================>..] - ETA: 0s - loss: 4.1794 - mae: 4.2179 - mse: 71.9503\n",
      "Epoch 00026: ReduceLROnPlateau reducing learning rate to 0.00032768002711236477.\n",
      "200/200 [==============================] - 1s 6ms/step - loss: 4.2295 - mae: 4.2672 - mse: 74.7733\n",
      "Epoch 27/40\n",
      "200/200 [==============================] - 1s 6ms/step - loss: 4.1640 - mae: 4.2013 - mse: 75.5137\n",
      "Epoch 28/40\n",
      "200/200 [==============================] - 1s 6ms/step - loss: 4.2056 - mae: 4.2342 - mse: 73.3027\n",
      "Epoch 29/40\n",
      "200/200 [==============================] - 1s 6ms/step - loss: 4.1575 - mae: 4.1976 - mse: 74.9901\n",
      "Epoch 30/40\n",
      "200/200 [==============================] - 1s 6ms/step - loss: 4.1223 - mae: 4.1568 - mse: 72.6326\n",
      "Epoch 31/40\n",
      "199/200 [============================>.] - ETA: 0s - loss: 4.0052 - mae: 4.0377 - mse: 66.7850\n",
      "Epoch 00031: ReduceLROnPlateau reducing learning rate to 0.0002621440216898918.\n",
      "200/200 [==============================] - 1s 6ms/step - loss: 4.0081 - mae: 4.0403 - mse: 66.6782\n",
      "Epoch 32/40\n",
      "200/200 [==============================] - 1s 6ms/step - loss: 3.9303 - mae: 3.9651 - mse: 69.8084\n",
      "Epoch 33/40\n",
      "200/200 [==============================] - 1s 6ms/step - loss: 3.9445 - mae: 3.9787 - mse: 68.6844\n",
      "Epoch 34/40\n",
      "200/200 [==============================] - 1s 6ms/step - loss: 3.9617 - mae: 3.9977 - mse: 66.8294\n",
      "Epoch 35/40\n",
      "200/200 [==============================] - 1s 7ms/step - loss: 3.8992 - mae: 3.9350 - mse: 67.5253\n",
      "Epoch 36/40\n",
      "196/200 [============================>.] - ETA: 0s - loss: 3.9173 - mae: 3.9508 - mse: 68.4917\n",
      "Epoch 00036: ReduceLROnPlateau reducing learning rate to 0.00020971521735191345.\n",
      "200/200 [==============================] - 1s 7ms/step - loss: 3.8830 - mae: 3.9152 - mse: 67.3600\n",
      "Epoch 37/40\n",
      "200/200 [==============================] - 1s 6ms/step - loss: 3.9735 - mae: 4.0048 - mse: 68.6345\n",
      "Epoch 38/40\n",
      "200/200 [==============================] - 2s 8ms/step - loss: 3.8657 - mae: 3.8924 - mse: 65.4698\n",
      "Epoch 39/40\n",
      "200/200 [==============================] - 1s 6ms/step - loss: 3.7490 - mae: 3.7783 - mse: 61.9259\n",
      "Epoch 40/40\n",
      "200/200 [==============================] - 1s 6ms/step - loss: 3.8592 - mae: 3.8839 - mse: 66.0393\n"
     ]
    }
   ],
   "source": [
    "train_iq_data_single = tf.data.Dataset.from_tensor_slices((trimed_iq_x, iq_train_y))\n",
    "train_iq_data_single = train_iq_data_single.cache().shuffle(BUFFER_SIZE).batch(BATCH_SIZE).repeat()\n",
    "\n",
    "EPOCHS = 40\n",
    "# opt = tf.keras.optimizers.Adam(learning_rate=0.1, beta_1=0.9, beta_2=0.9999, amsgrad=False)\n",
    "opt = tf.keras.optimizers.RMSprop(\n",
    "    learning_rate=0.001, rho=0.9, momentum=0.0, epsilon=1e-07, centered=False,\n",
    "    name='RMSprop'\n",
    ")\n",
    "iq_model = build_model(optimizer=opt, nodes=70, input_shape=trimed_iq_x.shape[-1])\n",
    "train_iq_data_single = tf.data.Dataset.from_tensor_slices((trimed_iq_x, iq_train_y))\n",
    "train_iq_data_single = train_iq_data_single.cache().batch(BATCH_SIZE).repeat()\n",
    "\n",
    "reduce_lr = tf.keras.callbacks.ReduceLROnPlateau(monitor=\"mae\", factor=0.8, patience=5, min_lr=1e-6, verbose=1,\n",
    "                                                     mode=\"max\")\n",
    "history = iq_model.fit(\n",
    "    train_iq_data_single,\n",
    "    epochs=EPOCHS, \n",
    "    steps_per_epoch=EVALUATION_INTERVAL,\n",
    "    verbose=1,\n",
    "    callbacks=[tensorboard_callback, reduce_lr])"
   ]
  },
  {
   "cell_type": "code",
   "execution_count": 27,
   "metadata": {},
   "outputs": [
    {
     "name": "stdout",
     "output_type": "stream",
     "text": [
      "(260, 461)\n",
      "260\n"
     ]
    }
   ],
   "source": [
    "file = train_file\n",
    "file = test_file\n",
    "\n",
    "org_sj_test_data, test_scale, sj_columns = generate_lstm_data(\n",
    "    file, history_size=52, \n",
    "    cols=new_sj_cols_no_label, \n",
    "    norm_cols=new_sj_norm, \n",
    "    scale_cols=new_sj_scale, \n",
    "    single_step=True, \n",
    "    train_frac=1.0, train_scale=sj_norm_scale, \n",
    "    prepend_with_file=train_file,\n",
    "    extra_columns=extra_sj_cols,\n",
    "    group_by_column=True\n",
    ")\n",
    "org_iq_test_data, test_scale, iq_columns = generate_lstm_data(\n",
    "    file, history_size=52, \n",
    "    cols=new_iq_cols_no_label, \n",
    "    norm_cols=new_iq_norm, \n",
    "    scale_cols=new_iq_scale, \n",
    "    single_step=True, \n",
    "    train_frac=1.0, train_scale=iq_norm_scale, \n",
    "    prepend_with_file=train_file,\n",
    "    extra_columns=extra_iq_cols,\n",
    "    group_by_column=True\n",
    ")\n",
    "sj_test_x, sj_test_y = org_sj_test_data[0]\n",
    "sj_test_x = np.array(sj_test_x)\n",
    "sj_test_y = np.array(sj_test_y)\n",
    "iq_test_x, iq_test_y = org_iq_test_data[1]\n",
    "iq_test_x = np.array(iq_test_x)\n",
    "iq_test_y = np.array(iq_test_y)\n",
    "trimed_test_sj_x = trim_data(sj_test_x, sj_columns, sj_col_size)\n",
    "trimed_test_iq_x = trim_data(iq_test_x, iq_columns, iq_col_size)\n",
    "sj_test_set = tf.data.Dataset.from_tensor_slices((trimed_test_sj_x, sj_test_y)).batch(len(sj_test_y))\n",
    "print(trimed_test_sj_x.shape)\n",
    "\n",
    "sj_pred = []\n",
    "for x, y in sj_test_set.take(1):\n",
    "    predictions = sj_model.predict(x)\n",
    "    sj_pred = predictions.flatten()\n",
    "    print(len(predictions.flatten()))"
   ]
  },
  {
   "cell_type": "code",
   "execution_count": 28,
   "metadata": {},
   "outputs": [
    {
     "name": "stdout",
     "output_type": "stream",
     "text": [
      "156\n"
     ]
    }
   ],
   "source": [
    "iq_test_set = tf.data.Dataset.from_tensor_slices((trimed_test_iq_x, iq_test_y)).batch(len(iq_test_y))\n",
    "iq_pred = []\n",
    "for x, y in iq_test_set.take(1):\n",
    "    predictions = iq_model.predict(x)\n",
    "    iq_pred = predictions.flatten()\n",
    "    print(len(predictions.flatten()))"
   ]
  },
  {
   "cell_type": "code",
   "execution_count": 29,
   "metadata": {},
   "outputs": [
    {
     "name": "stdout",
     "output_type": "stream",
     "text": [
      "416\n",
      "asas\n"
     ]
    }
   ],
   "source": [
    "from preprocessing_helpers import export_test_to_csv\n",
    "preds = np.concatenate((sj_pred, iq_pred), axis=None)\n",
    "export_test_to_csv(predictions=preds,path=file, prefix='test' if file == test_file else 'train')"
   ]
  },
  {
   "cell_type": "code",
   "execution_count": 30,
   "metadata": {},
   "outputs": [
    {
     "data": {
      "image/png": "[encoded data removed]",
      "text/plain": [
       "<IPython.core.display.Image object>"
      ]
     },
     "execution_count": 30,
     "metadata": {},
     "output_type": "execute_result"
    }
   ],
   "source": [
    "#Current Ranking (baseline)\n",
    "Image(\"img/current-25-05.png\")"
   ]
  },
  {
   "cell_type": "code",
   "execution_count": 15,
   "metadata": {},
   "outputs": [],
   "source": [
    "# Tensorboard\n",
    "# https://tensorboard.dev/experiment/rsdMubj0S165iOdLmbd13A/#scalars"
   ]
  },
  {
   "cell_type": "code",
   "execution_count": 49,
   "metadata": {},
   "outputs": [],
   "source": [
    "# sj_model.save('models/sj_model_17.57MAP.h5') \n",
    "# iq_model.save('models/iq_model_17.57MAP.h5') "
   ]
  },
  {
   "cell_type": "code",
   "execution_count": null,
   "metadata": {},
   "outputs": [],
   "source": []
  }
 ],
 "metadata": {
  "kernelspec": {
   "display_name": "Python 3",
   "language": "python",
   "name": "python3"
  },
  "language_info": {
   "codemirror_mode": {
    "name": "ipython",
    "version": 3
   },
   "file_extension": ".py",
   "mimetype": "text/x-python",
   "name": "python",
   "nbconvert_exporter": "python",
   "pygments_lexer": "ipython3",
   "version": "3.7.6"
  }
 },
 "nbformat": 4,
 "nbformat_minor": 4
}
