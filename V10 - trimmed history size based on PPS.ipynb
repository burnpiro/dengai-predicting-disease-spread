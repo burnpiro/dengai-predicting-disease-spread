{
 "cells": [
  {
   "cell_type": "code",
   "execution_count": 1,
   "metadata": {},
   "outputs": [],
   "source": [
    "from __future__ import absolute_import, division, print_function, unicode_literals\n",
    "import functools\n",
    "from IPython.display import Image, clear_output\n",
    "\n",
    "import matplotlib.pyplot as plt\n",
    "from sklearn.preprocessing import StandardScaler, MinMaxScaler\n",
    "import numpy as np\n",
    "import tensorflow as tf\n",
    "import pandas as pd\n",
    "from data_info import *\n",
    "from preprocessing_helpers import *\n",
    "from datetime import datetime\n",
    "%matplotlib inline\n",
    "pd.set_option(\"display.precision\", 2)\n",
    "tf.random.set_seed(42)"
   ]
  },
  {
   "cell_type": "code",
   "execution_count": 2,
   "metadata": {},
   "outputs": [],
   "source": [
    "new_iq_norm = [\n",
    "                'precipitation_amt_mm',\n",
    "                'reanalysis_air_temp_k',\n",
    "                'reanalysis_avg_temp_k',\n",
    "                'reanalysis_dew_point_temp_k',\n",
    "                'reanalysis_max_air_temp_k',\n",
    "                'reanalysis_min_air_temp_k',\n",
    "                'reanalysis_precip_amt_kg_per_m2',\n",
    "                'reanalysis_relative_humidity_percent',\n",
    "                'reanalysis_sat_precip_amt_mm',\n",
    "                'reanalysis_specific_humidity_g_per_kg',\n",
    "                'reanalysis_tdtr_k',\n",
    "                'station_avg_temp_c',\n",
    "                'station_diur_temp_rng_c',\n",
    "                'station_max_temp_c',\n",
    "                'station_min_temp_c',\n",
    "                'station_precip_mm',\n",
    "]\n",
    "new_iq_scale = [\n",
    "                 'weekofyear',\n",
    "]\n",
    "\n",
    "extra_iq_cols = [\n",
    "]\n",
    "new_sj_norm = [\n",
    "                'precipitation_amt_mm',\n",
    "                'reanalysis_air_temp_k',\n",
    "                'reanalysis_avg_temp_k',\n",
    "                'reanalysis_dew_point_temp_k',\n",
    "                'reanalysis_max_air_temp_k',\n",
    "                'reanalysis_min_air_temp_k',\n",
    "                'reanalysis_precip_amt_kg_per_m2',\n",
    "                'reanalysis_relative_humidity_percent',\n",
    "                'reanalysis_sat_precip_amt_mm',\n",
    "                'reanalysis_specific_humidity_g_per_kg',\n",
    "                'reanalysis_tdtr_k',\n",
    "                'station_avg_temp_c',\n",
    "                'station_diur_temp_rng_c',\n",
    "                'station_max_temp_c',\n",
    "                'station_min_temp_c',\n",
    "                'station_precip_mm',\n",
    "]\n",
    "new_sj_scale = [\n",
    "                 'weekofyear',\n",
    "]\n",
    "\n",
    "extra_sj_cols = [\n",
    "]\n",
    "new_iq_cols = [LABEL_COLUMN] + CATEGORICAL_COLUMNS + new_iq_norm + new_iq_scale + extra_iq_cols + [DATETIME_COLUMN]\n",
    "new_iq_cols_no_label = CATEGORICAL_COLUMNS + new_iq_norm + new_iq_scale + extra_iq_cols + [DATETIME_COLUMN]\n",
    "new_sj_cols = [LABEL_COLUMN] + CATEGORICAL_COLUMNS + new_sj_norm + new_sj_scale + extra_sj_cols + [DATETIME_COLUMN]\n",
    "new_sj_cols_no_label = CATEGORICAL_COLUMNS + new_sj_norm + new_sj_scale + extra_sj_cols + [DATETIME_COLUMN]\n",
    "\n",
    "\n",
    "sj_col_size = {\n",
    "    'precipitation_amt_mm': 40,\n",
    "    'reanalysis_air_temp_k': 16,\n",
    "    'reanalysis_avg_temp_k': 15,\n",
    "    'reanalysis_dew_point_temp_k': 39,\n",
    "    'reanalysis_max_air_temp_k': 12,\n",
    "    'reanalysis_min_air_temp_k': 21,\n",
    "    'reanalysis_precip_amt_kg_per_m2': 30,\n",
    "    'reanalysis_relative_humidity_percent': 34,\n",
    "    'reanalysis_sat_precip_amt_mm': 40,\n",
    "    'reanalysis_specific_humidity_g_per_kg': 14,\n",
    "    'reanalysis_tdtr_k': 21,\n",
    "    'station_avg_temp_c': 41,\n",
    "    'station_diur_temp_rng_c': 40,\n",
    "    'station_max_temp_c': 37,\n",
    "    'station_min_temp_c': 26,\n",
    "    'station_precip_mm': 32,\n",
    "    'weekofyear': 3\n",
    "}\n",
    "iq_col_size = {\n",
    "    'precipitation_amt_mm': 33,\n",
    "    'reanalysis_air_temp_k': 10,\n",
    "    'reanalysis_avg_temp_k': 4,\n",
    "    'reanalysis_dew_point_temp_k': 6,\n",
    "    'reanalysis_max_air_temp_k': 41,\n",
    "    'reanalysis_min_air_temp_k': 40,\n",
    "    'reanalysis_precip_amt_kg_per_m2': 3,\n",
    "    'reanalysis_relative_humidity_percent': 7,\n",
    "    'reanalysis_sat_precip_amt_mm': 33,\n",
    "    'reanalysis_specific_humidity_g_per_kg': 26,\n",
    "    'reanalysis_tdtr_k': 34,\n",
    "    'station_avg_temp_c': 40,\n",
    "    'station_diur_temp_rng_c': 26,\n",
    "    'station_max_temp_c': 39,\n",
    "    'station_min_temp_c': 25,\n",
    "    'station_precip_mm':10,\n",
    "    'weekofyear': 3\n",
    "}"
   ]
  },
  {
   "cell_type": "code",
   "execution_count": 3,
   "metadata": {},
   "outputs": [
    {
     "data": {
      "text/plain": [
       "['precipitation_amt_mm',\n",
       " 'reanalysis_air_temp_k',\n",
       " 'reanalysis_avg_temp_k',\n",
       " 'reanalysis_dew_point_temp_k',\n",
       " 'reanalysis_max_air_temp_k',\n",
       " 'reanalysis_min_air_temp_k',\n",
       " 'reanalysis_precip_amt_kg_per_m2',\n",
       " 'reanalysis_relative_humidity_percent',\n",
       " 'reanalysis_sat_precip_amt_mm',\n",
       " 'reanalysis_specific_humidity_g_per_kg',\n",
       " 'reanalysis_tdtr_k',\n",
       " 'station_avg_temp_c',\n",
       " 'station_diur_temp_rng_c',\n",
       " 'station_max_temp_c',\n",
       " 'station_min_temp_c',\n",
       " 'station_precip_mm',\n",
       " 'weekofyear']"
      ]
     },
     "execution_count": 3,
     "metadata": {},
     "output_type": "execute_result"
    }
   ],
   "source": [
    "sj_datasets, sj_norm_scale, sj_columns = generate_lstm_data(\n",
    "    train_file, \n",
    "    single_step=True, \n",
    "    history_size=52, \n",
    "    cols=new_sj_cols, \n",
    "    norm_cols=new_sj_norm, \n",
    "    scale_cols=new_sj_scale,\n",
    "    extra_columns=extra_sj_cols,\n",
    "    prepend_with_file=train_file,\n",
    "    train_frac=1.0,\n",
    "    group_by_column=True\n",
    ")\n",
    "sj_train_x, sj_train_y = sj_datasets[0]\n",
    "sj_train_x = np.array(sj_train_x)\n",
    "sj_train_y = np.array(sj_train_y)\n",
    "iq_datasets, iq_norm_scale, iq_columns = generate_lstm_data(\n",
    "    train_file, \n",
    "    single_step=True, \n",
    "    history_size=52, \n",
    "    cols=new_iq_cols, \n",
    "    norm_cols=new_iq_norm, \n",
    "    scale_cols=new_iq_scale,\n",
    "    extra_columns=extra_iq_cols,\n",
    "    prepend_with_file=train_file,\n",
    "    train_frac=1.0,\n",
    "    group_by_column=True\n",
    ")\n",
    "iq_train_x, iq_train_y = iq_datasets[1]\n",
    "iq_train_x = np.array(iq_train_x)\n",
    "iq_train_y = np.array(iq_train_y)\n",
    "sj_columns"
   ]
  },
  {
   "cell_type": "code",
   "execution_count": 4,
   "metadata": {},
   "outputs": [
    {
     "data": {
      "text/plain": [
       "array([-0.5192724 , -0.28312527, -0.01700562, -0.45251543, -0.63053403,\n",
       "       -0.58375874, -0.72226811,  2.63011291, -0.36259787, -0.47408656,\n",
       "       -0.29561382,  0.54225437, -0.4270842 , -0.05969375, -0.14734067,\n",
       "        1.25932422, -0.06559743,  0.12831569, -0.14597828,  0.66464216,\n",
       "        2.46231221,  0.36559815, -0.09329931,  0.36627934,  2.45822504,\n",
       "        2.08311441,  1.50001264, -0.33671251, -0.34715748, -0.34624922,\n",
       "       -0.03812262, -0.57513028, -0.80128658,  0.38966699, -0.80128658,\n",
       "       -0.80128658, -0.44138926, -0.80128658, -0.80128658, -0.80128658,\n",
       "       -0.80128658, -0.39143506, -0.80128658, -0.07944837, -0.80128658,\n",
       "       -0.80128658, -0.80128658, -0.80128658, -0.50791918, -0.66504785,\n",
       "        0.21074012, -0.05833137])"
      ]
     },
     "execution_count": 4,
     "metadata": {},
     "output_type": "execute_result"
    }
   ],
   "source": [
    "sj_train_x[53][0]"
   ]
  },
  {
   "cell_type": "code",
   "execution_count": 5,
   "metadata": {},
   "outputs": [
    {
     "data": {
      "text/plain": [
       "array([-0.80128658, -0.50791918, -0.66504785,  0.21074012, -0.05833137])"
      ]
     },
     "execution_count": 5,
     "metadata": {},
     "output_type": "execute_result"
    }
   ],
   "source": [
    "sj_train_x[53][0][-5:]"
   ]
  },
  {
   "cell_type": "code",
   "execution_count": 6,
   "metadata": {},
   "outputs": [
    {
     "data": {
      "text/plain": [
       "16.0"
      ]
     },
     "execution_count": 6,
     "metadata": {},
     "output_type": "execute_result"
    }
   ],
   "source": [
    "sj_train_y[53]"
   ]
  },
  {
   "cell_type": "code",
   "execution_count": 22,
   "metadata": {},
   "outputs": [
    {
     "name": "stdout",
     "output_type": "stream",
     "text": [
      "(936, 461)\n",
      "(520, 380)\n"
     ]
    }
   ],
   "source": [
    "trimed_sj_x = []\n",
    "trimed_iq_x = []\n",
    "\n",
    "def trim_data(data, columns, size_cols):\n",
    "    trimed_data = []\n",
    "    for row_i in range(data.shape[0]):\n",
    "        new_row = []\n",
    "        for col_i, col in enumerate(columns):\n",
    "            new_row = np.concatenate((new_row, data[row_i][col_i][-size_cols[col]:]), axis=None)\n",
    "\n",
    "        trimed_data.append(new_row)\n",
    "    return np.array(trimed_data)\n",
    "    \n",
    "trimed_sj_x = trim_data(sj_train_x, sj_columns, sj_col_size)\n",
    "trimed_iq_x = trim_data(iq_train_x, iq_columns, iq_col_size)\n",
    "\n",
    "print(trimed_sj_x.shape)\n",
    "print(trimed_iq_x.shape)"
   ]
  },
  {
   "cell_type": "code",
   "execution_count": null,
   "metadata": {},
   "outputs": [],
   "source": []
  },
  {
   "cell_type": "code",
   "execution_count": 23,
   "metadata": {},
   "outputs": [],
   "source": [
    "BATCH_SIZE = 16\n",
    "BUFFER_SIZE = 500\n",
    "train_sj_data_single = tf.data.Dataset.from_tensor_slices((trimed_sj_x, sj_train_y))\n",
    "train_sj_data_single = train_sj_data_single.cache().shuffle(BUFFER_SIZE).batch(BATCH_SIZE).repeat(10)\n",
    "\n",
    "# val_sj_data_single = tf.data.Dataset.from_tensor_slices((sj_val_x, sj_val_y))\n",
    "# val_sj_data_single = val_sj_data_single.batch(BATCH_SIZE).repeat()"
   ]
  },
  {
   "cell_type": "code",
   "execution_count": 24,
   "metadata": {},
   "outputs": [],
   "source": [
    "# Build network with \n",
    "def build_model(optimizer = None, nodes=256, input_shape=trimed_sj_x.shape[-1]):\n",
    "  model = tf.keras.Sequential([\n",
    "    tf.keras.layers.Input(shape=input_shape),\n",
    "    tf.keras.layers.Dense(nodes, activation='selu'),\n",
    "    tf.keras.layers.Dropout(0.5),\n",
    "    tf.keras.layers.Dense(nodes/2, activation='selu'),\n",
    "    tf.keras.layers.Dropout(0.5),\n",
    "    tf.keras.layers.Dense(1)\n",
    "  ])\n",
    "\n",
    "  if not optimizer:\n",
    "    optimizer = tf.keras.optimizers.Adam(learning_rate=0.01, beta_1=0.9, beta_2=0.9999, amsgrad=False)\n",
    "\n",
    "  model.compile(loss='mae',\n",
    "                optimizer=optimizer,\n",
    "                metrics=['mae', 'mse'])\n",
    "  return model"
   ]
  },
  {
   "cell_type": "code",
   "execution_count": 40,
   "metadata": {},
   "outputs": [
    {
     "name": "stdout",
     "output_type": "stream",
     "text": [
      "Train for 200 steps\n",
      "Epoch 1/40\n",
      "200/200 [==============================] - 2s 8ms/step - loss: 23.7863 - mae: 23.7890 - mse: 2517.7441\n",
      "Epoch 2/40\n",
      "200/200 [==============================] - 1s 6ms/step - loss: 18.7190 - mae: 18.7425 - mse: 1607.3472\n",
      "Epoch 3/40\n",
      "200/200 [==============================] - 1s 7ms/step - loss: 17.9971 - mae: 17.9999 - mse: 1277.6858\n",
      "Epoch 4/40\n",
      "195/200 [============================>.] - ETA: 0s - loss: 16.4501 - mae: 16.5119 - mse: 1163.1384\n",
      "Epoch 00004: ReduceLROnPlateau reducing learning rate to 0.007999999821186066.\n",
      "200/200 [==============================] - 1s 6ms/step - loss: 16.3970 - mae: 16.4565 - mse: 1147.7416\n",
      "Epoch 5/40\n",
      "200/200 [==============================] - 1s 6ms/step - loss: 14.9161 - mae: 14.9211 - mse: 896.2303\n",
      "Epoch 6/40\n",
      "200/200 [==============================] - 1s 6ms/step - loss: 15.0953 - mae: 15.1480 - mse: 943.2908\n",
      "Epoch 7/40\n",
      "192/200 [===========================>..] - ETA: 0s - loss: 14.1314 - mae: 14.1787 - mse: 753.7054\n",
      "Epoch 00007: ReduceLROnPlateau reducing learning rate to 0.006399999558925629.\n",
      "200/200 [==============================] - 1s 6ms/step - loss: 14.2058 - mae: 14.2515 - mse: 769.1704\n",
      "Epoch 8/40\n",
      "200/200 [==============================] - 1s 6ms/step - loss: 13.5638 - mae: 13.6056 - mse: 735.0345\n",
      "Epoch 9/40\n",
      "200/200 [==============================] - 1s 6ms/step - loss: 13.2868 - mae: 13.3076 - mse: 695.7267\n",
      "Epoch 10/40\n",
      "194/200 [============================>.] - ETA: 0s - loss: 13.2072 - mae: 13.2244 - mse: 706.5623\n",
      "Epoch 00010: ReduceLROnPlateau reducing learning rate to 0.0051199994981288915.\n",
      "200/200 [==============================] - 1s 6ms/step - loss: 13.1714 - mae: 13.1877 - mse: 698.6171\n",
      "Epoch 11/40\n",
      "200/200 [==============================] - 1s 6ms/step - loss: 13.0464 - mae: 13.1039 - mse: 626.3356\n",
      "Epoch 12/40\n",
      "200/200 [==============================] - 1s 6ms/step - loss: 12.0618 - mae: 12.0536 - mse: 539.2537\n",
      "Epoch 13/40\n",
      "197/200 [============================>.] - ETA: 0s - loss: 11.7938 - mae: 11.8592 - mse: 529.0518\n",
      "Epoch 00013: ReduceLROnPlateau reducing learning rate to 0.004095999523997307.\n",
      "200/200 [==============================] - 1s 6ms/step - loss: 11.7885 - mae: 11.8526 - mse: 525.4388\n",
      "Epoch 14/40\n",
      "200/200 [==============================] - 1s 6ms/step - loss: 11.9835 - mae: 11.9905 - mse: 540.4170\n",
      "Epoch 15/40\n",
      "200/200 [==============================] - 1s 6ms/step - loss: 11.2745 - mae: 11.2830 - mse: 457.6201\n",
      "Epoch 16/40\n",
      "198/200 [============================>.] - ETA: 0s - loss: 11.0816 - mae: 11.0469 - mse: 428.4801\n",
      "Epoch 00016: ReduceLROnPlateau reducing learning rate to 0.0032767996191978457.\n",
      "200/200 [==============================] - 1s 6ms/step - loss: 11.1636 - mae: 11.1302 - mse: 438.3463\n",
      "Epoch 17/40\n",
      "200/200 [==============================] - 1s 6ms/step - loss: 10.9000 - mae: 10.8783 - mse: 496.8196\n",
      "Epoch 18/40\n",
      "200/200 [==============================] - 1s 6ms/step - loss: 10.7048 - mae: 10.7358 - mse: 435.0091\n",
      "Epoch 19/40\n",
      "199/200 [============================>.] - ETA: 0s - loss: 10.8227 - mae: 10.8361 - mse: 457.0768\n",
      "Epoch 00019: ReduceLROnPlateau reducing learning rate to 0.0026214396581053737.\n",
      "200/200 [==============================] - 1s 7ms/step - loss: 10.8005 - mae: 10.8136 - mse: 455.1151\n",
      "Epoch 20/40\n",
      "200/200 [==============================] - 1s 6ms/step - loss: 10.5742 - mae: 10.5429 - mse: 438.9722\n",
      "Epoch 21/40\n",
      "200/200 [==============================] - 1s 6ms/step - loss: 10.8424 - mae: 10.8662 - mse: 494.7614\n",
      "Epoch 22/40\n",
      "196/200 [============================>.] - ETA: 0s - loss: 10.4616 - mae: 10.4862 - mse: 424.0115\n",
      "Epoch 00022: ReduceLROnPlateau reducing learning rate to 0.0020971518009901048.\n",
      "200/200 [==============================] - 1s 6ms/step - loss: 10.4171 - mae: 10.4408 - mse: 419.0711\n",
      "Epoch 23/40\n",
      "200/200 [==============================] - 1s 6ms/step - loss: 9.8629 - mae: 9.8546 - mse: 321.6261\n",
      "Epoch 24/40\n",
      "200/200 [==============================] - 1s 6ms/step - loss: 9.9392 - mae: 9.9224 - mse: 365.3064\n",
      "Epoch 25/40\n",
      "196/200 [============================>.] - ETA: 0s - loss: 9.5054 - mae: 9.5299 - mse: 306.5088\n",
      "Epoch 00025: ReduceLROnPlateau reducing learning rate to 0.0016777213662862779.\n",
      "200/200 [==============================] - 1s 6ms/step - loss: 9.5341 - mae: 9.5582 - mse: 306.4081\n",
      "Epoch 26/40\n",
      "200/200 [==============================] - 1s 6ms/step - loss: 9.5652 - mae: 9.5667 - mse: 348.6112\n",
      "Epoch 27/40\n",
      "200/200 [==============================] - 1s 6ms/step - loss: 9.8309 - mae: 9.8426 - mse: 398.9367\n",
      "Epoch 28/40\n",
      "196/200 [============================>.] - ETA: 0s - loss: 9.5672 - mae: 9.6008 - mse: 362.4601\n",
      "Epoch 00028: ReduceLROnPlateau reducing learning rate to 0.0013421771116554739.\n",
      "200/200 [==============================] - 1s 6ms/step - loss: 9.5461 - mae: 9.5787 - mse: 359.8989\n",
      "Epoch 29/40\n",
      "200/200 [==============================] - 1s 6ms/step - loss: 9.1716 - mae: 9.2112 - mse: 307.5347\n",
      "Epoch 30/40\n",
      "200/200 [==============================] - 1s 6ms/step - loss: 9.3947 - mae: 9.3406 - mse: 307.7561\n",
      "Epoch 31/40\n",
      "194/200 [============================>.] - ETA: 0s - loss: 9.2283 - mae: 9.2434 - mse: 314.4278\n",
      "Epoch 00031: ReduceLROnPlateau reducing learning rate to 0.001073741726577282.\n",
      "200/200 [==============================] - 1s 6ms/step - loss: 9.2953 - mae: 9.3163 - mse: 320.7968\n",
      "Epoch 32/40\n",
      "200/200 [==============================] - 1s 6ms/step - loss: 9.1908 - mae: 9.1831 - mse: 298.7542\n",
      "Epoch 33/40\n",
      "200/200 [==============================] - 1s 6ms/step - loss: 9.1119 - mae: 9.0890 - mse: 289.1974\n",
      "Epoch 34/40\n",
      "196/200 [============================>.] - ETA: 0s - loss: 9.3549 - mae: 9.3519 - mse: 351.1950\n",
      "Epoch 00034: ReduceLROnPlateau reducing learning rate to 0.0008589933626353742.\n",
      "200/200 [==============================] - 1s 6ms/step - loss: 9.4088 - mae: 9.4064 - mse: 352.6602\n",
      "Epoch 35/40\n",
      "200/200 [==============================] - 1s 6ms/step - loss: 9.0224 - mae: 9.0312 - mse: 290.1147\n",
      "Epoch 36/40\n",
      "200/200 [==============================] - 1s 6ms/step - loss: 9.2502 - mae: 9.2294 - mse: 312.7923\n",
      "Epoch 37/40\n",
      "198/200 [============================>.] - ETA: 0s - loss: 9.4439 - mae: 9.4489 - mse: 378.6840\n",
      "Epoch 00037: ReduceLROnPlateau reducing learning rate to 0.0006871947087347508.\n",
      "200/200 [==============================] - 1s 6ms/step - loss: 9.4119 - mae: 9.4166 - mse: 375.7391\n",
      "Epoch 38/40\n",
      "200/200 [==============================] - 1s 6ms/step - loss: 8.9737 - mae: 9.0036 - mse: 316.1351\n",
      "Epoch 39/40\n",
      "200/200 [==============================] - 1s 6ms/step - loss: 9.1274 - mae: 9.1616 - mse: 351.8012\n",
      "Epoch 40/40\n",
      "198/200 [============================>.] - ETA: 0s - loss: 8.8109 - mae: 8.8291 - mse: 312.9071\n",
      "Epoch 00040: ReduceLROnPlateau reducing learning rate to 0.0005497557576745749.\n",
      "200/200 [==============================] - 1s 6ms/step - loss: 8.8014 - mae: 8.8193 - mse: 311.3209\n"
     ]
    }
   ],
   "source": [
    "log_dir=\"logs/fit/lstm\" + datetime.now().strftime(\"%Y%m%d-%H%M%S\")\n",
    "tensorboard_callback = tf.keras.callbacks.TensorBoard(log_dir=log_dir, histogram_freq=1)\n",
    "\n",
    "# create model\n",
    "# optimizer = tf.keras.optimizers.SGD(learning_rate=0.005, momentum=0.01, nesterov=False, name='SGD')\n",
    "\n",
    "\n",
    "# Train the Model.\n",
    "EVALUATION_INTERVAL = 200\n",
    "EPOCHS = 40\n",
    "\n",
    "# opt = tf.keras.optimizers.Adam(learning_rate=0.1, beta_1=0.9, beta_2=0.9999, amsgrad=False)\n",
    "reduce_lr = tf.keras.callbacks.ReduceLROnPlateau(monitor=\"mae\", factor=0.8, patience=3, min_lr=1e-6, verbose=1,\n",
    "                                                     mode=\"max\")\n",
    "\n",
    "train_sj_data_single = tf.data.Dataset.from_tensor_slices((trimed_sj_x, sj_train_y))\n",
    "train_sj_data_single = train_sj_data_single.cache().shuffle(BUFFER_SIZE).batch(BATCH_SIZE).repeat()\n",
    "\n",
    "opt = tf.keras.optimizers.RMSprop(\n",
    "    learning_rate=0.01, rho=0.9, momentum=0.0, epsilon=1e-07, centered=False,\n",
    "    name='RMSprop'\n",
    ")\n",
    "sj_model = build_model(optimizer=opt, nodes=100)\n",
    "history = sj_model.fit(\n",
    "    train_sj_data_single,\n",
    "    epochs=EPOCHS, \n",
    "    steps_per_epoch=EVALUATION_INTERVAL,\n",
    "    verbose=1,\n",
    "    callbacks=[tensorboard_callback, reduce_lr])"
   ]
  },
  {
   "cell_type": "code",
   "execution_count": 41,
   "metadata": {},
   "outputs": [
    {
     "name": "stdout",
     "output_type": "stream",
     "text": [
      "Train for 200 steps\n",
      "Epoch 1/40\n",
      "200/200 [==============================] - 2s 8ms/step - loss: 6.6718 - mae: 6.7116 - mse: 132.9171\n",
      "Epoch 2/40\n",
      "200/200 [==============================] - 1s 6ms/step - loss: 6.2593 - mae: 6.3086 - mse: 125.8174\n",
      "Epoch 3/40\n",
      "200/200 [==============================] - 1s 6ms/step - loss: 6.0701 - mae: 6.1171 - mse: 122.8870\n",
      "Epoch 4/40\n",
      "200/200 [==============================] - 1s 6ms/step - loss: 6.0405 - mae: 6.0924 - mse: 121.3535\n",
      "Epoch 5/40\n",
      "200/200 [==============================] - 1s 6ms/step - loss: 5.8512 - mae: 5.8987 - mse: 118.6860\n",
      "Epoch 6/40\n",
      "198/200 [============================>.] - ETA: 0s - loss: 5.7696 - mae: 5.8209 - mse: 116.4274\n",
      "Epoch 00006: ReduceLROnPlateau reducing learning rate to 0.000800000037997961.\n",
      "200/200 [==============================] - 1s 6ms/step - loss: 5.7361 - mae: 5.7861 - mse: 115.3300\n",
      "Epoch 7/40\n",
      "200/200 [==============================] - 1s 6ms/step - loss: 5.6117 - mae: 5.6627 - mse: 113.9069\n",
      "Epoch 8/40\n",
      "200/200 [==============================] - 1s 6ms/step - loss: 5.6680 - mae: 5.7131 - mse: 119.6898\n",
      "Epoch 9/40\n",
      "200/200 [==============================] - 1s 6ms/step - loss: 5.4261 - mae: 5.4777 - mse: 108.5661\n",
      "Epoch 10/40\n",
      "200/200 [==============================] - 1s 6ms/step - loss: 5.4453 - mae: 5.4967 - mse: 109.1479\n",
      "Epoch 11/40\n",
      "192/200 [===========================>..] - ETA: 0s - loss: 5.2740 - mae: 5.3254 - mse: 101.7872\n",
      "Epoch 00011: ReduceLROnPlateau reducing learning rate to 0.0006400000303983689.\n",
      "200/200 [==============================] - 1s 6ms/step - loss: 5.3096 - mae: 5.3592 - mse: 105.8945\n",
      "Epoch 12/40\n",
      "200/200 [==============================] - 1s 6ms/step - loss: 5.1826 - mae: 5.2284 - mse: 99.9948\n",
      "Epoch 13/40\n",
      "200/200 [==============================] - 1s 6ms/step - loss: 5.1537 - mae: 5.1952 - mse: 99.9057\n",
      "Epoch 14/40\n",
      "200/200 [==============================] - 1s 6ms/step - loss: 5.0877 - mae: 5.1382 - mse: 96.1354\n",
      "Epoch 15/40\n",
      "200/200 [==============================] - 1s 6ms/step - loss: 4.9231 - mae: 4.9667 - mse: 90.2104\n",
      "Epoch 16/40\n",
      "191/200 [===========================>..] - ETA: 0s - loss: 4.8174 - mae: 4.8568 - mse: 91.1560\n",
      "Epoch 00016: ReduceLROnPlateau reducing learning rate to 0.0005120000336319208.\n",
      "200/200 [==============================] - 1s 6ms/step - loss: 4.8536 - mae: 4.8915 - mse: 91.3381\n",
      "Epoch 17/40\n",
      "200/200 [==============================] - 1s 6ms/step - loss: 4.6872 - mae: 4.7408 - mse: 86.8655\n",
      "Epoch 18/40\n",
      "200/200 [==============================] - 1s 6ms/step - loss: 4.6636 - mae: 4.7048 - mse: 86.2945\n",
      "Epoch 19/40\n",
      "200/200 [==============================] - 1s 6ms/step - loss: 4.5558 - mae: 4.5957 - mse: 82.0835\n",
      "Epoch 20/40\n",
      "200/200 [==============================] - 1s 6ms/step - loss: 4.5622 - mae: 4.6040 - mse: 80.0770\n",
      "Epoch 21/40\n",
      "198/200 [============================>.] - ETA: 0s - loss: 4.4829 - mae: 4.5197 - mse: 79.3344\n",
      "Epoch 00021: ReduceLROnPlateau reducing learning rate to 0.00040960004553198815.\n",
      "200/200 [==============================] - 1s 6ms/step - loss: 4.5462 - mae: 4.5834 - mse: 80.4215\n",
      "Epoch 22/40\n",
      "200/200 [==============================] - 1s 6ms/step - loss: 4.3344 - mae: 4.3701 - mse: 75.1622\n",
      "Epoch 23/40\n",
      "200/200 [==============================] - 1s 6ms/step - loss: 4.2885 - mae: 4.3233 - mse: 74.9020\n",
      "Epoch 24/40\n",
      "200/200 [==============================] - 1s 6ms/step - loss: 4.3584 - mae: 4.3979 - mse: 79.0919\n",
      "Epoch 25/40\n",
      "200/200 [==============================] - 1s 6ms/step - loss: 4.2509 - mae: 4.2868 - mse: 70.9311\n",
      "Epoch 26/40\n",
      "196/200 [============================>.] - ETA: 0s - loss: 4.1329 - mae: 4.1695 - mse: 69.4182\n",
      "Epoch 00026: ReduceLROnPlateau reducing learning rate to 0.00032768002711236477.\n",
      "200/200 [==============================] - 1s 6ms/step - loss: 4.1375 - mae: 4.1732 - mse: 68.9258\n",
      "Epoch 27/40\n",
      "200/200 [==============================] - 1s 6ms/step - loss: 4.0650 - mae: 4.0960 - mse: 67.8142\n",
      "Epoch 28/40\n",
      "200/200 [==============================] - 1s 6ms/step - loss: 4.1289 - mae: 4.1633 - mse: 67.8245\n",
      "Epoch 29/40\n",
      "200/200 [==============================] - 1s 6ms/step - loss: 4.0848 - mae: 4.1171 - mse: 67.8130\n",
      "Epoch 30/40\n",
      "200/200 [==============================] - 1s 7ms/step - loss: 3.9604 - mae: 3.9868 - mse: 65.4359\n",
      "Epoch 31/40\n",
      "193/200 [===========================>..] - ETA: 0s - loss: 4.0095 - mae: 4.0394 - mse: 66.4257\n",
      "Epoch 00031: ReduceLROnPlateau reducing learning rate to 0.0002621440216898918.\n",
      "200/200 [==============================] - 1s 6ms/step - loss: 4.0294 - mae: 4.0584 - mse: 65.9880\n",
      "Epoch 32/40\n",
      "200/200 [==============================] - 1s 6ms/step - loss: 3.9192 - mae: 3.9513 - mse: 64.3548\n",
      "Epoch 33/40\n",
      "200/200 [==============================] - 1s 6ms/step - loss: 3.8871 - mae: 3.9266 - mse: 64.5422\n",
      "Epoch 34/40\n",
      "200/200 [==============================] - 1s 6ms/step - loss: 3.8256 - mae: 3.8478 - mse: 60.4766\n",
      "Epoch 35/40\n",
      "200/200 [==============================] - 1s 6ms/step - loss: 3.7601 - mae: 3.7879 - mse: 58.3533\n",
      "Epoch 36/40\n",
      "199/200 [============================>.] - ETA: 0s - loss: 3.7770 - mae: 3.8077 - mse: 61.1254\n",
      "Epoch 00036: ReduceLROnPlateau reducing learning rate to 0.00020971521735191345.\n",
      "200/200 [==============================] - 1s 6ms/step - loss: 3.7839 - mae: 3.8144 - mse: 61.0743\n",
      "Epoch 37/40\n",
      "200/200 [==============================] - 1s 6ms/step - loss: 3.9022 - mae: 3.9292 - mse: 62.2844\n",
      "Epoch 38/40\n",
      "200/200 [==============================] - 1s 6ms/step - loss: 3.8203 - mae: 3.8506 - mse: 61.4658\n",
      "Epoch 39/40\n",
      "200/200 [==============================] - 1s 6ms/step - loss: 3.6976 - mae: 3.7320 - mse: 56.9367\n",
      "Epoch 40/40\n",
      "200/200 [==============================] - 1s 6ms/step - loss: 3.6743 - mae: 3.6995 - mse: 56.6568\n"
     ]
    }
   ],
   "source": [
    "train_iq_data_single = tf.data.Dataset.from_tensor_slices((trimed_iq_x, iq_train_y))\n",
    "train_iq_data_single = train_iq_data_single.cache().shuffle(BUFFER_SIZE).batch(BATCH_SIZE).repeat()\n",
    "\n",
    "EPOCHS = 40\n",
    "# opt = tf.keras.optimizers.Adam(learning_rate=0.1, beta_1=0.9, beta_2=0.9999, amsgrad=False)\n",
    "opt = tf.keras.optimizers.RMSprop(\n",
    "    learning_rate=0.001, rho=0.9, momentum=0.0, epsilon=1e-07, centered=False,\n",
    "    name='RMSprop'\n",
    ")\n",
    "iq_model = build_model(optimizer=opt, nodes=70, input_shape=trimed_iq_x.shape[-1])\n",
    "train_iq_data_single = tf.data.Dataset.from_tensor_slices((trimed_iq_x, iq_train_y))\n",
    "train_iq_data_single = train_iq_data_single.cache().batch(BATCH_SIZE).repeat()\n",
    "\n",
    "reduce_lr = tf.keras.callbacks.ReduceLROnPlateau(monitor=\"mae\", factor=0.8, patience=5, min_lr=1e-6, verbose=1,\n",
    "                                                     mode=\"max\")\n",
    "history = iq_model.fit(\n",
    "    train_iq_data_single,\n",
    "    epochs=EPOCHS, \n",
    "    steps_per_epoch=EVALUATION_INTERVAL,\n",
    "    verbose=1,\n",
    "    callbacks=[tensorboard_callback, reduce_lr])"
   ]
  },
  {
   "cell_type": "code",
   "execution_count": 45,
   "metadata": {},
   "outputs": [
    {
     "name": "stdout",
     "output_type": "stream",
     "text": [
      "(260, 461)\n",
      "260\n"
     ]
    }
   ],
   "source": [
    "file = train_file\n",
    "file = test_file\n",
    "\n",
    "org_sj_test_data, test_scale, sj_columns = generate_lstm_data(\n",
    "    file, history_size=52, \n",
    "    cols=new_sj_cols_no_label, \n",
    "    norm_cols=new_sj_norm, \n",
    "    scale_cols=new_sj_scale, \n",
    "    single_step=True, \n",
    "    train_frac=1.0, train_scale=sj_norm_scale, \n",
    "    prepend_with_file=train_file,\n",
    "    extra_columns=extra_sj_cols,\n",
    "    group_by_column=True\n",
    ")\n",
    "org_iq_test_data, test_scale, iq_columns = generate_lstm_data(\n",
    "    file, history_size=52, \n",
    "    cols=new_iq_cols_no_label, \n",
    "    norm_cols=new_iq_norm, \n",
    "    scale_cols=new_iq_scale, \n",
    "    single_step=True, \n",
    "    train_frac=1.0, train_scale=iq_norm_scale, \n",
    "    prepend_with_file=train_file,\n",
    "    extra_columns=extra_iq_cols,\n",
    "    group_by_column=True\n",
    ")\n",
    "sj_test_x, sj_test_y = org_sj_test_data[0]\n",
    "sj_test_x = np.array(sj_test_x)\n",
    "sj_test_y = np.array(sj_test_y)\n",
    "iq_test_x, iq_test_y = org_iq_test_data[1]\n",
    "iq_test_x = np.array(iq_test_x)\n",
    "iq_test_y = np.array(iq_test_y)\n",
    "trimed_test_sj_x = trim_data(sj_test_x, sj_columns, sj_col_size)\n",
    "trimed_test_iq_x = trim_data(iq_test_x, iq_columns, iq_col_size)\n",
    "sj_test_set = tf.data.Dataset.from_tensor_slices((trimed_test_sj_x, sj_test_y)).batch(len(sj_test_y))\n",
    "print(trimed_test_sj_x.shape)\n",
    "\n",
    "sj_pred = []\n",
    "for x, y in sj_test_set.take(1):\n",
    "    predictions = sj_model.predict(x)\n",
    "    sj_pred = predictions.flatten()\n",
    "    print(len(predictions.flatten()))"
   ]
  },
  {
   "cell_type": "code",
   "execution_count": 46,
   "metadata": {},
   "outputs": [
    {
     "name": "stdout",
     "output_type": "stream",
     "text": [
      "156\n"
     ]
    }
   ],
   "source": [
    "iq_test_set = tf.data.Dataset.from_tensor_slices((trimed_test_iq_x, iq_test_y)).batch(len(iq_test_y))\n",
    "iq_pred = []\n",
    "for x, y in iq_test_set.take(1):\n",
    "    predictions = iq_model.predict(x)\n",
    "    iq_pred = predictions.flatten()\n",
    "    print(len(predictions.flatten()))"
   ]
  },
  {
   "cell_type": "code",
   "execution_count": 47,
   "metadata": {},
   "outputs": [
    {
     "name": "stdout",
     "output_type": "stream",
     "text": [
      "416\n",
      "asas\n"
     ]
    }
   ],
   "source": [
    "from preprocessing_helpers import export_test_to_csv\n",
    "preds = np.concatenate((sj_pred, iq_pred), axis=None)\n",
    "export_test_to_csv(predictions=preds,path=file, prefix='test' if file == test_file else 'train')"
   ]
  },
  {
   "cell_type": "code",
   "execution_count": 48,
   "metadata": {},
   "outputs": [
    {
     "data": {
      "image/png": "[encoded data removed]",
      "text/plain": [
       "<IPython.core.display.Image object>"
      ]
     },
     "execution_count": 48,
     "metadata": {},
     "output_type": "execute_result"
    }
   ],
   "source": [
    "#Current Ranking (baseline)\n",
    "Image(\"img/current-25-05.png\")"
   ]
  },
  {
   "cell_type": "code",
   "execution_count": 15,
   "metadata": {},
   "outputs": [],
   "source": [
    "# Tensorboard\n",
    "# https://tensorboard.dev/experiment/rsdMubj0S165iOdLmbd13A/#scalars"
   ]
  },
  {
   "cell_type": "code",
   "execution_count": 49,
   "metadata": {},
   "outputs": [],
   "source": [
    "# sj_model.save('models/sj_model_17.57MAP.h5') \n",
    "# iq_model.save('models/iq_model_17.57MAP.h5') "
   ]
  },
  {
   "cell_type": "code",
   "execution_count": null,
   "metadata": {},
   "outputs": [],
   "source": []
  }
 ],
 "metadata": {
  "kernelspec": {
   "display_name": "Python 3",
   "language": "python",
   "name": "python3"
  },
  "language_info": {
   "codemirror_mode": {
    "name": "ipython",
    "version": 3
   },
   "file_extension": ".py",
   "mimetype": "text/x-python",
   "name": "python",
   "nbconvert_exporter": "python",
   "pygments_lexer": "ipython3",
   "version": "3.7.6"
  }
 },
 "nbformat": 4,
 "nbformat_minor": 4
}
