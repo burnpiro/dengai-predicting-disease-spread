{
 "cells": [
  {
   "cell_type": "code",
   "execution_count": 1,
   "metadata": {},
   "outputs": [],
   "source": [
    "from __future__ import absolute_import, division, print_function, unicode_literals\n",
    "import functools\n",
    "from IPython.display import Image, clear_output\n",
    "\n",
    "import matplotlib.pyplot as plt\n",
    "from sklearn.preprocessing import StandardScaler, MinMaxScaler\n",
    "import numpy as np\n",
    "import tensorflow as tf\n",
    "import pandas as pd\n",
    "from data_info import *\n",
    "from preprocessing_helpers import *\n",
    "from datetime import datetime\n",
    "%matplotlib inline\n",
    "pd.set_option(\"display.precision\", 2)\n",
    "tf.random.set_seed(42)"
   ]
  },
  {
   "cell_type": "code",
   "execution_count": 2,
   "metadata": {},
   "outputs": [],
   "source": [
    "new_cols = [LABEL_COLUMN] + CATEGORICAL_COLUMNS + [\n",
    "                   'weekofyear',\n",
    "                'precipitation_amt_mm',\n",
    "                'reanalysis_air_temp_k',\n",
    "                'reanalysis_avg_temp_k',\n",
    "                'reanalysis_max_air_temp_k',\n",
    "                'reanalysis_min_air_temp_k',\n",
    "                'reanalysis_precip_amt_kg_per_m2',\n",
    "                'reanalysis_relative_humidity_percent',\n",
    "                'reanalysis_sat_precip_amt_mm',\n",
    "                'station_avg_temp_c',\n",
    "                'station_max_temp_c',\n",
    "                'station_min_temp_c',\n",
    "                'station_precip_mm'\n",
    "] + [DATETIME_COLUMN]\n",
    "new_cols_no_label = CATEGORICAL_COLUMNS + [\n",
    "                   'weekofyear',\n",
    "                'precipitation_amt_mm',\n",
    "                'reanalysis_air_temp_k',\n",
    "                'reanalysis_avg_temp_k',\n",
    "                'reanalysis_max_air_temp_k',\n",
    "                'reanalysis_min_air_temp_k',\n",
    "                'reanalysis_precip_amt_kg_per_m2',\n",
    "                'reanalysis_relative_humidity_percent',\n",
    "                'reanalysis_sat_precip_amt_mm',\n",
    "                'station_avg_temp_c',\n",
    "                'station_max_temp_c',\n",
    "                'station_min_temp_c',\n",
    "                'station_precip_mm'\n",
    "] + [DATETIME_COLUMN]\n",
    "new_norm = [\n",
    "                'precipitation_amt_mm',\n",
    "                'reanalysis_air_temp_k',\n",
    "                'reanalysis_avg_temp_k',\n",
    "                'reanalysis_max_air_temp_k',\n",
    "                'reanalysis_min_air_temp_k',\n",
    "                'reanalysis_precip_amt_kg_per_m2',\n",
    "                'reanalysis_relative_humidity_percent',\n",
    "                'reanalysis_sat_precip_amt_mm',\n",
    "                'station_avg_temp_c',\n",
    "                'station_max_temp_c',\n",
    "                'station_min_temp_c',\n",
    "                'station_precip_mm'\n",
    "]\n",
    "\n",
    "new_scale = [\n",
    "                   'weekofyear',\n",
    "]\n",
    "\n",
    "extra_cols = [\n",
    "]"
   ]
  },
  {
   "cell_type": "code",
   "execution_count": 10,
   "metadata": {},
   "outputs": [
    {
     "data": {
      "text/plain": [
       "520"
      ]
     },
     "execution_count": 10,
     "metadata": {},
     "output_type": "execute_result"
    }
   ],
   "source": [
    "datasets, norm_scale = generate_lstm_data(\n",
    "    train_file, \n",
    "    single_step=True, \n",
    "    history_size=26, \n",
    "    cols=new_cols, \n",
    "    norm_cols=new_norm, \n",
    "    scale_cols=new_scale,\n",
    "    extra_columns=extra_cols,\n",
    "    prepend_with_file=train_file,\n",
    "    train_frac=1.0\n",
    ")\n",
    "sj_train_x, sj_train_y = datasets[1][0]\n",
    "len(sj_train_x)"
   ]
  },
  {
   "cell_type": "code",
   "execution_count": 11,
   "metadata": {},
   "outputs": [],
   "source": [
    "(sj_train_x, sj_train_y) = datasets[0][0]\n",
    "(iq_train_x, iq_train_y) = datasets[1][0]\n",
    "sj_train_x = sj_train_x.reshape(sj_train_x.shape[0], sj_train_x.shape[1] * sj_train_x.shape[2])\n",
    "iq_train_x = iq_train_x.reshape(iq_train_x.shape[0], iq_train_x.shape[1] * iq_train_x.shape[2])"
   ]
  },
  {
   "cell_type": "code",
   "execution_count": 12,
   "metadata": {},
   "outputs": [],
   "source": [
    "BATCH_SIZE = 8\n",
    "BUFFER_SIZE = 500\n",
    "train_sj_data_single = tf.data.Dataset.from_tensor_slices((sj_train_x, sj_train_y))\n",
    "train_sj_data_single = train_sj_data_single.cache().shuffle(BUFFER_SIZE).batch(BATCH_SIZE).repeat(10)\n",
    "\n",
    "# val_sj_data_single = tf.data.Dataset.from_tensor_slices((sj_val_x, sj_val_y))\n",
    "# val_sj_data_single = val_sj_data_single.batch(BATCH_SIZE).repeat()"
   ]
  },
  {
   "cell_type": "code",
   "execution_count": 23,
   "metadata": {},
   "outputs": [
    {
     "name": "stdout",
     "output_type": "stream",
     "text": [
      "(936, 338)\n"
     ]
    }
   ],
   "source": [
    "# Build network with \n",
    "def build_model(optimizer = None, nodes=256):\n",
    "  model = tf.keras.Sequential([\n",
    "    tf.keras.layers.Input(shape=sj_train_x.shape[-1]),\n",
    "    tf.keras.layers.Dense(nodes, activation='relu'),\n",
    "    tf.keras.layers.Dropout(0.5),\n",
    "    tf.keras.layers.Dense(nodes/2, activation='relu'),\n",
    "    tf.keras.layers.Dropout(0.5),\n",
    "    tf.keras.layers.Dense(1)\n",
    "  ])\n",
    "\n",
    "  if not optimizer:\n",
    "    optimizer = tf.keras.optimizers.Adam(learning_rate=0.01, beta_1=0.9, beta_2=0.9999, amsgrad=False)\n",
    "\n",
    "  model.compile(loss='mae',\n",
    "                optimizer=optimizer,\n",
    "                metrics=['mae', 'mse'])\n",
    "  return model\n",
    "\n",
    "print(sj_train_x.shape[-2:])"
   ]
  },
  {
   "cell_type": "code",
   "execution_count": 35,
   "metadata": {},
   "outputs": [
    {
     "name": "stdout",
     "output_type": "stream",
     "text": [
      "Train for 200 steps\n",
      "Epoch 1/4\n",
      "200/200 [==============================] - 2s 8ms/step - loss: 19.4583 - mae: 19.4583 - mse: 1909.0731\n",
      "Epoch 2/4\n",
      "200/200 [==============================] - 1s 6ms/step - loss: 17.6009 - mae: 17.6009 - mse: 1743.4437\n",
      "Epoch 3/4\n",
      "200/200 [==============================] - 1s 6ms/step - loss: 17.9033 - mae: 17.9033 - mse: 1731.2126\n",
      "Epoch 4/4\n",
      "200/200 [==============================] - 1s 6ms/step - loss: 16.6686 - mae: 16.6686 - mse: 1613.8042\n"
     ]
    }
   ],
   "source": [
    "log_dir=\"logs/fit/lstm\" + datetime.now().strftime(\"%Y%m%d-%H%M%S\")\n",
    "tensorboard_callback = tf.keras.callbacks.TensorBoard(log_dir=log_dir, histogram_freq=1)\n",
    "\n",
    "# create model\n",
    "# optimizer = tf.keras.optimizers.SGD(learning_rate=0.005, momentum=0.01, nesterov=False, name='SGD')\n",
    "\n",
    "\n",
    "# Train the Model.\n",
    "EVALUATION_INTERVAL = 200\n",
    "EPOCHS = 4\n",
    "\n",
    "reduce_lr = tf.keras.callbacks.ReduceLROnPlateau(monitor=\"mae\", factor=0.8, patience=5, min_lr=1e-6, verbose=1,\n",
    "                                                     mode=\"max\")\n",
    "\n",
    "train_sj_data_single = tf.data.Dataset.from_tensor_slices(\n",
    "    (\n",
    "        np.concatenate((sj_train_x,iq_train_x),axis=0), \n",
    "        np.concatenate((sj_train_y,iq_train_y),axis=0)\n",
    "    )\n",
    ")\n",
    "train_sj_data_single = train_sj_data_single.cache().shuffle(BUFFER_SIZE).batch(BATCH_SIZE).repeat()\n",
    "\n",
    "opt = tf.keras.optimizers.RMSprop(\n",
    "    learning_rate=0.01, rho=0.9, momentum=0.0, epsilon=1e-07, centered=False,\n",
    "    name='RMSprop'\n",
    ")\n",
    "sj_model = build_model(optimizer=opt, nodes=60)\n",
    "history = sj_model.fit(\n",
    "    train_sj_data_single,\n",
    "    epochs=EPOCHS, \n",
    "    steps_per_epoch=EVALUATION_INTERVAL,\n",
    "    verbose=1,\n",
    "    callbacks=[tensorboard_callback, reduce_lr])"
   ]
  },
  {
   "cell_type": "code",
   "execution_count": 51,
   "metadata": {},
   "outputs": [
    {
     "name": "stdout",
     "output_type": "stream",
     "text": [
      "Train for 200 steps\n",
      "Epoch 1/8\n",
      "200/200 [==============================] - 2s 8ms/step - loss: 6.2454 - mae: 6.2454 - mse: 123.5171\n",
      "Epoch 2/8\n",
      "200/200 [==============================] - 1s 6ms/step - loss: 5.8820 - mae: 5.8820 - mse: 118.1231\n",
      "Epoch 3/8\n",
      "200/200 [==============================] - 1s 6ms/step - loss: 5.8909 - mae: 5.8909 - mse: 118.2840\n",
      "Epoch 4/8\n",
      "200/200 [==============================] - 1s 6ms/step - loss: 5.6354 - mae: 5.6354 - mse: 113.5622\n",
      "Epoch 5/8\n",
      "200/200 [==============================] - 1s 6ms/step - loss: 5.3940 - mae: 5.3940 - mse: 107.0203\n",
      "Epoch 6/8\n",
      "195/200 [============================>.] - ETA: 0s - loss: 5.2404 - mae: 5.2404 - mse: 105.2660\n",
      "Epoch 00006: ReduceLROnPlateau reducing learning rate to 0.000800000037997961.\n",
      "200/200 [==============================] - 1s 6ms/step - loss: 5.4048 - mae: 5.4048 - mse: 116.3140\n",
      "Epoch 7/8\n",
      "200/200 [==============================] - 1s 6ms/step - loss: 5.0312 - mae: 5.0312 - mse: 96.3540\n",
      "Epoch 8/8\n",
      "200/200 [==============================] - 1s 6ms/step - loss: 5.0671 - mae: 5.0671 - mse: 101.3835\n"
     ]
    }
   ],
   "source": [
    "train_iq_data_single = tf.data.Dataset.from_tensor_slices((iq_train_x, iq_train_y))\n",
    "train_iq_data_single = train_iq_data_single.cache().shuffle(BUFFER_SIZE).batch(BATCH_SIZE).repeat()\n",
    "\n",
    "EPOCHS = 8\n",
    "# opt = tf.keras.optimizers.Adam(learning_rate=0.1, beta_1=0.9, beta_2=0.999, amsgrad=False)\n",
    "opt = tf.keras.optimizers.RMSprop(\n",
    "    learning_rate=0.001, rho=0.9, momentum=0.0, epsilon=1e-07, centered=False,\n",
    "    name='RMSprop'\n",
    ")\n",
    "iq_model = build_model(optimizer=opt, nodes=120)\n",
    "train_iq_data_single = tf.data.Dataset.from_tensor_slices((iq_train_x, iq_train_y))\n",
    "train_iq_data_single = train_iq_data_single.cache().batch(BATCH_SIZE).repeat()\n",
    "\n",
    "reduce_lr = tf.keras.callbacks.ReduceLROnPlateau(monitor=\"mae\", factor=0.8, patience=5, min_lr=1e-6, verbose=1,\n",
    "                                                     mode=\"max\")\n",
    "history = iq_model.fit(\n",
    "    train_iq_data_single,\n",
    "    epochs=EPOCHS, \n",
    "    steps_per_epoch=EVALUATION_INTERVAL,\n",
    "    verbose=1,\n",
    "    callbacks=[tensorboard_callback, reduce_lr])"
   ]
  },
  {
   "cell_type": "code",
   "execution_count": 55,
   "metadata": {},
   "outputs": [
    {
     "name": "stdout",
     "output_type": "stream",
     "text": [
      "['city', 'weekofyear', 'precipitation_amt_mm', 'reanalysis_air_temp_k', 'reanalysis_avg_temp_k', 'reanalysis_max_air_temp_k', 'reanalysis_min_air_temp_k', 'reanalysis_precip_amt_kg_per_m2', 'reanalysis_relative_humidity_percent', 'reanalysis_sat_precip_amt_mm', 'station_avg_temp_c', 'station_max_temp_c', 'station_min_temp_c', 'station_precip_mm', 'week_start_date']\n",
      "['precipitation_amt_mm', 'reanalysis_air_temp_k', 'reanalysis_avg_temp_k', 'reanalysis_max_air_temp_k', 'reanalysis_min_air_temp_k', 'reanalysis_precip_amt_kg_per_m2', 'reanalysis_relative_humidity_percent', 'reanalysis_sat_precip_amt_mm', 'station_avg_temp_c', 'station_max_temp_c', 'station_min_temp_c', 'station_precip_mm']\n",
      "['weekofyear']\n",
      "260\n"
     ]
    }
   ],
   "source": [
    "file = train_file\n",
    "file = test_file\n",
    "\n",
    "print(new_cols_no_label)\n",
    "print(new_norm)\n",
    "print(new_scale)\n",
    "org_test_data, test_scale = generate_lstm_data(\n",
    "    file, history_size=26, \n",
    "    cols=new_cols_no_label, \n",
    "    norm_cols=new_norm, \n",
    "    scale_cols=new_scale, \n",
    "    single_step=True, \n",
    "    train_frac=1.0, train_scale=norm_scale, \n",
    "    prepend_with_file=train_file,\n",
    "    extra_columns=extra_cols\n",
    ")\n",
    "(sj_test_x, sj_test_y), = org_test_data[0]\n",
    "(iq_test_x, iq_test_y), = org_test_data[1]\n",
    "sj_test_x = sj_test_x.reshape(sj_test_x.shape[0], sj_test_x.shape[1] * sj_test_x.shape[2])\n",
    "iq_test_x = iq_test_x.reshape(iq_test_x.shape[0], iq_test_x.shape[1] * iq_test_x.shape[2])\n",
    "sj_test_set = tf.data.Dataset.from_tensor_slices((sj_test_x, sj_test_y)).batch(len(sj_test_y))\n",
    "\n",
    "sj_pred = []\n",
    "for x, y in sj_test_set.take(1):\n",
    "    predictions = sj_model.predict(x)\n",
    "    sj_pred = predictions.flatten()\n",
    "    print(len(predictions.flatten()))"
   ]
  },
  {
   "cell_type": "code",
   "execution_count": 56,
   "metadata": {},
   "outputs": [
    {
     "name": "stdout",
     "output_type": "stream",
     "text": [
      "156\n"
     ]
    }
   ],
   "source": [
    "iq_test_set = tf.data.Dataset.from_tensor_slices((iq_test_x, iq_test_y)).batch(len(iq_test_y))\n",
    "iq_pred = []\n",
    "for x, y in iq_test_set.take(1):\n",
    "    predictions = iq_model.predict(x)\n",
    "    iq_pred = predictions.flatten()\n",
    "    print(len(predictions.flatten()))"
   ]
  },
  {
   "cell_type": "code",
   "execution_count": 57,
   "metadata": {},
   "outputs": [
    {
     "name": "stdout",
     "output_type": "stream",
     "text": [
      "416\n",
      "asas\n"
     ]
    }
   ],
   "source": [
    "from preprocessing_helpers import export_test_to_csv\n",
    "preds = np.concatenate((sj_pred, iq_pred), axis=None)\n",
    "export_test_to_csv(predictions=preds,path=file, prefix='test' if file == test_file else 'train')"
   ]
  },
  {
   "cell_type": "code",
   "execution_count": 58,
   "metadata": {},
   "outputs": [
    {
     "data": {
      "image/png": "[encoded data removed]",
      "text/plain": [
       "<IPython.core.display.Image object>"
      ]
     },
     "execution_count": 58,
     "metadata": {},
     "output_type": "execute_result"
    }
   ],
   "source": [
    "#Current Ranking (baseline)\n",
    "Image(\"img/current-04-05.png\")"
   ]
  },
  {
   "cell_type": "code",
   "execution_count": 15,
   "metadata": {},
   "outputs": [],
   "source": [
    "# Tensorboard\n",
    "# https://tensorboard.dev/experiment/rsdMubj0S165iOdLmbd13A/#scalars"
   ]
  },
  {
   "cell_type": "code",
   "execution_count": null,
   "metadata": {},
   "outputs": [],
   "source": []
  }
 ],
 "metadata": {
  "kernelspec": {
   "display_name": "Python 3",
   "language": "python",
   "name": "python3"
  },
  "language_info": {
   "codemirror_mode": {
    "name": "ipython",
    "version": 3
   },
   "file_extension": ".py",
   "mimetype": "text/x-python",
   "name": "python",
   "nbconvert_exporter": "python",
   "pygments_lexer": "ipython3",
   "version": "3.7.6"
  }
 },
 "nbformat": 4,
 "nbformat_minor": 4
}
