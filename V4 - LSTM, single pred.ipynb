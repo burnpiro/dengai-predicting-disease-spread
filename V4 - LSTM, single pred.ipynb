{
 "cells": [
  {
   "cell_type": "code",
   "execution_count": 1,
   "metadata": {},
   "outputs": [],
   "source": [
    "from __future__ import absolute_import, division, print_function, unicode_literals\n",
    "import functools\n",
    "from IPython.display import Image, clear_output\n",
    "\n",
    "import matplotlib.pyplot as plt\n",
    "from sklearn.preprocessing import StandardScaler, MinMaxScaler\n",
    "import numpy as np\n",
    "import tensorflow as tf\n",
    "import pandas as pd\n",
    "from data_info import *\n",
    "from preprocessing_helpers import *\n",
    "from datetime import datetime\n",
    "%matplotlib inline\n",
    "pd.set_option(\"display.precision\", 2)\n",
    "tf.random.set_seed(42)"
   ]
  },
  {
   "cell_type": "code",
   "execution_count": 2,
   "metadata": {},
   "outputs": [],
   "source": [
    "new_cols = ['reanalysis_tdtr_k',\n",
    "                   'station_diur_temp_rng_c',\n",
    "                   'precipitation_amt_mm']\n",
    "new_norm = [\n",
    "                   'reanalysis_tdtr_k',\n",
    "                   'station_diur_temp_rng_c',\n",
    "                   'precipitation_amt_mm',\n",
    "]"
   ]
  },
  {
   "cell_type": "code",
   "execution_count": 3,
   "metadata": {},
   "outputs": [],
   "source": [
    "datasets, norm_scale = generate_lstm_data(train_file, single_step=True)"
   ]
  },
  {
   "cell_type": "code",
   "execution_count": 4,
   "metadata": {
    "scrolled": false
   },
   "outputs": [],
   "source": [
    "(sj_train_x, sj_train_y), (sj_val_x, sj_val_y) = datasets[0]\n",
    "(iq_train_x, iq_train_y), (iq_val_x, iq_val_y) = datasets[1]"
   ]
  },
  {
   "cell_type": "code",
   "execution_count": 5,
   "metadata": {},
   "outputs": [],
   "source": [
    "BATCH_SIZE = 16\n",
    "BUFFER_SIZE = 100\n",
    "train_sj_data_single = tf.data.Dataset.from_tensor_slices((sj_train_x, sj_train_y))\n",
    "train_sj_data_single = train_sj_data_single.cache().shuffle(BUFFER_SIZE).batch(BATCH_SIZE).repeat()\n",
    "\n",
    "val_sj_data_single = tf.data.Dataset.from_tensor_slices((sj_val_x, sj_val_y))\n",
    "val_sj_data_single = val_sj_data_single.batch(BATCH_SIZE).repeat()"
   ]
  },
  {
   "cell_type": "code",
   "execution_count": 6,
   "metadata": {},
   "outputs": [
    {
     "data": {
      "text/plain": [
       "(6, 16)"
      ]
     },
     "execution_count": 6,
     "metadata": {},
     "output_type": "execute_result"
    }
   ],
   "source": [
    "sj_train_x[0].shape"
   ]
  },
  {
   "cell_type": "code",
   "execution_count": 7,
   "metadata": {},
   "outputs": [],
   "source": [
    "# Build network with \n",
    "def build_model(optimizer = None):\n",
    "  model = tf.keras.Sequential([\n",
    "    tf.keras.layers.LSTM(32, input_shape=sj_train_x.shape[-2:]),\n",
    "    tf.keras.layers.Dense(1)\n",
    "  ])\n",
    "\n",
    "  if not optimizer:\n",
    "    optimizer = tf.keras.optimizers.RMSprop()\n",
    "\n",
    "  model.compile(loss='mae',\n",
    "                optimizer=optimizer,\n",
    "                metrics=['mae'])\n",
    "  return model\n"
   ]
  },
  {
   "cell_type": "code",
   "execution_count": 8,
   "metadata": {},
   "outputs": [
    {
     "name": "stdout",
     "output_type": "stream",
     "text": [
      "Train for 200 steps, validate for 50 steps\n",
      "Epoch 1/10\n",
      "200/200 [==============================] - 4s 19ms/step - loss: 32.0584 - mae: 32.2753 - val_loss: 17.0110 - val_mae: 17.5614\n",
      "Epoch 2/10\n",
      "200/200 [==============================] - 2s 9ms/step - loss: 27.4727 - mae: 27.6999 - val_loss: 16.2435 - val_mae: 16.7830\n",
      "Epoch 3/10\n",
      "200/200 [==============================] - 2s 9ms/step - loss: 24.9098 - mae: 25.0101 - val_loss: 15.6548 - val_mae: 16.3416\n",
      "Epoch 4/10\n",
      "200/200 [==============================] - 2s 9ms/step - loss: 23.8150 - mae: 24.0370 - val_loss: 15.7628 - val_mae: 16.4623\n",
      "Epoch 5/10\n",
      "200/200 [==============================] - 2s 8ms/step - loss: 24.5574 - mae: 24.7497 - val_loss: 16.6089 - val_mae: 17.1652\n",
      "Epoch 6/10\n",
      "200/200 [==============================] - 2s 9ms/step - loss: 23.9837 - mae: 24.1809 - val_loss: 16.3301 - val_mae: 16.9623\n",
      "Epoch 7/10\n",
      "200/200 [==============================] - 2s 9ms/step - loss: 23.2976 - mae: 23.4373 - val_loss: 15.8738 - val_mae: 16.6337\n",
      "Epoch 8/10\n",
      "200/200 [==============================] - 2s 9ms/step - loss: 22.6180 - mae: 22.7967 - val_loss: 15.8729 - val_mae: 16.5924\n",
      "Epoch 9/10\n",
      "200/200 [==============================] - 2s 9ms/step - loss: 23.5932 - mae: 23.7449 - val_loss: 16.6275 - val_mae: 17.2246\n",
      "Epoch 10/10\n",
      "200/200 [==============================] - 2s 9ms/step - loss: 23.0326 - mae: 23.1675 - val_loss: 16.5436 - val_mae: 17.1863\n"
     ]
    }
   ],
   "source": [
    "log_dir=\"logs/fit/lstm\" + datetime.now().strftime(\"%Y%m%d-%H%M%S\")\n",
    "tensorboard_callback = tf.keras.callbacks.TensorBoard(log_dir=log_dir, histogram_freq=1)\n",
    "\n",
    "# create model\n",
    "# optimizer = tf.keras.optimizers.SGD(learning_rate=0.005, momentum=0.01, nesterov=False, name='SGD')\n",
    "sj_model = build_model()\n",
    "\n",
    "# Train the Model.\n",
    "EVALUATION_INTERVAL = 200\n",
    "EPOCHS = 10\n",
    "\n",
    "# The patience parameter is the amount of epochs to check for improvement\n",
    "early_stop = tf.keras.callbacks.EarlyStopping(monitor='val_loss', patience=15)\n",
    "\n",
    "reduce_lr = tf.keras.callbacks.ReduceLROnPlateau(monitor=\"val_loss\", factor=0.8, patience=5, min_lr=1e-6, verbose=1,\n",
    "                                                     mode=\"max\")\n",
    "\n",
    "history = sj_model.fit(\n",
    "    train_sj_data_single,\n",
    "    epochs=EPOCHS, \n",
    "    steps_per_epoch=EVALUATION_INTERVAL,\n",
    "    validation_data = val_sj_data_single, \n",
    "    verbose=1,\n",
    "    validation_steps=50,\n",
    "    callbacks=[tensorboard_callback])"
   ]
  },
  {
   "cell_type": "code",
   "execution_count": 9,
   "metadata": {},
   "outputs": [
    {
     "name": "stdout",
     "output_type": "stream",
     "text": [
      "(16, 6, 16)\n",
      "(16,)\n",
      "[[29.140396]\n",
      " [29.04152 ]\n",
      " [28.502636]\n",
      " [28.475296]\n",
      " [28.08214 ]\n",
      " [27.77568 ]\n",
      " [26.93968 ]\n",
      " [26.945045]\n",
      " [27.944836]\n",
      " [27.943594]\n",
      " [22.224384]\n",
      " [27.047972]\n",
      " [27.644915]\n",
      " [27.752434]\n",
      " [20.993252]\n",
      " [15.270473]]\n"
     ]
    }
   ],
   "source": [
    "for x, y in val_sj_data_single.take(1):\n",
    "    print(x.numpy().shape)\n",
    "    print(y.numpy().shape)\n",
    "    print(sj_model.predict(x))"
   ]
  },
  {
   "cell_type": "code",
   "execution_count": 10,
   "metadata": {},
   "outputs": [
    {
     "name": "stdout",
     "output_type": "stream",
     "text": [
      "[[-0.79509535 -1.26376015 -1.33630091 -1.85464986 -1.50275558 -0.9260925\n",
      "  -0.59271429 -1.96369749 -0.79509535 -1.81308259 -0.86069023 -1.17995419\n",
      "  -1.12495713 -1.56874922 -0.26173096 -0.76572262]\n",
      " [-0.79509535 -1.41868    -1.50636384 -1.84918014 -1.26441291 -1.85433371\n",
      "  -0.83156182 -1.6732169  -0.79509535 -1.80299656  2.72603001 -1.27083192\n",
      "   0.34596776 -0.92873012 -1.32512837 -0.89916642]\n",
      " [-0.18414561 -1.77938889 -1.89926785 -1.91937487 -1.34386047 -2.24110088\n",
      "  -0.64425804 -1.27914423 -0.18414561 -1.86259585  0.74616043 -1.38190471\n",
      "  -1.15916469 -0.92873012 -0.99281668 -0.85468516]\n",
      " [-0.7092613  -0.87067995 -0.85543332 -1.19190216 -1.26441291 -0.61667877\n",
      "  -0.75354205 -1.17470652 -0.7092613  -1.20883748  0.40183529 -0.53371251\n",
      "   0.07230732 -0.5796288  -0.26173096 -0.89916642]\n",
      " [-0.41401012 -1.37359139 -1.40080754 -1.51279238 -1.58220313 -1.1581528\n",
      "   0.12889819 -1.04828192 -0.41401012 -1.51600305 -0.6598339  -1.41219729\n",
      "  -1.24468358 -1.27783145 -0.59404265  0.13416761]\n",
      " [-0.79509535 -1.23601331 -1.22488037 -1.80542238 -1.34386047 -1.08079937\n",
      "  -0.72115117 -1.85968261 -0.79509535 -1.72505903  0.5453041  -1.19005171\n",
      "  -0.6118438  -1.27783145 -0.59404265 -0.53305139]]\n",
      "260\n",
      "260\n"
     ]
    }
   ],
   "source": [
    "org_test_data, test_scale = generate_lstm_data(test_file_in, cols=CSV_COLUMNS_NO_LABEL + [DATETIME_COLUMN], single_step=True, train_frac=1.0, train_scale=norm_scale)\n",
    "(sj_test_x, sj_test_y), = org_test_data[0]\n",
    "(iq_test_x, iq_test_y), = org_test_data[1]\n",
    "# val_set = tf.data.Dataset.from_tensor_slices((sj_val_x, sj_val_y))\n",
    "# sj_test_set = val_set.concatenate(tf.data.Dataset.from_tensor_slices((sj_test_x, sj_test_y))).batch(1 + len(sj_val_y))\n",
    "sj_test_set = tf.data.Dataset.from_tensor_slices((sj_test_x, sj_test_y)).batch(len(sj_test_y))\n",
    "\n",
    "print(sj_test_x[0])\n",
    "print(len(sj_test_y))\n",
    "# print(sj_val_y)\n",
    "# print(sj_val_x[0])\n",
    "sj_pred = []\n",
    "for x, y in sj_test_set.take(1):\n",
    "#     print(x)\n",
    "    predictions = sj_model.predict(x)\n",
    "    sj_pred = predictions.flatten()\n",
    "    print(len(predictions.flatten()))\n",
    "# test_predictions = model.predict(org_test_data).flatten()"
   ]
  },
  {
   "cell_type": "code",
   "execution_count": 11,
   "metadata": {},
   "outputs": [
    {
     "name": "stdout",
     "output_type": "stream",
     "text": [
      "Train for 200 steps, validate for 50 steps\n",
      "Epoch 1/10\n",
      "200/200 [==============================] - 3s 14ms/step - loss: 5.6237 - mae: 5.6040 - val_loss: 6.7057 - val_mae: 7.6272\n",
      "Epoch 2/10\n",
      "200/200 [==============================] - 2s 9ms/step - loss: 5.0591 - mae: 5.0520 - val_loss: 6.9734 - val_mae: 7.9835\n",
      "Epoch 3/10\n",
      "200/200 [==============================] - 2s 9ms/step - loss: 4.7893 - mae: 4.7779 - val_loss: 7.4127 - val_mae: 8.1539\n",
      "Epoch 4/10\n",
      "200/200 [==============================] - 2s 9ms/step - loss: 4.4999 - mae: 4.5127 - val_loss: 7.6339 - val_mae: 8.4813\n",
      "Epoch 5/10\n",
      "200/200 [==============================] - 2s 9ms/step - loss: 4.3266 - mae: 4.3014 - val_loss: 7.7391 - val_mae: 8.4712\n",
      "Epoch 6/10\n",
      "200/200 [==============================] - 2s 9ms/step - loss: 4.1903 - mae: 4.1889 - val_loss: 7.9988 - val_mae: 8.5727\n",
      "Epoch 7/10\n",
      "200/200 [==============================] - 2s 9ms/step - loss: 4.0644 - mae: 4.0544 - val_loss: 7.9524 - val_mae: 8.7470\n",
      "Epoch 8/10\n",
      "200/200 [==============================] - 2s 9ms/step - loss: 3.8788 - mae: 3.8840 - val_loss: 8.2100 - val_mae: 8.9600\n",
      "Epoch 9/10\n",
      "200/200 [==============================] - 2s 9ms/step - loss: 3.8210 - mae: 3.8172 - val_loss: 8.2990 - val_mae: 8.8737\n",
      "Epoch 10/10\n",
      "200/200 [==============================] - 2s 9ms/step - loss: 3.7069 - mae: 3.6882 - val_loss: 8.3409 - val_mae: 8.8000\n"
     ]
    }
   ],
   "source": [
    "train_iq_data_single = tf.data.Dataset.from_tensor_slices((iq_train_x, iq_train_y))\n",
    "train_iq_data_single = train_iq_data_single.cache().shuffle(BUFFER_SIZE).batch(BATCH_SIZE).repeat()\n",
    "\n",
    "val_iq_data_single = tf.data.Dataset.from_tensor_slices((iq_val_x, iq_val_y))\n",
    "val_iq_data_single = val_iq_data_single.batch(BATCH_SIZE).repeat()\n",
    "\n",
    "\n",
    "iq_model = build_model()\n",
    "\n",
    "history = iq_model.fit(\n",
    "    train_iq_data_single,\n",
    "    epochs=EPOCHS, \n",
    "    steps_per_epoch=EVALUATION_INTERVAL,\n",
    "    validation_data = val_iq_data_single, \n",
    "    verbose=1,\n",
    "    validation_steps=50,\n",
    "    callbacks=[tensorboard_callback])"
   ]
  },
  {
   "cell_type": "code",
   "execution_count": 13,
   "metadata": {},
   "outputs": [
    {
     "name": "stdout",
     "output_type": "stream",
     "text": [
      "156\n",
      "156\n",
      "156\n"
     ]
    }
   ],
   "source": [
    "iq_test_set = tf.data.Dataset.from_tensor_slices((iq_test_x, iq_test_y)).batch(len(iq_test_y))\n",
    "print(len(iq_test_y))\n",
    "iq_pred = []\n",
    "for x, y in iq_test_set.take(1):\n",
    "    print(len(x))\n",
    "    predictions = iq_model.predict(x)\n",
    "    iq_pred = predictions.flatten()\n",
    "    print(len(predictions.flatten()))\n",
    "    \n",
    "# print(pred)\n",
    "# print(len(pred))"
   ]
  },
  {
   "cell_type": "code",
   "execution_count": 14,
   "metadata": {},
   "outputs": [
    {
     "name": "stdout",
     "output_type": "stream",
     "text": [
      "416\n",
      "asas\n"
     ]
    }
   ],
   "source": [
    "from preprocessing_helpers import export_test_to_csv\n",
    "preds = np.concatenate((sj_pred, iq_pred), axis=None)\n",
    "export_test_to_csv(predictions=preds)"
   ]
  },
  {
   "cell_type": "code",
   "execution_count": 15,
   "metadata": {},
   "outputs": [
    {
     "data": {
      "image/png": "[encoded data removed]",
      "text/plain": [
       "<IPython.core.display.Image object>"
      ]
     },
     "execution_count": 15,
     "metadata": {},
     "output_type": "execute_result"
    }
   ],
   "source": [
    "#Current Ranking (baseline)\n",
    "Image(\"img/current-30-03.png\")"
   ]
  },
  {
   "cell_type": "code",
   "execution_count": 77,
   "metadata": {},
   "outputs": [],
   "source": [
    "# Tensorboard\n",
    "# https://tensorboard.dev/experiment/rsdMubj0S165iOdLmbd13A/#scalars"
   ]
  }
 ],
 "metadata": {
  "kernelspec": {
   "display_name": "Python 3",
   "language": "python",
   "name": "python3"
  },
  "language_info": {
   "codemirror_mode": {
    "name": "ipython",
    "version": 3
   },
   "file_extension": ".py",
   "mimetype": "text/x-python",
   "name": "python",
   "nbconvert_exporter": "python",
   "pygments_lexer": "ipython3",
   "version": "3.7.6"
  }
 },
 "nbformat": 4,
 "nbformat_minor": 4
}
