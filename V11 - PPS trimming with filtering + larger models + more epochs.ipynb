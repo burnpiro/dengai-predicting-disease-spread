{
 "cells": [
  {
   "cell_type": "code",
   "execution_count": 2,
   "metadata": {},
   "outputs": [],
   "source": [
    "from __future__ import absolute_import, division, print_function, unicode_literals\n",
    "import functools\n",
    "from IPython.display import Image, clear_output\n",
    "\n",
    "import matplotlib.pyplot as plt\n",
    "from sklearn.preprocessing import StandardScaler, MinMaxScaler\n",
    "import numpy as np\n",
    "import tensorflow as tf\n",
    "import pandas as pd\n",
    "from data_info import *\n",
    "from preprocessing_helpers import *\n",
    "from datetime import datetime\n",
    "%matplotlib inline\n",
    "pd.set_option(\"display.precision\", 2)\n",
    "tf.random.set_seed(42)"
   ]
  },
  {
   "cell_type": "code",
   "execution_count": 2,
   "metadata": {},
   "outputs": [],
   "source": [
    "new_iq_norm = [\n",
    "                'precipitation_amt_mm',\n",
    "                'reanalysis_air_temp_k',\n",
    "                'reanalysis_avg_temp_k',\n",
    "                'reanalysis_dew_point_temp_k',\n",
    "                'reanalysis_max_air_temp_k',\n",
    "                'reanalysis_min_air_temp_k',\n",
    "                'reanalysis_precip_amt_kg_per_m2',\n",
    "                'reanalysis_sat_precip_amt_mm',\n",
    "                'reanalysis_specific_humidity_g_per_kg',\n",
    "                'reanalysis_tdtr_k',\n",
    "                'station_avg_temp_c',\n",
    "                'station_diur_temp_rng_c',\n",
    "                'station_max_temp_c',\n",
    "                'station_min_temp_c',\n",
    "]\n",
    "new_iq_scale = [\n",
    "                 'weekofyear',\n",
    "]\n",
    "\n",
    "extra_iq_cols = [\n",
    "]\n",
    "new_sj_norm = [\n",
    "                'reanalysis_air_temp_k',\n",
    "                'reanalysis_avg_temp_k',\n",
    "                'reanalysis_dew_point_temp_k',\n",
    "                'reanalysis_max_air_temp_k',\n",
    "                'reanalysis_min_air_temp_k',\n",
    "                'reanalysis_precip_amt_kg_per_m2',\n",
    "                'reanalysis_relative_humidity_percent',\n",
    "                'reanalysis_sat_precip_amt_mm',\n",
    "                'reanalysis_specific_humidity_g_per_kg',\n",
    "                'station_avg_temp_c',\n",
    "                'station_diur_temp_rng_c',\n",
    "                'station_max_temp_c',\n",
    "                'station_min_temp_c',\n",
    "]\n",
    "new_sj_scale = [\n",
    "                 'weekofyear',\n",
    "]\n",
    "\n",
    "extra_sj_cols = [\n",
    "]\n",
    "new_iq_cols = [LABEL_COLUMN] + CATEGORICAL_COLUMNS + new_iq_norm + new_iq_scale + extra_iq_cols + [DATETIME_COLUMN]\n",
    "new_iq_cols_no_label = CATEGORICAL_COLUMNS + new_iq_norm + new_iq_scale + extra_iq_cols + [DATETIME_COLUMN]\n",
    "new_sj_cols = [LABEL_COLUMN] + CATEGORICAL_COLUMNS + new_sj_norm + new_sj_scale + extra_sj_cols + [DATETIME_COLUMN]\n",
    "new_sj_cols_no_label = CATEGORICAL_COLUMNS + new_sj_norm + new_sj_scale + extra_sj_cols + [DATETIME_COLUMN]\n",
    "\n",
    "\n",
    "sj_col_size = {\n",
    "    'precipitation_amt_mm': 40,\n",
    "    'reanalysis_air_temp_k': 16,\n",
    "    'reanalysis_avg_temp_k': 15,\n",
    "    'reanalysis_dew_point_temp_k': 39,\n",
    "    'reanalysis_max_air_temp_k': 12,\n",
    "    'reanalysis_min_air_temp_k': 21,\n",
    "    'reanalysis_precip_amt_kg_per_m2': 30,\n",
    "    'reanalysis_relative_humidity_percent': 34,\n",
    "    'reanalysis_sat_precip_amt_mm': 40,\n",
    "    'reanalysis_specific_humidity_g_per_kg': 14,\n",
    "    'reanalysis_tdtr_k': 21,\n",
    "    'station_avg_temp_c': 41,\n",
    "    'station_diur_temp_rng_c': 40,\n",
    "    'station_max_temp_c': 37,\n",
    "    'station_min_temp_c': 26,\n",
    "    'station_precip_mm': 32,\n",
    "    'weekofyear': 3\n",
    "}\n",
    "iq_col_size = {\n",
    "    'precipitation_amt_mm': 33,\n",
    "    'reanalysis_air_temp_k': 10,\n",
    "    'reanalysis_avg_temp_k': 4,\n",
    "    'reanalysis_dew_point_temp_k': 6,\n",
    "    'reanalysis_max_air_temp_k': 41,\n",
    "    'reanalysis_min_air_temp_k': 40,\n",
    "    'reanalysis_precip_amt_kg_per_m2': 3,\n",
    "    'reanalysis_relative_humidity_percent': 7,\n",
    "    'reanalysis_sat_precip_amt_mm': 33,\n",
    "    'reanalysis_specific_humidity_g_per_kg': 26,\n",
    "    'reanalysis_tdtr_k': 34,\n",
    "    'station_avg_temp_c': 40,\n",
    "    'station_diur_temp_rng_c': 26,\n",
    "    'station_max_temp_c': 39,\n",
    "    'station_min_temp_c': 25,\n",
    "    'station_precip_mm':10,\n",
    "    'weekofyear': 3\n",
    "}"
   ]
  },
  {
   "cell_type": "code",
   "execution_count": 3,
   "metadata": {},
   "outputs": [
    {
     "data": {
      "text/plain": [
       "['reanalysis_air_temp_k',\n",
       " 'reanalysis_avg_temp_k',\n",
       " 'reanalysis_dew_point_temp_k',\n",
       " 'reanalysis_max_air_temp_k',\n",
       " 'reanalysis_min_air_temp_k',\n",
       " 'reanalysis_precip_amt_kg_per_m2',\n",
       " 'reanalysis_relative_humidity_percent',\n",
       " 'reanalysis_sat_precip_amt_mm',\n",
       " 'reanalysis_specific_humidity_g_per_kg',\n",
       " 'station_avg_temp_c',\n",
       " 'station_diur_temp_rng_c',\n",
       " 'station_max_temp_c',\n",
       " 'station_min_temp_c',\n",
       " 'weekofyear']"
      ]
     },
     "execution_count": 3,
     "metadata": {},
     "output_type": "execute_result"
    }
   ],
   "source": [
    "sj_datasets, sj_norm_scale, sj_columns = generate_lstm_data(\n",
    "    train_file, \n",
    "    single_step=True, \n",
    "    history_size=52, \n",
    "    cols=new_sj_cols, \n",
    "    norm_cols=new_sj_norm, \n",
    "    scale_cols=new_sj_scale,\n",
    "    extra_columns=extra_sj_cols,\n",
    "    prepend_with_file=train_file,\n",
    "    train_frac=1.0,\n",
    "    group_by_column=True\n",
    ")\n",
    "sj_train_x, sj_train_y = sj_datasets[0]\n",
    "sj_train_x = np.array(sj_train_x)\n",
    "sj_train_y = np.array(sj_train_y)\n",
    "iq_datasets, iq_norm_scale, iq_columns = generate_lstm_data(\n",
    "    train_file, \n",
    "    single_step=True, \n",
    "    history_size=52, \n",
    "    cols=new_iq_cols, \n",
    "    norm_cols=new_iq_norm, \n",
    "    scale_cols=new_iq_scale,\n",
    "    extra_columns=extra_iq_cols,\n",
    "    prepend_with_file=train_file,\n",
    "    train_frac=1.0,\n",
    "    group_by_column=True\n",
    ")\n",
    "iq_train_x, iq_train_y = iq_datasets[1]\n",
    "iq_train_x = np.array(iq_train_x)\n",
    "iq_train_y = np.array(iq_train_y)\n",
    "sj_columns"
   ]
  },
  {
   "cell_type": "code",
   "execution_count": 4,
   "metadata": {},
   "outputs": [
    {
     "data": {
      "text/plain": [
       "array([-1.28415113, -0.77349674, -0.31767771, -0.1531716 ,  0.27180253,\n",
       "        0.36091001,  0.02275855,  0.33006511,  0.31978348,  0.78017211,\n",
       "        0.26723291,  0.3906125 ,  0.30378983,  0.54712179,  0.96981111,\n",
       "        0.62366283,  0.92297256,  0.75161203,  1.08062425,  1.19600701,\n",
       "        0.54255217,  0.9983712 ,  1.27711767,  0.54255217,  0.01361932,\n",
       "       -0.22057341,  0.43859345,  0.63508686,  0.9366814 ,  0.26609051,\n",
       "       -0.75179107, -0.50845911, -0.78035116, -0.70495252, -0.91172757,\n",
       "       -1.69427401, -1.20304048, -1.4041035 , -1.03510715, -0.90715795,\n",
       "       -1.15048991, -1.83478965, -1.41095793, -1.3378441 , -1.12078742,\n",
       "       -1.39724908, -1.41666994, -1.36640419, -1.6908468 , -1.44408763,\n",
       "       -1.51491665, -0.88316748])"
      ]
     },
     "execution_count": 4,
     "metadata": {},
     "output_type": "execute_result"
    }
   ],
   "source": [
    "sj_train_x[53][0]"
   ]
  },
  {
   "cell_type": "code",
   "execution_count": 5,
   "metadata": {},
   "outputs": [
    {
     "data": {
      "text/plain": [
       "array([-1.36640419, -1.6908468 , -1.44408763, -1.51491665, -0.88316748])"
      ]
     },
     "execution_count": 5,
     "metadata": {},
     "output_type": "execute_result"
    }
   ],
   "source": [
    "sj_train_x[53][0][-5:]"
   ]
  },
  {
   "cell_type": "code",
   "execution_count": 6,
   "metadata": {},
   "outputs": [
    {
     "data": {
      "text/plain": [
       "16.0"
      ]
     },
     "execution_count": 6,
     "metadata": {},
     "output_type": "execute_result"
    }
   ],
   "source": [
    "sj_train_y[53]"
   ]
  },
  {
   "cell_type": "code",
   "execution_count": 7,
   "metadata": {},
   "outputs": [
    {
     "name": "stdout",
     "output_type": "stream",
     "text": [
      "(936, 368)\n",
      "(520, 363)\n"
     ]
    }
   ],
   "source": [
    "trimed_sj_x = []\n",
    "trimed_iq_x = []\n",
    "\n",
    "def trim_data(data, columns, size_cols):\n",
    "    trimed_data = []\n",
    "    for row_i in range(data.shape[0]):\n",
    "        new_row = []\n",
    "        for col_i, col in enumerate(columns):\n",
    "            new_row = np.concatenate((new_row, data[row_i][col_i][-size_cols[col]:]), axis=None)\n",
    "\n",
    "        trimed_data.append(new_row)\n",
    "    return np.array(trimed_data)\n",
    "    \n",
    "trimed_sj_x = trim_data(sj_train_x, sj_columns, sj_col_size)\n",
    "trimed_iq_x = trim_data(iq_train_x, iq_columns, iq_col_size)\n",
    "\n",
    "print(trimed_sj_x.shape)\n",
    "print(trimed_iq_x.shape)"
   ]
  },
  {
   "cell_type": "code",
   "execution_count": null,
   "metadata": {},
   "outputs": [],
   "source": []
  },
  {
   "cell_type": "code",
   "execution_count": 8,
   "metadata": {},
   "outputs": [],
   "source": [
    "BATCH_SIZE = 16\n",
    "BUFFER_SIZE = 500\n",
    "train_sj_data_single = tf.data.Dataset.from_tensor_slices((trimed_sj_x, sj_train_y))\n",
    "train_sj_data_single = train_sj_data_single.cache().shuffle(BUFFER_SIZE).batch(BATCH_SIZE).repeat(10)\n",
    "\n",
    "# val_sj_data_single = tf.data.Dataset.from_tensor_slices((sj_val_x, sj_val_y))\n",
    "# val_sj_data_single = val_sj_data_single.batch(BATCH_SIZE).repeat()"
   ]
  },
  {
   "cell_type": "code",
   "execution_count": 9,
   "metadata": {},
   "outputs": [],
   "source": [
    "# Build network with \n",
    "def build_model(optimizer = None, nodes=256, input_shape=trimed_sj_x.shape[-1]):\n",
    "  model = tf.keras.Sequential([\n",
    "    tf.keras.layers.Input(shape=input_shape),\n",
    "    tf.keras.layers.Dense(nodes, activation='selu'),\n",
    "    tf.keras.layers.Dropout(0.5),\n",
    "    tf.keras.layers.Dense(nodes/2, activation='selu'),\n",
    "    tf.keras.layers.Dropout(0.5),\n",
    "    tf.keras.layers.Dense(1)\n",
    "  ])\n",
    "\n",
    "  if not optimizer:\n",
    "    optimizer = tf.keras.optimizers.Adam(learning_rate=0.01, beta_1=0.9, beta_2=0.9999, amsgrad=False)\n",
    "\n",
    "  model.compile(loss='mae',\n",
    "                optimizer=optimizer,\n",
    "                metrics=['mae', 'mse'])\n",
    "  return model"
   ]
  },
  {
   "cell_type": "code",
   "execution_count": 12,
   "metadata": {},
   "outputs": [
    {
     "name": "stdout",
     "output_type": "stream",
     "text": [
      "Train for 200 steps\n",
      "Epoch 1/40\n",
      "200/200 [==============================] - 2s 8ms/step - loss: 25.3911 - mae: 25.4540 - mse: 2630.0166\n",
      "Epoch 2/40\n",
      "200/200 [==============================] - 1s 6ms/step - loss: 20.8509 - mae: 20.8911 - mse: 1609.3301\n",
      "Epoch 3/40\n",
      "200/200 [==============================] - 1s 6ms/step - loss: 19.0851 - mae: 19.1081 - mse: 1256.3760\n",
      "Epoch 4/40\n",
      "196/200 [============================>.] - ETA: 0s - loss: 17.9434 - mae: 17.9430 - mse: 1131.4384\n",
      "Epoch 00004: ReduceLROnPlateau reducing learning rate to 0.007999999821186066.\n",
      "200/200 [==============================] - 1s 6ms/step - loss: 17.9678 - mae: 17.9676 - mse: 1130.3939\n",
      "Epoch 5/40\n",
      "200/200 [==============================] - 1s 6ms/step - loss: 16.1065 - mae: 16.1336 - mse: 901.7075\n",
      "Epoch 6/40\n",
      "200/200 [==============================] - 1s 6ms/step - loss: 15.7616 - mae: 15.8051 - mse: 872.0537\n",
      "Epoch 7/40\n",
      "192/200 [===========================>..] - ETA: 0s - loss: 15.2995 - mae: 15.2136 - mse: 840.7195\n",
      "Epoch 00007: ReduceLROnPlateau reducing learning rate to 0.006399999558925629.\n",
      "200/200 [==============================] - 1s 6ms/step - loss: 15.3142 - mae: 15.2323 - mse: 836.2635\n",
      "Epoch 8/40\n",
      "200/200 [==============================] - 1s 6ms/step - loss: 14.3775 - mae: 14.3880 - mse: 685.4814\n",
      "Epoch 9/40\n",
      "200/200 [==============================] - 1s 6ms/step - loss: 13.3446 - mae: 13.3694 - mse: 546.2976\n",
      "Epoch 10/40\n",
      "191/200 [===========================>..] - ETA: 0s - loss: 13.5767 - mae: 13.6027 - mse: 604.2989\n",
      "Epoch 00010: ReduceLROnPlateau reducing learning rate to 0.0051199994981288915.\n",
      "200/200 [==============================] - 1s 6ms/step - loss: 13.4874 - mae: 13.5114 - mse: 590.4205\n",
      "Epoch 11/40\n",
      "200/200 [==============================] - 1s 6ms/step - loss: 12.6918 - mae: 12.6798 - mse: 490.5443\n",
      "Epoch 12/40\n",
      "200/200 [==============================] - 1s 6ms/step - loss: 12.0019 - mae: 12.0257 - mse: 457.4622\n",
      "Epoch 13/40\n",
      "197/200 [============================>.] - ETA: 0s - loss: 12.0940 - mae: 12.1126 - mse: 473.1556\n",
      "Epoch 00013: ReduceLROnPlateau reducing learning rate to 0.004095999523997307.\n",
      "200/200 [==============================] - 1s 6ms/step - loss: 12.1487 - mae: 12.1675 - mse: 482.9854\n",
      "Epoch 14/40\n",
      "200/200 [==============================] - 1s 6ms/step - loss: 11.4040 - mae: 11.4082 - mse: 402.0927\n",
      "Epoch 15/40\n",
      "200/200 [==============================] - 1s 6ms/step - loss: 11.1858 - mae: 11.1846 - mse: 368.6043\n",
      "Epoch 16/40\n",
      "197/200 [============================>.] - ETA: 0s - loss: 11.3991 - mae: 11.4347 - mse: 406.0902\n",
      "Epoch 00016: ReduceLROnPlateau reducing learning rate to 0.0032767996191978457.\n",
      "200/200 [==============================] - 1s 6ms/step - loss: 11.4521 - mae: 11.4875 - mse: 412.4932\n",
      "Epoch 17/40\n",
      "200/200 [==============================] - 1s 6ms/step - loss: 10.5719 - mae: 10.5825 - mse: 325.1682\n",
      "Epoch 18/40\n",
      "200/200 [==============================] - 1s 6ms/step - loss: 10.6911 - mae: 10.6745 - mse: 365.4261\n",
      "Epoch 19/40\n",
      "199/200 [============================>.] - ETA: 0s - loss: 10.5450 - mae: 10.5503 - mse: 355.2982\n",
      "Epoch 00019: ReduceLROnPlateau reducing learning rate to 0.0026214396581053737.\n",
      "200/200 [==============================] - 1s 6ms/step - loss: 10.5581 - mae: 10.5634 - mse: 357.2647\n",
      "Epoch 20/40\n",
      "200/200 [==============================] - 1s 6ms/step - loss: 10.0714 - mae: 10.0563 - mse: 316.0736\n",
      "Epoch 21/40\n",
      "200/200 [==============================] - 1s 6ms/step - loss: 9.9549 - mae: 9.9760 - mse: 317.6318\n",
      "Epoch 22/40\n",
      "195/200 [============================>.] - ETA: 0s - loss: 9.6122 - mae: 9.6197 - mse: 272.6069\n",
      "Epoch 00022: ReduceLROnPlateau reducing learning rate to 0.0020971518009901048.\n",
      "200/200 [==============================] - 1s 6ms/step - loss: 9.6380 - mae: 9.6455 - mse: 273.4172\n",
      "Epoch 23/40\n",
      "200/200 [==============================] - 1s 6ms/step - loss: 9.3906 - mae: 9.3770 - mse: 305.6332\n",
      "Epoch 24/40\n",
      "200/200 [==============================] - 1s 6ms/step - loss: 9.4696 - mae: 9.4651 - mse: 322.0454\n",
      "Epoch 25/40\n",
      "193/200 [===========================>..] - ETA: 0s - loss: 9.1087 - mae: 9.0867 - mse: 259.4871\n",
      "Epoch 00025: ReduceLROnPlateau reducing learning rate to 0.0016777213662862779.\n",
      "200/200 [==============================] - 1s 6ms/step - loss: 9.1291 - mae: 9.1081 - mse: 257.4643\n",
      "Epoch 26/40\n",
      "200/200 [==============================] - 1s 6ms/step - loss: 8.9722 - mae: 8.9676 - mse: 247.0614\n",
      "Epoch 27/40\n",
      "200/200 [==============================] - 1s 6ms/step - loss: 8.8440 - mae: 8.8758 - mse: 257.8858\n",
      "Epoch 28/40\n",
      "195/200 [============================>.] - ETA: 0s - loss: 8.4888 - mae: 8.5098 - mse: 204.7547\n",
      "Epoch 00028: ReduceLROnPlateau reducing learning rate to 0.0013421771116554739.\n",
      "200/200 [==============================] - 1s 6ms/step - loss: 8.4770 - mae: 8.4972 - mse: 206.8525\n",
      "Epoch 29/40\n",
      "200/200 [==============================] - 1s 6ms/step - loss: 8.5303 - mae: 8.5656 - mse: 238.9109\n",
      "Epoch 30/40\n",
      "200/200 [==============================] - 1s 6ms/step - loss: 8.5322 - mae: 8.5545 - mse: 246.2475\n",
      "Epoch 31/40\n",
      "198/200 [============================>.] - ETA: 0s - loss: 8.3030 - mae: 8.3154 - mse: 219.1606\n",
      "Epoch 00031: ReduceLROnPlateau reducing learning rate to 0.001073741726577282.\n",
      "200/200 [==============================] - 1s 6ms/step - loss: 8.2960 - mae: 8.3082 - mse: 218.1558\n",
      "Epoch 32/40\n",
      "200/200 [==============================] - 1s 6ms/step - loss: 8.2801 - mae: 8.2664 - mse: 226.7064\n",
      "Epoch 33/40\n",
      "200/200 [==============================] - 1s 6ms/step - loss: 7.7257 - mae: 7.7338 - mse: 185.5170\n",
      "Epoch 34/40\n",
      "197/200 [============================>.] - ETA: 0s - loss: 8.1271 - mae: 8.1496 - mse: 240.2151\n",
      "Epoch 00034: ReduceLROnPlateau reducing learning rate to 0.0008589933626353742.\n",
      "200/200 [==============================] - 1s 6ms/step - loss: 8.1339 - mae: 8.1560 - mse: 239.4606\n",
      "Epoch 35/40\n",
      "200/200 [==============================] - 1s 6ms/step - loss: 7.7908 - mae: 7.7965 - mse: 209.9137\n",
      "Epoch 36/40\n",
      "200/200 [==============================] - 1s 5ms/step - loss: 7.7377 - mae: 7.7445 - mse: 175.9112\n",
      "Epoch 37/40\n",
      "189/200 [===========================>..] - ETA: 0s - loss: 7.6855 - mae: 7.6903 - mse: 177.8420\n",
      "Epoch 00037: ReduceLROnPlateau reducing learning rate to 0.0006871947087347508.\n",
      "200/200 [==============================] - 1s 5ms/step - loss: 7.6551 - mae: 7.6593 - mse: 176.6685\n",
      "Epoch 38/40\n",
      "200/200 [==============================] - 1s 5ms/step - loss: 7.7306 - mae: 7.7441 - mse: 204.2079\n",
      "Epoch 39/40\n",
      "200/200 [==============================] - 1s 6ms/step - loss: 7.6654 - mae: 7.6736 - mse: 198.1789\n",
      "Epoch 40/40\n",
      "196/200 [============================>.] - ETA: 0s - loss: 7.5814 - mae: 7.5944 - mse: 204.6808\n",
      "Epoch 00040: ReduceLROnPlateau reducing learning rate to 0.0005497557576745749.\n",
      "200/200 [==============================] - 1s 6ms/step - loss: 7.5507 - mae: 7.5632 - mse: 202.1385\n"
     ]
    }
   ],
   "source": [
    "log_dir=\"logs/fit/lstm\" + datetime.now().strftime(\"%Y%m%d-%H%M%S\")\n",
    "tensorboard_callback = tf.keras.callbacks.TensorBoard(log_dir=log_dir, histogram_freq=1)\n",
    "\n",
    "# create model\n",
    "# optimizer = tf.keras.optimizers.SGD(learning_rate=0.005, momentum=0.01, nesterov=False, name='SGD')\n",
    "\n",
    "\n",
    "# Train the Model.\n",
    "EVALUATION_INTERVAL = 200\n",
    "EPOCHS = 40\n",
    "\n",
    "# opt = tf.keras.optimizers.Adam(learning_rate=0.1, beta_1=0.9, beta_2=0.9999, amsgrad=False)\n",
    "reduce_lr = tf.keras.callbacks.ReduceLROnPlateau(monitor=\"mae\", factor=0.8, patience=3, min_lr=1e-6, verbose=1,\n",
    "                                                     mode=\"max\")\n",
    "\n",
    "train_sj_data_single = tf.data.Dataset.from_tensor_slices((trimed_sj_x, sj_train_y))\n",
    "train_sj_data_single = train_sj_data_single.cache().shuffle(BUFFER_SIZE).batch(BATCH_SIZE).repeat()\n",
    "\n",
    "opt = tf.keras.optimizers.RMSprop(\n",
    "    learning_rate=0.01, rho=0.9, momentum=0.0, epsilon=1e-07, centered=False,\n",
    "    name='RMSprop'\n",
    ")\n",
    "sj_model = build_model(optimizer=opt, nodes=400)\n",
    "history = sj_model.fit(\n",
    "    train_sj_data_single,\n",
    "    epochs=EPOCHS, \n",
    "    steps_per_epoch=EVALUATION_INTERVAL,\n",
    "    verbose=1,\n",
    "    callbacks=[tensorboard_callback, reduce_lr])"
   ]
  },
  {
   "cell_type": "code",
   "execution_count": 13,
   "metadata": {},
   "outputs": [
    {
     "name": "stdout",
     "output_type": "stream",
     "text": [
      "Train for 200 steps\n",
      "Epoch 1/40\n",
      "200/200 [==============================] - 2s 8ms/step - loss: 7.4685 - mae: 7.5264 - mse: 147.8833\n",
      "Epoch 2/40\n",
      "200/200 [==============================] - 1s 6ms/step - loss: 6.3087 - mae: 6.3590 - mse: 119.5104\n",
      "Epoch 3/40\n",
      "200/200 [==============================] - 1s 6ms/step - loss: 6.1212 - mae: 6.1714 - mse: 119.4287\n",
      "Epoch 4/40\n",
      "200/200 [==============================] - 1s 6ms/step - loss: 6.0146 - mae: 6.0686 - mse: 119.0130\n",
      "Epoch 5/40\n",
      "200/200 [==============================] - 1s 6ms/step - loss: 5.9251 - mae: 5.9755 - mse: 115.9475\n",
      "Epoch 6/40\n",
      "193/200 [===========================>..] - ETA: 0s - loss: 5.7509 - mae: 5.8048 - mse: 116.9585\n",
      "Epoch 00006: ReduceLROnPlateau reducing learning rate to 0.000800000037997961.\n",
      "200/200 [==============================] - 1s 6ms/step - loss: 5.7713 - mae: 5.8234 - mse: 115.7584\n",
      "Epoch 7/40\n",
      "200/200 [==============================] - 1s 6ms/step - loss: 5.6937 - mae: 5.7515 - mse: 113.7491\n",
      "Epoch 8/40\n",
      "200/200 [==============================] - 1s 6ms/step - loss: 5.6304 - mae: 5.6868 - mse: 116.8404\n",
      "Epoch 9/40\n",
      "200/200 [==============================] - 1s 6ms/step - loss: 5.4949 - mae: 5.5466 - mse: 107.6227\n",
      "Epoch 10/40\n",
      "200/200 [==============================] - 1s 6ms/step - loss: 5.4807 - mae: 5.5326 - mse: 106.8529\n",
      "Epoch 11/40\n",
      "197/200 [============================>.] - ETA: 0s - loss: 5.2100 - mae: 5.2612 - mse: 99.2773\n",
      "Epoch 00011: ReduceLROnPlateau reducing learning rate to 0.0006400000303983689.\n",
      "200/200 [==============================] - 1s 6ms/step - loss: 5.1800 - mae: 5.2297 - mse: 98.0621\n",
      "Epoch 12/40\n",
      "200/200 [==============================] - 1s 6ms/step - loss: 4.9758 - mae: 5.0187 - mse: 91.8359\n",
      "Epoch 13/40\n",
      "200/200 [==============================] - 1s 5ms/step - loss: 4.9197 - mae: 4.9665 - mse: 90.1285\n",
      "Epoch 14/40\n",
      "200/200 [==============================] - 1s 5ms/step - loss: 4.6261 - mae: 4.6703 - mse: 80.3703\n",
      "Epoch 15/40\n",
      "200/200 [==============================] - 1s 6ms/step - loss: 4.5659 - mae: 4.6055 - mse: 77.5713\n",
      "Epoch 16/40\n",
      "192/200 [===========================>..] - ETA: 0s - loss: 4.3784 - mae: 4.4220 - mse: 71.5478\n",
      "Epoch 00016: ReduceLROnPlateau reducing learning rate to 0.0005120000336319208.\n",
      "200/200 [==============================] - 1s 6ms/step - loss: 4.3873 - mae: 4.4290 - mse: 71.3449\n",
      "Epoch 17/40\n",
      "200/200 [==============================] - 1s 6ms/step - loss: 4.3105 - mae: 4.3596 - mse: 69.9772\n",
      "Epoch 18/40\n",
      "200/200 [==============================] - 1s 6ms/step - loss: 4.1257 - mae: 4.1648 - mse: 64.6137\n",
      "Epoch 19/40\n",
      "200/200 [==============================] - 1s 6ms/step - loss: 3.9950 - mae: 4.0316 - mse: 60.8231\n",
      "Epoch 20/40\n",
      "200/200 [==============================] - 1s 6ms/step - loss: 3.9563 - mae: 3.9911 - mse: 59.2244\n",
      "Epoch 21/40\n",
      "196/200 [============================>.] - ETA: 0s - loss: 3.8079 - mae: 3.8402 - mse: 55.0913\n",
      "Epoch 00021: ReduceLROnPlateau reducing learning rate to 0.00040960004553198815.\n",
      "200/200 [==============================] - 1s 6ms/step - loss: 3.8745 - mae: 3.9069 - mse: 55.9017\n",
      "Epoch 22/40\n",
      "200/200 [==============================] - 1s 6ms/step - loss: 3.6644 - mae: 3.6971 - mse: 50.4065\n",
      "Epoch 23/40\n",
      "200/200 [==============================] - 1s 6ms/step - loss: 3.6203 - mae: 3.6488 - mse: 51.7959\n",
      "Epoch 24/40\n",
      "200/200 [==============================] - 1s 6ms/step - loss: 3.5155 - mae: 3.5464 - mse: 50.2440\n",
      "Epoch 25/40\n",
      "200/200 [==============================] - 1s 6ms/step - loss: 3.4624 - mae: 3.4882 - mse: 46.8766\n",
      "Epoch 26/40\n",
      "195/200 [============================>.] - ETA: 0s - loss: 3.3994 - mae: 3.4249 - mse: 41.9512\n",
      "Epoch 00026: ReduceLROnPlateau reducing learning rate to 0.00032768002711236477.\n",
      "200/200 [==============================] - 1s 6ms/step - loss: 3.4324 - mae: 3.4577 - mse: 44.0138\n",
      "Epoch 27/40\n",
      "200/200 [==============================] - 1s 6ms/step - loss: 3.2858 - mae: 3.3133 - mse: 43.3566\n",
      "Epoch 28/40\n",
      "200/200 [==============================] - 1s 5ms/step - loss: 3.2228 - mae: 3.2504 - mse: 41.8401\n",
      "Epoch 29/40\n",
      "200/200 [==============================] - 1s 5ms/step - loss: 3.2265 - mae: 3.2491 - mse: 40.6955\n",
      "Epoch 30/40\n",
      "200/200 [==============================] - 1s 5ms/step - loss: 3.1445 - mae: 3.1650 - mse: 38.4862\n",
      "Epoch 31/40\n",
      "198/200 [============================>.] - ETA: 0s - loss: 3.0768 - mae: 3.1033 - mse: 38.7598\n",
      "Epoch 00031: ReduceLROnPlateau reducing learning rate to 0.0002621440216898918.\n",
      "200/200 [==============================] - 1s 5ms/step - loss: 3.0844 - mae: 3.1106 - mse: 38.6728\n",
      "Epoch 32/40\n",
      "200/200 [==============================] - 1s 5ms/step - loss: 3.0169 - mae: 3.0401 - mse: 36.0616\n",
      "Epoch 33/40\n",
      "200/200 [==============================] - 1s 5ms/step - loss: 2.9429 - mae: 2.9668 - mse: 36.0580\n",
      "Epoch 34/40\n",
      "200/200 [==============================] - 1s 6ms/step - loss: 2.7962 - mae: 2.8123 - mse: 32.1144\n",
      "Epoch 35/40\n",
      "200/200 [==============================] - 1s 6ms/step - loss: 2.8030 - mae: 2.8236 - mse: 32.5504\n",
      "Epoch 36/40\n",
      "193/200 [===========================>..] - ETA: 0s - loss: 2.8534 - mae: 2.8676 - mse: 31.4455\n",
      "Epoch 00036: ReduceLROnPlateau reducing learning rate to 0.00020971521735191345.\n",
      "200/200 [==============================] - 1s 5ms/step - loss: 2.8069 - mae: 2.8226 - mse: 30.6177\n",
      "Epoch 37/40\n",
      "200/200 [==============================] - 1s 6ms/step - loss: 2.7511 - mae: 2.7706 - mse: 31.5878\n",
      "Epoch 38/40\n",
      "200/200 [==============================] - 1s 6ms/step - loss: 2.6261 - mae: 2.6468 - mse: 28.4199\n",
      "Epoch 39/40\n",
      "200/200 [==============================] - 1s 6ms/step - loss: 2.6590 - mae: 2.6794 - mse: 30.2487\n",
      "Epoch 40/40\n",
      "200/200 [==============================] - 1s 6ms/step - loss: 2.6318 - mae: 2.6513 - mse: 28.7361\n"
     ]
    }
   ],
   "source": [
    "train_iq_data_single = tf.data.Dataset.from_tensor_slices((trimed_iq_x, iq_train_y))\n",
    "train_iq_data_single = train_iq_data_single.cache().shuffle(BUFFER_SIZE).batch(BATCH_SIZE).repeat()\n",
    "\n",
    "EPOCHS = 40\n",
    "# opt = tf.keras.optimizers.Adam(learning_rate=0.1, beta_1=0.9, beta_2=0.9999, amsgrad=False)\n",
    "opt = tf.keras.optimizers.RMSprop(\n",
    "    learning_rate=0.001, rho=0.9, momentum=0.0, epsilon=1e-07, centered=False,\n",
    "    name='RMSprop'\n",
    ")\n",
    "iq_model = build_model(optimizer=opt, nodes=400, input_shape=trimed_iq_x.shape[-1])\n",
    "train_iq_data_single = tf.data.Dataset.from_tensor_slices((trimed_iq_x, iq_train_y))\n",
    "train_iq_data_single = train_iq_data_single.cache().batch(BATCH_SIZE).repeat()\n",
    "\n",
    "reduce_lr = tf.keras.callbacks.ReduceLROnPlateau(monitor=\"mae\", factor=0.8, patience=5, min_lr=1e-6, verbose=1,\n",
    "                                                     mode=\"max\")\n",
    "history = iq_model.fit(\n",
    "    train_iq_data_single,\n",
    "    epochs=EPOCHS, \n",
    "    steps_per_epoch=EVALUATION_INTERVAL,\n",
    "    verbose=1,\n",
    "    callbacks=[tensorboard_callback, reduce_lr])"
   ]
  },
  {
   "cell_type": "code",
   "execution_count": 14,
   "metadata": {},
   "outputs": [
    {
     "name": "stdout",
     "output_type": "stream",
     "text": [
      "(260, 368)\n",
      "260\n"
     ]
    }
   ],
   "source": [
    "file = train_file\n",
    "file = test_file\n",
    "\n",
    "org_sj_test_data, test_scale, sj_columns = generate_lstm_data(\n",
    "    file, history_size=52, \n",
    "    cols=new_sj_cols_no_label, \n",
    "    norm_cols=new_sj_norm, \n",
    "    scale_cols=new_sj_scale, \n",
    "    single_step=True, \n",
    "    train_frac=1.0, train_scale=sj_norm_scale, \n",
    "    prepend_with_file=train_file,\n",
    "    extra_columns=extra_sj_cols,\n",
    "    group_by_column=True\n",
    ")\n",
    "org_iq_test_data, test_scale, iq_columns = generate_lstm_data(\n",
    "    file, history_size=52, \n",
    "    cols=new_iq_cols_no_label, \n",
    "    norm_cols=new_iq_norm, \n",
    "    scale_cols=new_iq_scale, \n",
    "    single_step=True, \n",
    "    train_frac=1.0, train_scale=iq_norm_scale, \n",
    "    prepend_with_file=train_file,\n",
    "    extra_columns=extra_iq_cols,\n",
    "    group_by_column=True\n",
    ")\n",
    "sj_test_x, sj_test_y = org_sj_test_data[0]\n",
    "sj_test_x = np.array(sj_test_x)\n",
    "sj_test_y = np.array(sj_test_y)\n",
    "iq_test_x, iq_test_y = org_iq_test_data[1]\n",
    "iq_test_x = np.array(iq_test_x)\n",
    "iq_test_y = np.array(iq_test_y)\n",
    "trimed_test_sj_x = trim_data(sj_test_x, sj_columns, sj_col_size)\n",
    "trimed_test_iq_x = trim_data(iq_test_x, iq_columns, iq_col_size)\n",
    "sj_test_set = tf.data.Dataset.from_tensor_slices((trimed_test_sj_x, sj_test_y)).batch(len(sj_test_y))\n",
    "print(trimed_test_sj_x.shape)\n",
    "\n",
    "sj_pred = []\n",
    "for x, y in sj_test_set.take(1):\n",
    "    predictions = sj_model.predict(x)\n",
    "    sj_pred = predictions.flatten()\n",
    "    print(len(predictions.flatten()))"
   ]
  },
  {
   "cell_type": "code",
   "execution_count": 15,
   "metadata": {},
   "outputs": [
    {
     "name": "stdout",
     "output_type": "stream",
     "text": [
      "156\n"
     ]
    }
   ],
   "source": [
    "iq_test_set = tf.data.Dataset.from_tensor_slices((trimed_test_iq_x, iq_test_y)).batch(len(iq_test_y))\n",
    "iq_pred = []\n",
    "for x, y in iq_test_set.take(1):\n",
    "    predictions = iq_model.predict(x)\n",
    "    iq_pred = predictions.flatten()\n",
    "    print(len(predictions.flatten()))"
   ]
  },
  {
   "cell_type": "code",
   "execution_count": 16,
   "metadata": {},
   "outputs": [
    {
     "name": "stdout",
     "output_type": "stream",
     "text": [
      "416\n",
      "asas\n"
     ]
    }
   ],
   "source": [
    "from preprocessing_helpers import export_test_to_csv\n",
    "preds = np.concatenate((sj_pred, iq_pred), axis=None)\n",
    "export_test_to_csv(predictions=preds,path=file, prefix='test' if file == test_file else 'train')"
   ]
  },
  {
   "cell_type": "code",
   "execution_count": 3,
   "metadata": {},
   "outputs": [
    {
     "data": {
      "image/png": "[encoded data removed]",
      "text/plain": [
       "<IPython.core.display.Image object>"
      ]
     },
     "execution_count": 3,
     "metadata": {},
     "output_type": "execute_result"
    }
   ],
   "source": [
    "#Current Ranking (baseline)\n",
    "Image(\"img/current-26-05.png\")"
   ]
  },
  {
   "cell_type": "code",
   "execution_count": 15,
   "metadata": {},
   "outputs": [],
   "source": [
    "# Tensorboard\n",
    "# https://tensorboard.dev/experiment/rsdMubj0S165iOdLmbd13A/#scalars"
   ]
  },
  {
   "cell_type": "code",
   "execution_count": 49,
   "metadata": {},
   "outputs": [],
   "source": [
    "# sj_model.save('models/sj_model_17.57MAP.h5') \n",
    "# iq_model.save('models/iq_model_17.57MAP.h5') "
   ]
  },
  {
   "cell_type": "code",
   "execution_count": null,
   "metadata": {},
   "outputs": [],
   "source": []
  }
 ],
 "metadata": {
  "kernelspec": {
   "display_name": "Python 3",
   "language": "python",
   "name": "python3"
  },
  "language_info": {
   "codemirror_mode": {
    "name": "ipython",
    "version": 3
   },
   "file_extension": ".py",
   "mimetype": "text/x-python",
   "name": "python",
   "nbconvert_exporter": "python",
   "pygments_lexer": "ipython3",
   "version": "3.7.6"
  }
 },
 "nbformat": 4,
 "nbformat_minor": 4
}
