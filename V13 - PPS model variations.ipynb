{
 "cells": [
  {
   "cell_type": "code",
   "execution_count": 1,
   "metadata": {},
   "outputs": [],
   "source": [
    "from __future__ import absolute_import, division, print_function, unicode_literals\n",
    "import functools\n",
    "from IPython.display import Image, clear_output\n",
    "\n",
    "import matplotlib.pyplot as plt\n",
    "from sklearn.preprocessing import StandardScaler, MinMaxScaler\n",
    "import numpy as np\n",
    "import tensorflow as tf\n",
    "import pandas as pd\n",
    "from data_info import *\n",
    "from preprocessing_helpers import *\n",
    "from datetime import datetime\n",
    "%matplotlib inline\n",
    "pd.set_option(\"display.precision\", 2)\n",
    "tf.random.set_seed(42)"
   ]
  },
  {
   "cell_type": "code",
   "execution_count": 4,
   "metadata": {},
   "outputs": [],
   "source": [
    "new_iq_norm = [\n",
    "    'reanalysis_air_temp_k',\n",
    "    'reanalysis_avg_temp_k',\n",
    "    'reanalysis_dew_point_temp_k',\n",
    "    'reanalysis_max_air_temp_k',\n",
    "    'reanalysis_min_air_temp_k',\n",
    "    'reanalysis_specific_humidity_g_per_kg',\n",
    "    'station_max_temp_c',\n",
    "    'station_min_temp_c'\n",
    "]\n",
    "new_iq_scale = [\n",
    "                 'weekofyear',\n",
    "                 'year',\n",
    "]\n",
    "\n",
    "extra_iq_cols = [\n",
    "]\n",
    "new_sj_norm = [\n",
    "                'reanalysis_dew_point_temp_k',\n",
    "                'reanalysis_min_air_temp_k',\n",
    "                'reanalysis_relative_humidity_percent',\n",
    "                'reanalysis_specific_humidity_g_per_kg',\n",
    "]\n",
    "new_sj_scale = [\n",
    "                 'weekofyear',\n",
    "                 'year',\n",
    "]\n",
    "\n",
    "extra_sj_cols = [\n",
    "]\n",
    "new_iq_cols = [LABEL_COLUMN] + CATEGORICAL_COLUMNS + new_iq_norm + new_iq_scale + extra_iq_cols + [DATETIME_COLUMN]\n",
    "new_iq_cols_no_label = CATEGORICAL_COLUMNS + new_iq_norm + new_iq_scale + extra_iq_cols + [DATETIME_COLUMN]\n",
    "new_sj_cols = [LABEL_COLUMN] + CATEGORICAL_COLUMNS + new_sj_norm + new_sj_scale + extra_sj_cols + [DATETIME_COLUMN]\n",
    "new_sj_cols_no_label = CATEGORICAL_COLUMNS + new_sj_norm + new_sj_scale + extra_sj_cols + [DATETIME_COLUMN]\n",
    "\n",
    "\n",
    "sj_col_size = {\n",
    "    'precipitation_amt_mm': 40,\n",
    "    'reanalysis_air_temp_k': 16,\n",
    "    'reanalysis_avg_temp_k': 15,\n",
    "    'reanalysis_dew_point_temp_k': 39,\n",
    "    'reanalysis_max_air_temp_k': 12,\n",
    "    'reanalysis_min_air_temp_k': 21,\n",
    "    'reanalysis_precip_amt_kg_per_m2': 30,\n",
    "    'reanalysis_relative_humidity_percent': 34,\n",
    "    'reanalysis_sat_precip_amt_mm': 40,\n",
    "    'reanalysis_specific_humidity_g_per_kg': 14,\n",
    "    'reanalysis_tdtr_k': 21,\n",
    "    'station_avg_temp_c': 41,\n",
    "    'station_diur_temp_rng_c': 40,\n",
    "    'station_max_temp_c': 37,\n",
    "    'station_min_temp_c': 26,\n",
    "    'station_precip_mm': 32,\n",
    "    'weekofyear': 1,\n",
    "    'year': 1\n",
    "}\n",
    "iq_col_size = {\n",
    "    'precipitation_amt_mm': 33,\n",
    "    'reanalysis_air_temp_k': 10,\n",
    "    'reanalysis_avg_temp_k': 4,\n",
    "    'reanalysis_dew_point_temp_k': 6,\n",
    "    'reanalysis_max_air_temp_k': 41,\n",
    "    'reanalysis_min_air_temp_k': 40,\n",
    "    'reanalysis_precip_amt_kg_per_m2': 3,\n",
    "    'reanalysis_relative_humidity_percent': 7,\n",
    "    'reanalysis_sat_precip_amt_mm': 33,\n",
    "    'reanalysis_specific_humidity_g_per_kg': 26,\n",
    "    'reanalysis_tdtr_k': 34,\n",
    "    'station_avg_temp_c': 40,\n",
    "    'station_diur_temp_rng_c': 26,\n",
    "    'station_max_temp_c': 39,\n",
    "    'station_min_temp_c': 25,\n",
    "    'station_precip_mm':10,\n",
    "    'weekofyear': 1,\n",
    "    'year': 1\n",
    "}"
   ]
  },
  {
   "cell_type": "code",
   "execution_count": 5,
   "metadata": {},
   "outputs": [
    {
     "data": {
      "text/plain": [
       "['reanalysis_dew_point_temp_k',\n",
       " 'reanalysis_min_air_temp_k',\n",
       " 'reanalysis_relative_humidity_percent',\n",
       " 'reanalysis_specific_humidity_g_per_kg',\n",
       " 'weekofyear',\n",
       " 'year']"
      ]
     },
     "execution_count": 5,
     "metadata": {},
     "output_type": "execute_result"
    }
   ],
   "source": [
    "sj_datasets, sj_norm_scale, sj_columns = generate_lstm_data(\n",
    "    train_file, \n",
    "    single_step=True, \n",
    "    history_size=52, \n",
    "    cols=new_sj_cols, \n",
    "    norm_cols=new_sj_norm, \n",
    "    scale_cols=new_sj_scale,\n",
    "    extra_columns=extra_sj_cols,\n",
    "    prepend_with_file=train_file,\n",
    "    train_frac=1.0,\n",
    "    group_by_column=True\n",
    ")\n",
    "sj_train_x, sj_train_y = sj_datasets[0]\n",
    "sj_train_x = np.array(sj_train_x)\n",
    "sj_train_y = np.array(sj_train_y)\n",
    "iq_datasets, iq_norm_scale, iq_columns = generate_lstm_data(\n",
    "    train_file, \n",
    "    single_step=True, \n",
    "    history_size=52, \n",
    "    cols=new_iq_cols, \n",
    "    norm_cols=new_iq_norm, \n",
    "    scale_cols=new_iq_scale,\n",
    "    extra_columns=extra_iq_cols,\n",
    "    prepend_with_file=train_file,\n",
    "    train_frac=1.0,\n",
    "    group_by_column=True\n",
    ")\n",
    "iq_train_x, iq_train_y = iq_datasets[1]\n",
    "iq_train_x = np.array(iq_train_x)\n",
    "iq_train_y = np.array(iq_train_y)\n",
    "sj_columns"
   ]
  },
  {
   "cell_type": "code",
   "execution_count": 6,
   "metadata": {},
   "outputs": [
    {
     "data": {
      "text/plain": [
       "array([-1.70740217, -0.72849212,  0.21584676,  0.13669697,  0.4623938 ,\n",
       "        0.48149893,  0.4905966 ,  0.91454835,  0.81720321,  0.99096884,\n",
       "        0.60249803,  0.78900041,  0.55064127,  0.68619666,  0.91545812,\n",
       "        1.23569635,  1.0400963 ,  1.22386937,  0.65071572,  1.3357708 ,\n",
       "        0.85086461,  0.59431012,  0.99915675,  1.16746377,  0.92273626,\n",
       "        0.73987295,  0.91636789,  0.93547301,  0.37687564,  0.17854628,\n",
       "       -0.18081196, -0.19900732, -1.9685055 , -0.34184084, -1.90391199,\n",
       "       -2.0303697 , -1.1542634 , -1.07147454, -1.72741706, -1.60641795,\n",
       "       -1.2388718 , -1.351683  , -0.93228008, -1.07511361, -0.99596382,\n",
       "       -1.120602  , -1.17245876, -0.86313774, -1.66555285, -0.94228753,\n",
       "       -1.86297244, -0.67936466])"
      ]
     },
     "execution_count": 6,
     "metadata": {},
     "output_type": "execute_result"
    }
   ],
   "source": [
    "sj_train_x[53][0]"
   ]
  },
  {
   "cell_type": "code",
   "execution_count": 7,
   "metadata": {},
   "outputs": [
    {
     "data": {
      "text/plain": [
       "array([-0.86313774, -1.66555285, -0.94228753, -1.86297244, -0.67936466])"
      ]
     },
     "execution_count": 7,
     "metadata": {},
     "output_type": "execute_result"
    }
   ],
   "source": [
    "sj_train_x[53][0][-5:]"
   ]
  },
  {
   "cell_type": "code",
   "execution_count": 8,
   "metadata": {},
   "outputs": [
    {
     "data": {
      "text/plain": [
       "16.0"
      ]
     },
     "execution_count": 8,
     "metadata": {},
     "output_type": "execute_result"
    }
   ],
   "source": [
    "sj_train_y[53]"
   ]
  },
  {
   "cell_type": "code",
   "execution_count": 9,
   "metadata": {},
   "outputs": [
    {
     "name": "stdout",
     "output_type": "stream",
     "text": [
      "(936, 110)\n",
      "(520, 193)\n"
     ]
    }
   ],
   "source": [
    "trimed_sj_x = []\n",
    "trimed_iq_x = []\n",
    "\n",
    "def trim_data(data, columns, size_cols):\n",
    "    trimed_data = []\n",
    "    for row_i in range(data.shape[0]):\n",
    "        new_row = []\n",
    "        for col_i, col in enumerate(columns):\n",
    "            new_row = np.concatenate((new_row, data[row_i][col_i][-size_cols[col]:]), axis=None)\n",
    "\n",
    "        trimed_data.append(new_row)\n",
    "    return np.array(trimed_data)\n",
    "    \n",
    "trimed_sj_x = trim_data(sj_train_x, sj_columns, sj_col_size)\n",
    "trimed_iq_x = trim_data(iq_train_x, iq_columns, iq_col_size)\n",
    "\n",
    "print(trimed_sj_x.shape)\n",
    "print(trimed_iq_x.shape)"
   ]
  },
  {
   "cell_type": "code",
   "execution_count": null,
   "metadata": {},
   "outputs": [],
   "source": []
  },
  {
   "cell_type": "code",
   "execution_count": 10,
   "metadata": {},
   "outputs": [],
   "source": [
    "BATCH_SIZE = 16\n",
    "BUFFER_SIZE = 500\n",
    "train_sj_data_single = tf.data.Dataset.from_tensor_slices((trimed_sj_x, sj_train_y))\n",
    "train_sj_data_single = train_sj_data_single.cache().shuffle(BUFFER_SIZE).batch(BATCH_SIZE).repeat(10)\n",
    "\n",
    "# val_sj_data_single = tf.data.Dataset.from_tensor_slices((sj_val_x, sj_val_y))\n",
    "# val_sj_data_single = val_sj_data_single.batch(BATCH_SIZE).repeat()"
   ]
  },
  {
   "cell_type": "code",
   "execution_count": 11,
   "metadata": {},
   "outputs": [],
   "source": [
    "# Build network with \n",
    "def build_model(optimizer = None, nodes=256, input_shape=trimed_sj_x.shape[-1]):\n",
    "  model = tf.keras.Sequential([\n",
    "    tf.keras.layers.Input(shape=input_shape),\n",
    "    tf.keras.layers.Dense(nodes, activation='selu'),\n",
    "    tf.keras.layers.Dropout(0.5),\n",
    "    tf.keras.layers.Dense(nodes/4, activation='selu'),\n",
    "#     tf.keras.layers.Dropout(0.5),\n",
    "#     tf.keras.layers.Dense(nodes, activation='selu'),\n",
    "#     tf.keras.layers.Dropout(0.5),\n",
    "    tf.keras.layers.Dense(1)\n",
    "  ])\n",
    "\n",
    "  if not optimizer:\n",
    "    optimizer = tf.keras.optimizers.Adam(learning_rate=0.01, beta_1=0.9, beta_2=0.9999, amsgrad=False)\n",
    "\n",
    "  model.compile(loss='mae',\n",
    "                optimizer=optimizer,\n",
    "                metrics=['mae', 'mse'])\n",
    "  return model"
   ]
  },
  {
   "cell_type": "code",
   "execution_count": 20,
   "metadata": {},
   "outputs": [
    {
     "name": "stdout",
     "output_type": "stream",
     "text": [
      "Train for 200 steps\n",
      "Epoch 1/50\n",
      "200/200 [==============================] - 1s 7ms/step - loss: 22.8449 - mae: 22.7727 - mse: 2613.6389\n",
      "Epoch 2/50\n",
      "200/200 [==============================] - 1s 6ms/step - loss: 21.0203 - mae: 21.1175 - mse: 2464.2942\n",
      "Epoch 3/50\n",
      "200/200 [==============================] - 1s 6ms/step - loss: 20.5781 - mae: 20.5588 - mse: 2335.4260\n",
      "Epoch 4/50\n",
      "200/200 [==============================] - 1s 6ms/step - loss: 19.6838 - mae: 19.7495 - mse: 2236.6670\n",
      "Epoch 5/50\n",
      "200/200 [==============================] - 1s 6ms/step - loss: 19.2762 - mae: 19.2496 - mse: 2031.1874\n",
      "Epoch 6/50\n",
      "200/200 [==============================] - 1s 6ms/step - loss: 18.6853 - mae: 18.6174 - mse: 1856.4915\n",
      "Epoch 7/50\n",
      "200/200 [==============================] - 1s 6ms/step - loss: 17.4196 - mae: 17.3659 - mse: 1479.0792\n",
      "Epoch 8/50\n",
      "200/200 [==============================] - 1s 6ms/step - loss: 16.4753 - mae: 16.4714 - mse: 1030.9010\n",
      "Epoch 9/50\n",
      "200/200 [==============================] - 1s 5ms/step - loss: 15.1082 - mae: 15.1429 - mse: 822.0878\n",
      "Epoch 10/50\n",
      "200/200 [==============================] - 1s 6ms/step - loss: 14.5869 - mae: 14.5273 - mse: 727.2218\n",
      "Epoch 11/50\n",
      "193/200 [===========================>..] - ETA: 0s - loss: 14.2142 - mae: 14.2113 - mse: 624.7376\n",
      "Epoch 00011: ReduceLROnPlateau reducing learning rate to 0.007999999821186066.\n",
      "200/200 [==============================] - 1s 6ms/step - loss: 14.1824 - mae: 14.1794 - mse: 616.5948\n",
      "Epoch 12/50\n",
      "200/200 [==============================] - 1s 6ms/step - loss: 13.7480 - mae: 13.7517 - mse: 613.9080\n",
      "Epoch 13/50\n",
      "200/200 [==============================] - 1s 6ms/step - loss: 13.0231 - mae: 13.0765 - mse: 524.5090\n",
      "Epoch 14/50\n",
      "200/200 [==============================] - 1s 6ms/step - loss: 12.7387 - mae: 12.7376 - mse: 510.3244\n",
      "Epoch 15/50\n",
      "200/200 [==============================] - 1s 6ms/step - loss: 12.5125 - mae: 12.5304 - mse: 455.3246\n",
      "Epoch 16/50\n",
      "200/200 [==============================] - 1s 6ms/step - loss: 12.3396 - mae: 12.3383 - mse: 441.5769\n",
      "Epoch 17/50\n",
      "200/200 [==============================] - 1s 6ms/step - loss: 11.9183 - mae: 11.9507 - mse: 406.8839\n",
      "Epoch 18/50\n",
      "200/200 [==============================] - 1s 6ms/step - loss: 12.1849 - mae: 12.1830 - mse: 443.8789\n",
      "Epoch 19/50\n",
      "200/200 [==============================] - 1s 6ms/step - loss: 11.9810 - mae: 12.0127 - mse: 433.2897\n",
      "Epoch 20/50\n",
      "200/200 [==============================] - 1s 6ms/step - loss: 11.6632 - mae: 11.6580 - mse: 400.0677\n",
      "Epoch 21/50\n",
      "196/200 [============================>.] - ETA: 0s - loss: 11.9353 - mae: 12.0111 - mse: 450.2141\n",
      "Epoch 00021: ReduceLROnPlateau reducing learning rate to 0.006399999558925629.\n",
      "200/200 [==============================] - 1s 6ms/step - loss: 11.9204 - mae: 11.9942 - mse: 446.4312\n",
      "Epoch 22/50\n",
      "200/200 [==============================] - 1s 6ms/step - loss: 10.9806 - mae: 11.0116 - mse: 343.3132\n",
      "Epoch 23/50\n",
      "200/200 [==============================] - 1s 6ms/step - loss: 11.0182 - mae: 11.0314 - mse: 355.5160\n",
      "Epoch 24/50\n",
      "200/200 [==============================] - 1s 6ms/step - loss: 10.7661 - mae: 10.7387 - mse: 339.0417\n",
      "Epoch 25/50\n",
      "200/200 [==============================] - 1s 6ms/step - loss: 10.6555 - mae: 10.6684 - mse: 333.2258\n",
      "Epoch 26/50\n",
      "200/200 [==============================] - 1s 6ms/step - loss: 10.5990 - mae: 10.6197 - mse: 346.6081\n",
      "Epoch 27/50\n",
      "200/200 [==============================] - 1s 6ms/step - loss: 10.3581 - mae: 10.3741 - mse: 296.3649\n",
      "Epoch 28/50\n",
      "200/200 [==============================] - 1s 6ms/step - loss: 10.3445 - mae: 10.3597 - mse: 317.1505\n",
      "Epoch 29/50\n",
      "200/200 [==============================] - 1s 6ms/step - loss: 10.5420 - mae: 10.5360 - mse: 344.7596\n",
      "Epoch 30/50\n",
      "200/200 [==============================] - 1s 6ms/step - loss: 10.3023 - mae: 10.3280 - mse: 316.7069\n",
      "Epoch 31/50\n",
      "192/200 [===========================>..] - ETA: 0s - loss: 10.2144 - mae: 10.1879 - mse: 297.8339\n",
      "Epoch 00031: ReduceLROnPlateau reducing learning rate to 0.0051199994981288915.\n",
      "200/200 [==============================] - 1s 6ms/step - loss: 10.2148 - mae: 10.1818 - mse: 296.3646\n",
      "Epoch 32/50\n",
      "200/200 [==============================] - 1s 6ms/step - loss: 10.0072 - mae: 10.0223 - mse: 292.5570\n",
      "Epoch 33/50\n",
      "200/200 [==============================] - 1s 6ms/step - loss: 9.7719 - mae: 9.7851 - mse: 272.1056\n",
      "Epoch 34/50\n",
      "200/200 [==============================] - 1s 6ms/step - loss: 9.4993 - mae: 9.5125 - mse: 262.6633\n",
      "Epoch 35/50\n",
      "200/200 [==============================] - 1s 6ms/step - loss: 9.5228 - mae: 9.4861 - mse: 260.3716\n",
      "Epoch 36/50\n",
      "200/200 [==============================] - 1s 6ms/step - loss: 9.7799 - mae: 9.8258 - mse: 282.4360\n",
      "Epoch 37/50\n",
      "200/200 [==============================] - 1s 6ms/step - loss: 9.3823 - mae: 9.4089 - mse: 267.0714\n",
      "Epoch 38/50\n",
      "200/200 [==============================] - 1s 6ms/step - loss: 9.3762 - mae: 9.3773 - mse: 245.5285\n",
      "Epoch 39/50\n",
      "200/200 [==============================] - 1s 6ms/step - loss: 9.5727 - mae: 9.5807 - mse: 274.9344\n",
      "Epoch 40/50\n",
      "200/200 [==============================] - 1s 5ms/step - loss: 9.4063 - mae: 9.4282 - mse: 264.2122\n",
      "Epoch 41/50\n",
      "199/200 [============================>.] - ETA: 0s - loss: 8.9452 - mae: 8.9768 - mse: 222.2723\n",
      "Epoch 00041: ReduceLROnPlateau reducing learning rate to 0.004095999523997307.\n",
      "200/200 [==============================] - 1s 5ms/step - loss: 8.9411 - mae: 8.9723 - mse: 221.7138\n",
      "Epoch 42/50\n",
      "200/200 [==============================] - 1s 5ms/step - loss: 8.9774 - mae: 8.9859 - mse: 228.0997\n",
      "Epoch 43/50\n",
      "200/200 [==============================] - 1s 6ms/step - loss: 9.1726 - mae: 9.1916 - mse: 260.4525\n",
      "Epoch 44/50\n",
      "200/200 [==============================] - 1s 6ms/step - loss: 9.2124 - mae: 9.2177 - mse: 265.3460\n",
      "Epoch 45/50\n",
      "200/200 [==============================] - 1s 6ms/step - loss: 8.6426 - mae: 8.6455 - mse: 213.2154\n",
      "Epoch 46/50\n",
      "200/200 [==============================] - 1s 6ms/step - loss: 8.6951 - mae: 8.6912 - mse: 224.9744\n",
      "Epoch 47/50\n",
      "200/200 [==============================] - 1s 6ms/step - loss: 9.0322 - mae: 9.0566 - mse: 241.0531\n",
      "Epoch 48/50\n",
      "200/200 [==============================] - 1s 6ms/step - loss: 8.7233 - mae: 8.7183 - mse: 223.6590\n",
      "Epoch 49/50\n",
      "200/200 [==============================] - 1s 6ms/step - loss: 8.9262 - mae: 8.9475 - mse: 237.6974\n",
      "Epoch 50/50\n",
      "200/200 [==============================] - 1s 6ms/step - loss: 8.8542 - mae: 8.8753 - mse: 223.1243\n"
     ]
    }
   ],
   "source": [
    "log_dir=\"logs/fit/13mae\" + datetime.now().strftime(\"%Y%m%d-%H%M%S\")\n",
    "tensorboard_callback = tf.keras.callbacks.TensorBoard(log_dir=log_dir, histogram_freq=1)\n",
    "\n",
    "# create model\n",
    "# optimizer = tf.keras.optimizers.SGD(learning_rate=0.005, momentum=0.01, nesterov=False, name='SGD')\n",
    "\n",
    "\n",
    "# Train the Model.\n",
    "EVALUATION_INTERVAL = 200\n",
    "EPOCHS = 50\n",
    "\n",
    "# opt = tf.keras.optimizers.Adam(learning_rate=0.1, beta_1=0.9, beta_2=0.9999, amsgrad=False)\n",
    "reduce_lr = tf.keras.callbacks.ReduceLROnPlateau(monitor=\"mae\", factor=0.8, patience=10, min_lr=1e-6, verbose=1,\n",
    "                                                     mode=\"max\")\n",
    "\n",
    "train_sj_data_single = tf.data.Dataset.from_tensor_slices((trimed_sj_x, sj_train_y))\n",
    "train_sj_data_single = train_sj_data_single.cache().shuffle(BUFFER_SIZE).batch(BATCH_SIZE).repeat()\n",
    "\n",
    "opt = tf.keras.optimizers.RMSprop(\n",
    "    learning_rate=0.01, rho=0.9, momentum=0.0, epsilon=1e-07, centered=False,\n",
    "    name='RMSprop'\n",
    ")\n",
    "sj_model = build_model(optimizer=opt, nodes=80)\n",
    "history = sj_model.fit(\n",
    "    train_sj_data_single,\n",
    "    epochs=EPOCHS, \n",
    "    steps_per_epoch=EVALUATION_INTERVAL,\n",
    "    verbose=1,\n",
    "    callbacks=[tensorboard_callback, reduce_lr])"
   ]
  },
  {
   "cell_type": "code",
   "execution_count": 21,
   "metadata": {},
   "outputs": [
    {
     "name": "stdout",
     "output_type": "stream",
     "text": [
      "Train for 200 steps\n",
      "Epoch 1/4\n",
      "200/200 [==============================] - 2s 8ms/step - loss: 6.0674 - mae: 6.1260 - mse: 120.8641\n",
      "Epoch 2/4\n",
      "200/200 [==============================] - 1s 6ms/step - loss: 5.7483 - mae: 5.8024 - mse: 116.2971\n",
      "Epoch 3/4\n",
      "200/200 [==============================] - 1s 6ms/step - loss: 5.5916 - mae: 5.6446 - mse: 114.7845\n",
      "Epoch 4/4\n",
      "200/200 [==============================] - 1s 6ms/step - loss: 5.6265 - mae: 5.6764 - mse: 116.4221\n"
     ]
    }
   ],
   "source": [
    "train_iq_data_single = tf.data.Dataset.from_tensor_slices((trimed_iq_x, iq_train_y))\n",
    "train_iq_data_single = train_iq_data_single.cache().shuffle(BUFFER_SIZE).batch(BATCH_SIZE).repeat()\n",
    "\n",
    "EPOCHS = 4\n",
    "# opt = tf.keras.optimizers.Adam(learning_rate=0.1, beta_1=0.9, beta_2=0.9999, amsgrad=False)\n",
    "opt = tf.keras.optimizers.RMSprop(\n",
    "    learning_rate=0.001, rho=0.9, momentum=0.0, epsilon=1e-07, centered=False,\n",
    "    name='RMSprop'\n",
    ")\n",
    "iq_model = build_model(optimizer=opt, nodes=100, input_shape=trimed_iq_x.shape[-1])\n",
    "train_iq_data_single = tf.data.Dataset.from_tensor_slices((trimed_iq_x, iq_train_y))\n",
    "train_iq_data_single = train_iq_data_single.cache().batch(BATCH_SIZE).repeat()\n",
    "\n",
    "reduce_lr = tf.keras.callbacks.ReduceLROnPlateau(monitor=\"mae\", factor=0.8, patience=10, min_lr=1e-6, verbose=1,\n",
    "                                                     mode=\"max\")\n",
    "history = iq_model.fit(\n",
    "    train_iq_data_single,\n",
    "    epochs=EPOCHS, \n",
    "    steps_per_epoch=EVALUATION_INTERVAL,\n",
    "    verbose=1,\n",
    "    callbacks=[tensorboard_callback, reduce_lr])"
   ]
  },
  {
   "cell_type": "code",
   "execution_count": 22,
   "metadata": {},
   "outputs": [
    {
     "name": "stdout",
     "output_type": "stream",
     "text": [
      "(260, 110)\n",
      "260\n"
     ]
    }
   ],
   "source": [
    "file = train_file\n",
    "file = test_file\n",
    "\n",
    "org_sj_test_data, test_scale, sj_columns = generate_lstm_data(\n",
    "    file, history_size=52, \n",
    "    cols=new_sj_cols_no_label, \n",
    "    norm_cols=new_sj_norm, \n",
    "    scale_cols=new_sj_scale, \n",
    "    single_step=True, \n",
    "    train_frac=1.0, train_scale=sj_norm_scale, \n",
    "    prepend_with_file=train_file,\n",
    "    extra_columns=extra_sj_cols,\n",
    "    group_by_column=True\n",
    ")\n",
    "org_iq_test_data, test_scale, iq_columns = generate_lstm_data(\n",
    "    file, history_size=52, \n",
    "    cols=new_iq_cols_no_label, \n",
    "    norm_cols=new_iq_norm, \n",
    "    scale_cols=new_iq_scale, \n",
    "    single_step=True, \n",
    "    train_frac=1.0, train_scale=iq_norm_scale, \n",
    "    prepend_with_file=train_file,\n",
    "    extra_columns=extra_iq_cols,\n",
    "    group_by_column=True\n",
    ")\n",
    "sj_test_x, sj_test_y = org_sj_test_data[0]\n",
    "sj_test_x = np.array(sj_test_x)\n",
    "sj_test_y = np.array(sj_test_y)\n",
    "iq_test_x, iq_test_y = org_iq_test_data[1]\n",
    "iq_test_x = np.array(iq_test_x)\n",
    "iq_test_y = np.array(iq_test_y)\n",
    "trimed_test_sj_x = trim_data(sj_test_x, sj_columns, sj_col_size)\n",
    "trimed_test_iq_x = trim_data(iq_test_x, iq_columns, iq_col_size)\n",
    "sj_test_set = tf.data.Dataset.from_tensor_slices((trimed_test_sj_x, sj_test_y)).batch(len(sj_test_y))\n",
    "print(trimed_test_sj_x.shape)\n",
    "\n",
    "sj_pred = []\n",
    "for x, y in sj_test_set.take(1):\n",
    "    predictions = sj_model.predict(x)\n",
    "    sj_pred = predictions.flatten()\n",
    "    print(len(predictions.flatten()))"
   ]
  },
  {
   "cell_type": "code",
   "execution_count": 23,
   "metadata": {},
   "outputs": [
    {
     "name": "stdout",
     "output_type": "stream",
     "text": [
      "156\n"
     ]
    }
   ],
   "source": [
    "iq_test_set = tf.data.Dataset.from_tensor_slices((trimed_test_iq_x, iq_test_y)).batch(len(iq_test_y))\n",
    "iq_pred = []\n",
    "for x, y in iq_test_set.take(1):\n",
    "    predictions = iq_model.predict(x)\n",
    "    iq_pred = predictions.flatten()\n",
    "    print(len(predictions.flatten()))"
   ]
  },
  {
   "cell_type": "code",
   "execution_count": 24,
   "metadata": {},
   "outputs": [
    {
     "name": "stdout",
     "output_type": "stream",
     "text": [
      "416\n",
      "asas\n"
     ]
    }
   ],
   "source": [
    "from preprocessing_helpers import export_test_to_csv\n",
    "preds = np.concatenate((sj_pred, iq_pred), axis=None)\n",
    "export_test_to_csv(predictions=preds,path=file, prefix='test' if file == test_file else 'train')"
   ]
  },
  {
   "cell_type": "code",
   "execution_count": 29,
   "metadata": {},
   "outputs": [
    {
     "data": {
      "image/png": "[encoded data removed]",
      "text/plain": [
       "<IPython.core.display.Image object>"
      ]
     },
     "execution_count": 29,
     "metadata": {},
     "output_type": "execute_result"
    }
   ],
   "source": [
    "#Current Ranking (baseline)\n",
    "Image(\"img/current-27-05b.png\")"
   ]
  },
  {
   "cell_type": "code",
   "execution_count": 7,
   "metadata": {},
   "outputs": [
    {
     "data": {
      "image/png": "[encoded data removed]",
      "text/plain": [
       "<IPython.core.display.Image object>"
      ]
     },
     "execution_count": 7,
     "metadata": {},
     "output_type": "execute_result"
    }
   ],
   "source": [
    "#Second score\n",
    "Image(\"img/current-27-05c.png\")"
   ]
  },
  {
   "cell_type": "code",
   "execution_count": 3,
   "metadata": {},
   "outputs": [
    {
     "data": {
      "image/png": "[encoded data removed]",
      "text/plain": [
       "<IPython.core.display.Image object>"
      ]
     },
     "execution_count": 3,
     "metadata": {},
     "output_type": "execute_result"
    }
   ],
   "source": [
    "#Second score\n",
    "Image(\"img/current-31-05.png\")"
   ]
  },
  {
   "cell_type": "code",
   "execution_count": 4,
   "metadata": {},
   "outputs": [
    {
     "data": {
      "image/png": "[encoded data removed]",
      "text/plain": [
       "<IPython.core.display.Image object>"
      ]
     },
     "execution_count": 4,
     "metadata": {},
     "output_type": "execute_result"
    }
   ],
   "source": [
    "#Second score\n",
    "Image(\"img/current-01-06.png\")"
   ]
  },
  {
   "cell_type": "code",
   "execution_count": 15,
   "metadata": {},
   "outputs": [],
   "source": [
    "# Tensorboard\n",
    "# https://tensorboard.dev/experiment/rsdMubj0S165iOdLmbd13A/#scalars"
   ]
  },
  {
   "cell_type": "code",
   "execution_count": 49,
   "metadata": {},
   "outputs": [],
   "source": [
    "# sj_model.save('models/sj_model_17.57MAP.h5') \n",
    "# iq_model.save('models/iq_model_17.57MAP.h5') "
   ]
  },
  {
   "cell_type": "code",
   "execution_count": null,
   "metadata": {},
   "outputs": [],
   "source": []
  }
 ],
 "metadata": {
  "kernelspec": {
   "display_name": "Python 3",
   "language": "python",
   "name": "python3"
  },
  "language_info": {
   "codemirror_mode": {
    "name": "ipython",
    "version": 3
   },
   "file_extension": ".py",
   "mimetype": "text/x-python",
   "name": "python",
   "nbconvert_exporter": "python",
   "pygments_lexer": "ipython3",
   "version": "3.7.6"
  }
 },
 "nbformat": 4,
 "nbformat_minor": 4
}
