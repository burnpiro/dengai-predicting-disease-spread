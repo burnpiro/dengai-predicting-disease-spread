{
 "cells": [
  {
   "cell_type": "code",
   "execution_count": 1,
   "metadata": {},
   "outputs": [],
   "source": [
    "from __future__ import absolute_import, division, print_function, unicode_literals\n",
    "import functools\n",
    "from IPython.display import Image, clear_output\n",
    "\n",
    "import matplotlib.pyplot as plt\n",
    "from sklearn.preprocessing import StandardScaler, MinMaxScaler\n",
    "import numpy as np\n",
    "import tensorflow as tf\n",
    "import pandas as pd\n",
    "from data_info import *\n",
    "from preprocessing_helpers import *\n",
    "from datetime import datetime\n",
    "%matplotlib inline\n",
    "pd.set_option(\"display.precision\", 2)\n",
    "tf.random.set_seed(42)"
   ]
  },
  {
   "cell_type": "code",
   "execution_count": 208,
   "metadata": {},
   "outputs": [],
   "source": [
    "new_iq_norm = [\n",
    "                'reanalysis_tdtr_k',\n",
    "                'reanalysis_sat_precip_amt_mm',\n",
    "                'reanalysis_relative_humidity_percent',\n",
    "                'station_avg_temp_c',\n",
    "                'reanalysis_min_air_temp_k',\n",
    "                'reanalysis_dew_point_temp_k',\n",
    "                'reanalysis_specific_humidity_g_per_kg',\n",
    "]\n",
    "new_iq_scale = [\n",
    "                   'year',\n",
    "]\n",
    "\n",
    "extra_iq_cols = [\n",
    "]\n",
    "new_sj_norm = [\n",
    "                'precipitation_amt_mm',\n",
    "                'reanalysis_air_temp_k',\n",
    "                'reanalysis_avg_temp_k',\n",
    "                'reanalysis_max_air_temp_k',\n",
    "                'reanalysis_min_air_temp_k',\n",
    "                'reanalysis_precip_amt_kg_per_m2',\n",
    "                'reanalysis_relative_humidity_percent',\n",
    "                'reanalysis_sat_precip_amt_mm',\n",
    "                'station_avg_temp_c',\n",
    "                'station_max_temp_c',\n",
    "                'station_min_temp_c',\n",
    "                'station_precip_mm'\n",
    "]\n",
    "new_sj_scale = [\n",
    "                   'weekofyear',\n",
    "]\n",
    "\n",
    "extra_sj_cols = [\n",
    "]\n",
    "new_iq_cols = [LABEL_COLUMN] + CATEGORICAL_COLUMNS + new_iq_norm + new_iq_scale + extra_iq_cols + [DATETIME_COLUMN]\n",
    "new_iq_cols_no_label = CATEGORICAL_COLUMNS + new_iq_norm + new_iq_scale + extra_iq_cols + [DATETIME_COLUMN]\n",
    "new_sj_cols = [LABEL_COLUMN] + CATEGORICAL_COLUMNS + new_sj_norm + new_sj_scale + extra_sj_cols + [DATETIME_COLUMN]\n",
    "new_sj_cols_no_label = CATEGORICAL_COLUMNS + new_sj_norm + new_sj_scale + extra_sj_cols + [DATETIME_COLUMN]\n",
    "\n",
    "\n"
   ]
  },
  {
   "cell_type": "code",
   "execution_count": 256,
   "metadata": {},
   "outputs": [
    {
     "data": {
      "text/plain": [
       "936"
      ]
     },
     "execution_count": 256,
     "metadata": {},
     "output_type": "execute_result"
    }
   ],
   "source": [
    "sj_datasets, sj_norm_scale = generate_lstm_data(\n",
    "    train_file, \n",
    "    single_step=True, \n",
    "    history_size=24, \n",
    "    cols=new_sj_cols, \n",
    "    norm_cols=new_sj_norm, \n",
    "    scale_cols=new_sj_scale,\n",
    "    extra_columns=extra_sj_cols,\n",
    "    prepend_with_file=train_file,\n",
    "    train_frac=1.0\n",
    ")\n",
    "sj_train_x, sj_train_y = sj_datasets[0][0]\n",
    "iq_datasets, iq_norm_scale = generate_lstm_data(\n",
    "    train_file, \n",
    "    single_step=True, \n",
    "    history_size=32, \n",
    "    cols=new_iq_cols, \n",
    "    norm_cols=new_iq_norm, \n",
    "    scale_cols=new_iq_scale,\n",
    "    extra_columns=extra_iq_cols,\n",
    "    prepend_with_file=train_file,\n",
    "    train_frac=1.0\n",
    ")\n",
    "iq_train_x, iq_train_y = iq_datasets[1][0]\n",
    "len(sj_train_x)"
   ]
  },
  {
   "cell_type": "code",
   "execution_count": 257,
   "metadata": {},
   "outputs": [],
   "source": [
    "(sj_train_x, sj_train_y) = sj_datasets[0][0]\n",
    "(iq_train_x, iq_train_y) = iq_datasets[1][0]\n",
    "sj_train_x = sj_train_x.reshape(sj_train_x.shape[0], sj_train_x.shape[1] * sj_train_x.shape[2])\n",
    "iq_train_x = iq_train_x.reshape(iq_train_x.shape[0], iq_train_x.shape[1] * iq_train_x.shape[2])"
   ]
  },
  {
   "cell_type": "code",
   "execution_count": 258,
   "metadata": {},
   "outputs": [],
   "source": [
    "BATCH_SIZE = 16\n",
    "BUFFER_SIZE = 500\n",
    "train_sj_data_single = tf.data.Dataset.from_tensor_slices((sj_train_x, sj_train_y))\n",
    "train_sj_data_single = train_sj_data_single.cache().shuffle(BUFFER_SIZE).batch(BATCH_SIZE).repeat(10)\n",
    "\n",
    "# val_sj_data_single = tf.data.Dataset.from_tensor_slices((sj_val_x, sj_val_y))\n",
    "# val_sj_data_single = val_sj_data_single.batch(BATCH_SIZE).repeat()"
   ]
  },
  {
   "cell_type": "code",
   "execution_count": 259,
   "metadata": {},
   "outputs": [
    {
     "name": "stdout",
     "output_type": "stream",
     "text": [
      "(936, 312)\n"
     ]
    }
   ],
   "source": [
    "# Build network with \n",
    "def build_model(optimizer = None, nodes=256, input_shape=sj_train_x.shape[-1]):\n",
    "  model = tf.keras.Sequential([\n",
    "    tf.keras.layers.Input(shape=input_shape),\n",
    "    tf.keras.layers.Dense(nodes, activation='selu'),\n",
    "    tf.keras.layers.Dropout(0.5),\n",
    "    tf.keras.layers.Dense(nodes/2, activation='selu'),\n",
    "    tf.keras.layers.Dropout(0.5),\n",
    "    tf.keras.layers.Dense(1)\n",
    "  ])\n",
    "\n",
    "  if not optimizer:\n",
    "    optimizer = tf.keras.optimizers.Adam(learning_rate=0.01, beta_1=0.9, beta_2=0.9999, amsgrad=False)\n",
    "\n",
    "  model.compile(loss='mae',\n",
    "                optimizer=optimizer,\n",
    "                metrics=['mae', 'mse'])\n",
    "  return model\n",
    "\n",
    "print(sj_train_x.shape[-2:])"
   ]
  },
  {
   "cell_type": "code",
   "execution_count": 260,
   "metadata": {},
   "outputs": [
    {
     "name": "stdout",
     "output_type": "stream",
     "text": [
      "Train for 200 steps\n",
      "Epoch 1/8\n",
      "200/200 [==============================] - 1s 5ms/step - loss: 23.6283 - mae: 23.5620 - mse: 2523.5913\n",
      "Epoch 2/8\n",
      "200/200 [==============================] - 1s 3ms/step - loss: 20.7525 - mae: 20.8199 - mse: 2119.7437\n",
      "Epoch 3/8\n",
      "200/200 [==============================] - 1s 3ms/step - loss: 20.6126 - mae: 20.5155 - mse: 1942.2743\n",
      "Epoch 4/8\n",
      "191/200 [===========================>..] - ETA: 0s - loss: 19.1236 - mae: 19.1138 - mse: 1545.6267\n",
      "Epoch 00004: ReduceLROnPlateau reducing learning rate to 0.007999999821186066.\n",
      "200/200 [==============================] - 1s 3ms/step - loss: 19.0665 - mae: 19.0567 - mse: 1535.5420\n",
      "Epoch 5/8\n",
      "200/200 [==============================] - 1s 3ms/step - loss: 17.0777 - mae: 17.0841 - mse: 1203.8824\n",
      "Epoch 6/8\n",
      "200/200 [==============================] - 1s 3ms/step - loss: 16.6091 - mae: 16.6291 - mse: 1134.1952\n",
      "Epoch 7/8\n",
      "197/200 [============================>.] - ETA: 0s - loss: 15.9321 - mae: 15.9155 - mse: 1029.9720\n",
      "Epoch 00007: ReduceLROnPlateau reducing learning rate to 0.006399999558925629.\n",
      "200/200 [==============================] - 1s 3ms/step - loss: 16.0087 - mae: 15.9930 - mse: 1039.5637\n",
      "Epoch 8/8\n",
      "200/200 [==============================] - 1s 3ms/step - loss: 15.1304 - mae: 15.2082 - mse: 869.9626\n"
     ]
    }
   ],
   "source": [
    "log_dir=\"logs/fit/lstm\" + datetime.now().strftime(\"%Y%m%d-%H%M%S\")\n",
    "tensorboard_callback = tf.keras.callbacks.TensorBoard(log_dir=log_dir, histogram_freq=1)\n",
    "\n",
    "# create model\n",
    "# optimizer = tf.keras.optimizers.SGD(learning_rate=0.005, momentum=0.01, nesterov=False, name='SGD')\n",
    "\n",
    "\n",
    "# Train the Model.\n",
    "EVALUATION_INTERVAL = 200\n",
    "EPOCHS = 8\n",
    "\n",
    "# opt = tf.keras.optimizers.Adam(learning_rate=0.1, beta_1=0.9, beta_2=0.9999, amsgrad=False)\n",
    "reduce_lr = tf.keras.callbacks.ReduceLROnPlateau(monitor=\"mae\", factor=0.8, patience=3, min_lr=1e-6, verbose=1,\n",
    "                                                     mode=\"max\")\n",
    "\n",
    "train_sj_data_single = tf.data.Dataset.from_tensor_slices((sj_train_x, sj_train_y))\n",
    "train_sj_data_single = train_sj_data_single.cache().shuffle(BUFFER_SIZE).batch(BATCH_SIZE).repeat()\n",
    "\n",
    "opt = tf.keras.optimizers.RMSprop(\n",
    "    learning_rate=0.01, rho=0.9, momentum=0.0, epsilon=1e-07, centered=False,\n",
    "    name='RMSprop'\n",
    ")\n",
    "sj_model = build_model(optimizer=opt, nodes=80)\n",
    "history = sj_model.fit(\n",
    "    train_sj_data_single,\n",
    "    epochs=EPOCHS, \n",
    "    steps_per_epoch=EVALUATION_INTERVAL,\n",
    "    verbose=1,\n",
    "    callbacks=[tensorboard_callback, reduce_lr])"
   ]
  },
  {
   "cell_type": "code",
   "execution_count": 261,
   "metadata": {},
   "outputs": [
    {
     "name": "stdout",
     "output_type": "stream",
     "text": [
      "Train for 200 steps\n",
      "Epoch 1/22\n",
      "200/200 [==============================] - 1s 6ms/step - loss: 7.1778 - mae: 7.2382 - mse: 142.4678\n",
      "Epoch 2/22\n",
      "200/200 [==============================] - 1s 3ms/step - loss: 6.3266 - mae: 6.3800 - mse: 128.3225\n",
      "Epoch 3/22\n",
      "200/200 [==============================] - 1s 3ms/step - loss: 6.0856 - mae: 6.1311 - mse: 123.5562\n",
      "Epoch 4/22\n",
      "200/200 [==============================] - 1s 3ms/step - loss: 5.9684 - mae: 6.0243 - mse: 121.5550\n",
      "Epoch 5/22\n",
      "200/200 [==============================] - 1s 3ms/step - loss: 5.8419 - mae: 5.8898 - mse: 118.6618\n",
      "Epoch 6/22\n",
      "198/200 [============================>.] - ETA: 0s - loss: 5.6804 - mae: 5.7353 - mse: 115.7532\n",
      "Epoch 00006: ReduceLROnPlateau reducing learning rate to 0.000800000037997961.\n",
      "200/200 [==============================] - 1s 3ms/step - loss: 5.6425 - mae: 5.6960 - mse: 114.6366\n",
      "Epoch 7/22\n",
      "200/200 [==============================] - 1s 3ms/step - loss: 5.5578 - mae: 5.6199 - mse: 113.5947\n",
      "Epoch 8/22\n",
      "200/200 [==============================] - 1s 3ms/step - loss: 5.6164 - mae: 5.6657 - mse: 120.9204\n",
      "Epoch 9/22\n",
      "200/200 [==============================] - 1s 3ms/step - loss: 5.4852 - mae: 5.5380 - mse: 113.6847\n",
      "Epoch 10/22\n",
      "200/200 [==============================] - 1s 3ms/step - loss: 5.4375 - mae: 5.4947 - mse: 113.1635\n",
      "Epoch 11/22\n",
      "193/200 [===========================>..] - ETA: 0s - loss: 5.4360 - mae: 5.4909 - mse: 114.6526\n",
      "Epoch 00011: ReduceLROnPlateau reducing learning rate to 0.0006400000303983689.\n",
      "200/200 [==============================] - 1s 3ms/step - loss: 5.3759 - mae: 5.4277 - mse: 111.8560\n",
      "Epoch 12/22\n",
      "200/200 [==============================] - 1s 3ms/step - loss: 5.2629 - mae: 5.3144 - mse: 110.5180\n",
      "Epoch 13/22\n",
      "200/200 [==============================] - 1s 3ms/step - loss: 5.2904 - mae: 5.3422 - mse: 112.5812\n",
      "Epoch 14/22\n",
      "200/200 [==============================] - 1s 3ms/step - loss: 5.3208 - mae: 5.3752 - mse: 111.4306\n",
      "Epoch 15/22\n",
      "200/200 [==============================] - 1s 3ms/step - loss: 5.1364 - mae: 5.1881 - mse: 107.1595\n",
      "Epoch 16/22\n",
      "196/200 [============================>.] - ETA: 0s - loss: 5.1513 - mae: 5.2027 - mse: 107.5638\n",
      "Epoch 00016: ReduceLROnPlateau reducing learning rate to 0.0005120000336319208.\n",
      "200/200 [==============================] - 1s 4ms/step - loss: 5.1015 - mae: 5.1509 - mse: 105.6258\n",
      "Epoch 17/22\n",
      "200/200 [==============================] - 1s 3ms/step - loss: 5.0014 - mae: 5.0609 - mse: 102.6163\n",
      "Epoch 18/22\n",
      "200/200 [==============================] - 1s 3ms/step - loss: 4.9604 - mae: 5.0142 - mse: 103.3539\n",
      "Epoch 19/22\n",
      "200/200 [==============================] - 1s 4ms/step - loss: 4.9178 - mae: 4.9717 - mse: 102.2761\n",
      "Epoch 20/22\n",
      "200/200 [==============================] - 1s 3ms/step - loss: 4.9054 - mae: 4.9560 - mse: 101.5705\n",
      "Epoch 21/22\n",
      "198/200 [============================>.] - ETA: 0s - loss: 4.9268 - mae: 4.9787 - mse: 102.0554\n",
      "Epoch 00021: ReduceLROnPlateau reducing learning rate to 0.00040960004553198815.\n",
      "200/200 [==============================] - 1s 3ms/step - loss: 4.9899 - mae: 5.0420 - mse: 103.0873\n",
      "Epoch 22/22\n",
      "200/200 [==============================] - 1s 4ms/step - loss: 4.8006 - mae: 4.8458 - mse: 99.7366\n"
     ]
    }
   ],
   "source": [
    "train_iq_data_single = tf.data.Dataset.from_tensor_slices((iq_train_x, iq_train_y))\n",
    "train_iq_data_single = train_iq_data_single.cache().shuffle(BUFFER_SIZE).batch(BATCH_SIZE).repeat()\n",
    "\n",
    "EPOCHS = 22\n",
    "# opt = tf.keras.optimizers.Adam(learning_rate=0.1, beta_1=0.9, beta_2=0.9999, amsgrad=False)\n",
    "opt = tf.keras.optimizers.RMSprop(\n",
    "    learning_rate=0.001, rho=0.9, momentum=0.0, epsilon=1e-07, centered=False,\n",
    "    name='RMSprop'\n",
    ")\n",
    "iq_model = build_model(optimizer=opt, nodes=70, input_shape=iq_train_x.shape[-1])\n",
    "train_iq_data_single = tf.data.Dataset.from_tensor_slices((iq_train_x, iq_train_y))\n",
    "train_iq_data_single = train_iq_data_single.cache().batch(BATCH_SIZE).repeat()\n",
    "\n",
    "reduce_lr = tf.keras.callbacks.ReduceLROnPlateau(monitor=\"mae\", factor=0.8, patience=5, min_lr=1e-6, verbose=1,\n",
    "                                                     mode=\"max\")\n",
    "history = iq_model.fit(\n",
    "    train_iq_data_single,\n",
    "    epochs=EPOCHS, \n",
    "    steps_per_epoch=EVALUATION_INTERVAL,\n",
    "    verbose=1,\n",
    "    callbacks=[tensorboard_callback, reduce_lr])"
   ]
  },
  {
   "cell_type": "code",
   "execution_count": 265,
   "metadata": {},
   "outputs": [
    {
     "name": "stdout",
     "output_type": "stream",
     "text": [
      "260\n"
     ]
    }
   ],
   "source": [
    "file = train_file\n",
    "file = test_file\n",
    "\n",
    "org_sj_test_data, test_scale = generate_lstm_data(\n",
    "    file, history_size=24, \n",
    "    cols=new_sj_cols_no_label, \n",
    "    norm_cols=new_sj_norm, \n",
    "    scale_cols=new_sj_scale, \n",
    "    single_step=True, \n",
    "    train_frac=1.0, train_scale=sj_norm_scale, \n",
    "    prepend_with_file=train_file,\n",
    "    extra_columns=extra_sj_cols\n",
    ")\n",
    "org_iq_test_data, test_scale = generate_lstm_data(\n",
    "    file, history_size=32, \n",
    "    cols=new_iq_cols_no_label, \n",
    "    norm_cols=new_iq_norm, \n",
    "    scale_cols=new_iq_scale, \n",
    "    single_step=True, \n",
    "    train_frac=1.0, train_scale=iq_norm_scale, \n",
    "    prepend_with_file=train_file,\n",
    "    extra_columns=extra_iq_cols\n",
    ")\n",
    "(sj_test_x, sj_test_y), = org_sj_test_data[0]\n",
    "(iq_test_x, iq_test_y), = org_iq_test_data[1]\n",
    "sj_test_x = sj_test_x.reshape(sj_test_x.shape[0], sj_test_x.shape[1] * sj_test_x.shape[2])\n",
    "iq_test_x = iq_test_x.reshape(iq_test_x.shape[0], iq_test_x.shape[1] * iq_test_x.shape[2])\n",
    "sj_test_set = tf.data.Dataset.from_tensor_slices((sj_test_x, sj_test_y)).batch(len(sj_test_y))\n",
    "\n",
    "sj_pred = []\n",
    "for x, y in sj_test_set.take(1):\n",
    "    predictions = sj_model.predict(x)\n",
    "    sj_pred = predictions.flatten()\n",
    "    print(len(predictions.flatten()))"
   ]
  },
  {
   "cell_type": "code",
   "execution_count": 266,
   "metadata": {},
   "outputs": [
    {
     "name": "stdout",
     "output_type": "stream",
     "text": [
      "156\n"
     ]
    }
   ],
   "source": [
    "iq_test_set = tf.data.Dataset.from_tensor_slices((iq_test_x, iq_test_y)).batch(len(iq_test_y))\n",
    "iq_pred = []\n",
    "for x, y in iq_test_set.take(1):\n",
    "    predictions = iq_model.predict(x)\n",
    "    iq_pred = predictions.flatten()\n",
    "    print(len(predictions.flatten()))"
   ]
  },
  {
   "cell_type": "code",
   "execution_count": 267,
   "metadata": {},
   "outputs": [
    {
     "name": "stdout",
     "output_type": "stream",
     "text": [
      "416\n",
      "asas\n"
     ]
    }
   ],
   "source": [
    "from preprocessing_helpers import export_test_to_csv\n",
    "preds = np.concatenate((sj_pred, iq_pred), axis=None)\n",
    "export_test_to_csv(predictions=preds,path=file, prefix='test' if file == test_file else 'train')"
   ]
  },
  {
   "cell_type": "code",
   "execution_count": 268,
   "metadata": {},
   "outputs": [
    {
     "data": {
      "image/png": "[encoded data removed]",
      "text/plain": [
       "<IPython.core.display.Image object>"
      ]
     },
     "execution_count": 268,
     "metadata": {},
     "output_type": "execute_result"
    }
   ],
   "source": [
    "#Current Ranking (baseline)\n",
    "Image(\"img/current-13-05.png\")"
   ]
  },
  {
   "cell_type": "code",
   "execution_count": 15,
   "metadata": {},
   "outputs": [],
   "source": [
    "# Tensorboard\n",
    "# https://tensorboard.dev/experiment/rsdMubj0S165iOdLmbd13A/#scalars"
   ]
  },
  {
   "cell_type": "code",
   "execution_count": 269,
   "metadata": {},
   "outputs": [],
   "source": [
    "# sj_model.save('models/sj_model_20,2380MAP.h5') \n",
    "# iq_model.save('models/iq_model_20,2380MAP.h5') "
   ]
  },
  {
   "cell_type": "code",
   "execution_count": null,
   "metadata": {},
   "outputs": [],
   "source": []
  }
 ],
 "metadata": {
  "kernelspec": {
   "display_name": "Python 3",
   "language": "python",
   "name": "python3"
  },
  "language_info": {
   "codemirror_mode": {
    "name": "ipython",
    "version": 3
   },
   "file_extension": ".py",
   "mimetype": "text/x-python",
   "name": "python",
   "nbconvert_exporter": "python",
   "pygments_lexer": "ipython3",
   "version": "3.7.6"
  }
 },
 "nbformat": 4,
 "nbformat_minor": 4
}
